{
 "cells": [
  {
   "cell_type": "markdown",
   "metadata": {},
   "source": [
    "## Monitoria 1 - Econometría Básica\n",
    "### Pontificia Universidad Javeriana\n",
    "#### Introducción a Python"
   ]
  },
  {
   "cell_type": "markdown",
   "metadata": {},
   "source": [
    "En este repositorio buscaremos dar una breve introducción a Python para el análisis de datos. Se abordara la importación de diferentes tipos de bases de datos, la creación de graficas y la personalización de estas, el calculo de estadísticas descriptivas, la importación de imágenes y la realización de regresiones usando el método de mínimos cuadrados ordinarios."
   ]
  },
  {
   "cell_type": "code",
   "execution_count": 1,
   "metadata": {},
   "outputs": [],
   "source": [
    "# Importamos las librerias basicas y creamos una carpeta para guardar las bases de datos \n",
    "# y otra para las graficas (en el caso de necesitarse).\n",
    "import pandas as pd \n",
    "import numpy as np \n",
    "import os \n",
    "\n",
    "pathout = './data/'\n",
    "if not os.path.exists(pathout):\n",
    "    os.mkdir(pathout) \n",
    "    pathgraphs = './graphs/'\n",
    "    if not os.path.exists(pathgraphs): \n",
    "        os.mkdir(pathgraphs) \n",
    "        \n",
    "import matplotlib.pyplot as plt \n",
    "import matplotlib as mpl \n",
    "import seaborn as sns \n",
    "sns.set()\n"
   ]
  },
  {
   "cell_type": "code",
   "execution_count": 2,
   "metadata": {},
   "outputs": [],
   "source": [
    "# Importamos la base de datos que esta en EXCEL\n",
    "data1 = pd.read_excel(pathout + 'base1.xlsx')\n"
   ]
  },
  {
   "cell_type": "code",
   "execution_count": null,
   "metadata": {},
   "outputs": [],
   "source": [
    "#Otros tipos de datos muy comunes serían datos .dta, .csv o .html. Estos los podemos importar de la siguiente manera:\n",
    "\n",
    "# data1 = pd.read_csv(pathout + 'base1.csv')\n",
    "# data1 = pd.read_dta(pathout + 'base1.dta')\n",
    "# data1 = pd.read_html(pathout + 'base1.html')\n"
   ]
  },
  {
   "cell_type": "code",
   "execution_count": 3,
   "metadata": {},
   "outputs": [
    {
     "data": {
      "text/html": [
       "<div>\n",
       "<style scoped>\n",
       "    .dataframe tbody tr th:only-of-type {\n",
       "        vertical-align: middle;\n",
       "    }\n",
       "\n",
       "    .dataframe tbody tr th {\n",
       "        vertical-align: top;\n",
       "    }\n",
       "\n",
       "    .dataframe thead th {\n",
       "        text-align: right;\n",
       "    }\n",
       "</style>\n",
       "<table border=\"1\" class=\"dataframe\">\n",
       "  <thead>\n",
       "    <tr style=\"text-align: right;\">\n",
       "      <th></th>\n",
       "      <th>Fecha</th>\n",
       "      <th>Inflación</th>\n",
       "      <th>Tasa de desempleo</th>\n",
       "    </tr>\n",
       "  </thead>\n",
       "  <tbody>\n",
       "    <tr>\n",
       "      <th>0</th>\n",
       "      <td>2001-01-01</td>\n",
       "      <td>8.49</td>\n",
       "      <td>16.694680</td>\n",
       "    </tr>\n",
       "    <tr>\n",
       "      <th>1</th>\n",
       "      <td>2001-02-01</td>\n",
       "      <td>8.06</td>\n",
       "      <td>17.307023</td>\n",
       "    </tr>\n",
       "    <tr>\n",
       "      <th>2</th>\n",
       "      <td>2001-03-01</td>\n",
       "      <td>7.81</td>\n",
       "      <td>15.705056</td>\n",
       "    </tr>\n",
       "    <tr>\n",
       "      <th>3</th>\n",
       "      <td>2001-04-01</td>\n",
       "      <td>7.98</td>\n",
       "      <td>14.589864</td>\n",
       "    </tr>\n",
       "    <tr>\n",
       "      <th>4</th>\n",
       "      <td>2001-05-01</td>\n",
       "      <td>7.87</td>\n",
       "      <td>14.226299</td>\n",
       "    </tr>\n",
       "    <tr>\n",
       "      <th>...</th>\n",
       "      <td>...</td>\n",
       "      <td>...</td>\n",
       "      <td>...</td>\n",
       "    </tr>\n",
       "    <tr>\n",
       "      <th>230</th>\n",
       "      <td>2020-03-01</td>\n",
       "      <td>3.86</td>\n",
       "      <td>12.634106</td>\n",
       "    </tr>\n",
       "    <tr>\n",
       "      <th>231</th>\n",
       "      <td>2020-04-01</td>\n",
       "      <td>3.51</td>\n",
       "      <td>19.811142</td>\n",
       "    </tr>\n",
       "    <tr>\n",
       "      <th>232</th>\n",
       "      <td>2020-05-01</td>\n",
       "      <td>2.85</td>\n",
       "      <td>21.378492</td>\n",
       "    </tr>\n",
       "    <tr>\n",
       "      <th>233</th>\n",
       "      <td>2020-06-01</td>\n",
       "      <td>2.19</td>\n",
       "      <td>19.813177</td>\n",
       "    </tr>\n",
       "    <tr>\n",
       "      <th>234</th>\n",
       "      <td>2020-07-01</td>\n",
       "      <td>1.97</td>\n",
       "      <td>20.223529</td>\n",
       "    </tr>\n",
       "  </tbody>\n",
       "</table>\n",
       "<p>235 rows × 3 columns</p>\n",
       "</div>"
      ],
      "text/plain": [
       "         Fecha  Inflación  Tasa de desempleo\n",
       "0   2001-01-01       8.49          16.694680\n",
       "1   2001-02-01       8.06          17.307023\n",
       "2   2001-03-01       7.81          15.705056\n",
       "3   2001-04-01       7.98          14.589864\n",
       "4   2001-05-01       7.87          14.226299\n",
       "..         ...        ...                ...\n",
       "230 2020-03-01       3.86          12.634106\n",
       "231 2020-04-01       3.51          19.811142\n",
       "232 2020-05-01       2.85          21.378492\n",
       "233 2020-06-01       2.19          19.813177\n",
       "234 2020-07-01       1.97          20.223529\n",
       "\n",
       "[235 rows x 3 columns]"
      ]
     },
     "execution_count": 3,
     "metadata": {},
     "output_type": "execute_result"
    }
   ],
   "source": [
    "data1"
   ]
  },
  {
   "cell_type": "code",
   "execution_count": 4,
   "metadata": {},
   "outputs": [],
   "source": [
    "# Cambiamos los nombres de las variables\n",
    "data1.columns = ['Fecha', 'Inflacion', 'Desempleo']"
   ]
  },
  {
   "cell_type": "code",
   "execution_count": 5,
   "metadata": {},
   "outputs": [
    {
     "data": {
      "text/html": [
       "<div>\n",
       "<style scoped>\n",
       "    .dataframe tbody tr th:only-of-type {\n",
       "        vertical-align: middle;\n",
       "    }\n",
       "\n",
       "    .dataframe tbody tr th {\n",
       "        vertical-align: top;\n",
       "    }\n",
       "\n",
       "    .dataframe thead th {\n",
       "        text-align: right;\n",
       "    }\n",
       "</style>\n",
       "<table border=\"1\" class=\"dataframe\">\n",
       "  <thead>\n",
       "    <tr style=\"text-align: right;\">\n",
       "      <th></th>\n",
       "      <th>Fecha</th>\n",
       "      <th>Inflacion</th>\n",
       "      <th>Desempleo</th>\n",
       "    </tr>\n",
       "  </thead>\n",
       "  <tbody>\n",
       "    <tr>\n",
       "      <th>0</th>\n",
       "      <td>2001-01-01</td>\n",
       "      <td>8.49</td>\n",
       "      <td>16.694680</td>\n",
       "    </tr>\n",
       "    <tr>\n",
       "      <th>1</th>\n",
       "      <td>2001-02-01</td>\n",
       "      <td>8.06</td>\n",
       "      <td>17.307023</td>\n",
       "    </tr>\n",
       "    <tr>\n",
       "      <th>2</th>\n",
       "      <td>2001-03-01</td>\n",
       "      <td>7.81</td>\n",
       "      <td>15.705056</td>\n",
       "    </tr>\n",
       "    <tr>\n",
       "      <th>3</th>\n",
       "      <td>2001-04-01</td>\n",
       "      <td>7.98</td>\n",
       "      <td>14.589864</td>\n",
       "    </tr>\n",
       "    <tr>\n",
       "      <th>4</th>\n",
       "      <td>2001-05-01</td>\n",
       "      <td>7.87</td>\n",
       "      <td>14.226299</td>\n",
       "    </tr>\n",
       "    <tr>\n",
       "      <th>...</th>\n",
       "      <td>...</td>\n",
       "      <td>...</td>\n",
       "      <td>...</td>\n",
       "    </tr>\n",
       "    <tr>\n",
       "      <th>230</th>\n",
       "      <td>2020-03-01</td>\n",
       "      <td>3.86</td>\n",
       "      <td>12.634106</td>\n",
       "    </tr>\n",
       "    <tr>\n",
       "      <th>231</th>\n",
       "      <td>2020-04-01</td>\n",
       "      <td>3.51</td>\n",
       "      <td>19.811142</td>\n",
       "    </tr>\n",
       "    <tr>\n",
       "      <th>232</th>\n",
       "      <td>2020-05-01</td>\n",
       "      <td>2.85</td>\n",
       "      <td>21.378492</td>\n",
       "    </tr>\n",
       "    <tr>\n",
       "      <th>233</th>\n",
       "      <td>2020-06-01</td>\n",
       "      <td>2.19</td>\n",
       "      <td>19.813177</td>\n",
       "    </tr>\n",
       "    <tr>\n",
       "      <th>234</th>\n",
       "      <td>2020-07-01</td>\n",
       "      <td>1.97</td>\n",
       "      <td>20.223529</td>\n",
       "    </tr>\n",
       "  </tbody>\n",
       "</table>\n",
       "<p>235 rows × 3 columns</p>\n",
       "</div>"
      ],
      "text/plain": [
       "         Fecha  Inflacion  Desempleo\n",
       "0   2001-01-01       8.49  16.694680\n",
       "1   2001-02-01       8.06  17.307023\n",
       "2   2001-03-01       7.81  15.705056\n",
       "3   2001-04-01       7.98  14.589864\n",
       "4   2001-05-01       7.87  14.226299\n",
       "..         ...        ...        ...\n",
       "230 2020-03-01       3.86  12.634106\n",
       "231 2020-04-01       3.51  19.811142\n",
       "232 2020-05-01       2.85  21.378492\n",
       "233 2020-06-01       2.19  19.813177\n",
       "234 2020-07-01       1.97  20.223529\n",
       "\n",
       "[235 rows x 3 columns]"
      ]
     },
     "execution_count": 5,
     "metadata": {},
     "output_type": "execute_result"
    }
   ],
   "source": [
    "data1"
   ]
  },
  {
   "cell_type": "markdown",
   "metadata": {},
   "source": [
    "### Graficas:"
   ]
  },
  {
   "cell_type": "markdown",
   "metadata": {},
   "source": [
    "La primera grafica que se nos vendría a la mente para el tipo de datos que tenemos (datos de series de tiempo) seria una grafica de línea, contra el tiempo."
   ]
  },
  {
   "cell_type": "code",
   "execution_count": 6,
   "metadata": {},
   "outputs": [],
   "source": [
    "#Librerias para las graficas\n",
    "from matplotlib.pyplot import figure\n",
    "import matplotlib.pyplot as plt\n",
    "\n",
    "%matplotlib inline\n",
    "\n",
    "from matplotlib.dates import DateFormatter, DayLocator"
   ]
  },
  {
   "cell_type": "code",
   "execution_count": 7,
   "metadata": {},
   "outputs": [
    {
     "data": {
      "image/png": "[encoded data removed]",
      "text/plain": [
       "<Figure size 720x432 with 1 Axes>"
      ]
     },
     "metadata": {},
     "output_type": "display_data"
    }
   ],
   "source": [
    "plt.rc('font', size=12)\n",
    "\n",
    "#La figura se llamara ax\n",
    "fig, ax = plt.subplots(figsize=(10, 6))\n",
    "\n",
    "# Aca ponemos las variables a graficar, y algunos detalles de la grafica\n",
    "ax.plot(data1.Fecha, data1.Inflacion, color='tab:orange', label='Inflación')\n",
    "ax.plot(data1.Fecha, data1.Desempleo, color='tab:olive', linestyle='--',\n",
    "        label='Desempleo')\n",
    "\n",
    "# Poniendo nombres a los ejes\n",
    "ax.set_xlabel('Fecha')\n",
    "ax.set_ylabel('Porcentaje')\n",
    "ax.set_title('Inflación vs Desempleo')\n",
    "ax.grid(True)\n",
    "ax.legend(loc='upper left');\n",
    "\n",
    "\n",
    "#ax.xaxis.set_major_formatter(DateFormatter('%y/%m')) Esta es otra forma de mostrar la fecha en el eje x\n",
    "ax.xaxis.set_major_formatter(DateFormatter('%Y-%m'))"
   ]
  },
  {
   "cell_type": "markdown",
   "metadata": {},
   "source": [
    "Al crear una grafica podemos editar los colores, el tipo de línea, la forma en la que se muestran los ejes, etc. \n",
    "\n",
    "- Un ejemplo de los colores que podemos usar es: blue, red, olive, orange, purple.\n",
    "- Un ejemplo del tipo de línea que podemos usar es: dotted, dashdot, dashed.\n"
   ]
  },
  {
   "cell_type": "code",
   "execution_count": 8,
   "metadata": {},
   "outputs": [],
   "source": [
    "#Si queremos quedarnos con datos del 2010 en adelante\n",
    "post2010 = data1[data1.Fecha >= '2010-01-01']"
   ]
  },
  {
   "cell_type": "code",
   "execution_count": 12,
   "metadata": {},
   "outputs": [
    {
     "data": {
      "image/png": "[encoded data removed]",
      "text/plain": [
       "<Figure size 720x432 with 1 Axes>"
      ]
     },
     "metadata": {},
     "output_type": "display_data"
    }
   ],
   "source": [
    "plt.rc('font', size=12)\n",
    "\n",
    "fig, ax = plt.subplots(figsize=(10, 6))\n",
    "\n",
    "ax.plot(post2010.Fecha, post2010.Inflacion, color='tab:red', linestyle='dashdot' ,label='Inflación')\n",
    "ax.plot(post2010.Fecha, post2010.Desempleo, color='tab:blue', linestyle='dotted',\n",
    "        label='Desempleo')\n",
    "\n",
    "ax.set_xlabel('Fecha')\n",
    "ax.set_ylabel('Porcentaje')\n",
    "ax.set_title('Inflación vs Desempleo')\n",
    "ax.grid(True)\n",
    "ax.legend(loc='upper left');\n",
    "\n",
    "ax.xaxis.set_major_formatter(DateFormatter('%Y-%m'))"
   ]
  },
  {
   "cell_type": "markdown",
   "metadata": {},
   "source": [
    "Aunque las anteriores graficas son las mas comunes podríamos pensar en graficar un histograma y el Kernel, para ver como se distribuyen los datos.\n"
   ]
  },
  {
   "cell_type": "code",
   "execution_count": 34,
   "metadata": {},
   "outputs": [
    {
     "data": {
      "text/plain": [
       "<AxesSubplot:xlabel='Inflacion', ylabel='Density'>"
      ]
     },
     "execution_count": 34,
     "metadata": {},
     "output_type": "execute_result"
    },
    {
     "data": {
      "image/png": "[encoded data removed]",
      "text/plain": [
       "<Figure size 432x288 with 1 Axes>"
      ]
     },
     "metadata": {},
     "output_type": "display_data"
    }
   ],
   "source": [
    "import seaborn as sns\n",
    "\n",
    "\n",
    "sns.histplot(data1.Inflacion, color=\"red\", label=\"100% Equities\", kde=True, stat=\"density\", linewidth=0)\n"
   ]
  },
  {
   "cell_type": "markdown",
   "metadata": {},
   "source": [
    "Nótese que usamos una librería diferente para la grafica anterior. Para las primeras graficas usamos matplotlib y ahora usamos seaborn. La misma grafica podría hacerse con ambas librerías."
   ]
  },
  {
   "cell_type": "markdown",
   "metadata": {},
   "source": [
    "### Estadísticas descriptivas:\n",
    "Para calcular las estadísticas descriptivas (media, desviación estándar, mediana, covarianza y correlación) podemos hacer dos cosas. Opción 1: guardar los datos en una variable y luego \"imprimir el resultado\" o opción 2: correr el comando y automáticamente se mostrara el resultado. Para este ejemplo guardaremos la estimación de la media, desviación, etc. en variables, y después con el comando \"print\" mostramos el resultado."
   ]
  },
  {
   "cell_type": "code",
   "execution_count": 128,
   "metadata": {},
   "outputs": [],
   "source": [
    "import statistics "
   ]
  },
  {
   "cell_type": "code",
   "execution_count": 129,
   "metadata": {},
   "outputs": [
    {
     "name": "stdout",
     "output_type": "stream",
     "text": [
      "4.731404255319149\n"
     ]
    }
   ],
   "source": [
    "\n",
    "mediainflacion = statistics.mean(data1.Inflacion)\n",
    "\n",
    "print(mediainflacion)"
   ]
  },
  {
   "cell_type": "code",
   "execution_count": 130,
   "metadata": {},
   "outputs": [
    {
     "name": "stdout",
     "output_type": "stream",
     "text": [
      "1.8706183407913255\n"
     ]
    }
   ],
   "source": [
    "stdinf = statistics.stdev(data1.Inflacion)\n",
    "\n",
    "print(stdinf)"
   ]
  },
  {
   "cell_type": "code",
   "execution_count": 131,
   "metadata": {},
   "outputs": [],
   "source": [
    "from numpy import cov"
   ]
  },
  {
   "cell_type": "code",
   "execution_count": 132,
   "metadata": {},
   "outputs": [
    {
     "name": "stdout",
     "output_type": "stream",
     "text": [
      "[[3.49921298 1.49487432]\n",
      " [1.49487432 6.14624175]]\n"
     ]
    }
   ],
   "source": [
    "covarianza = cov(data1.Inflacion, data1.Desempleo)\n",
    "print(covarianza)"
   ]
  },
  {
   "cell_type": "code",
   "execution_count": 133,
   "metadata": {},
   "outputs": [],
   "source": [
    "from scipy.stats import pearsonr"
   ]
  },
  {
   "cell_type": "code",
   "execution_count": 134,
   "metadata": {},
   "outputs": [
    {
     "name": "stdout",
     "output_type": "stream",
     "text": [
      "(0.3223403517590097, 4.406834081823643e-07)\n"
     ]
    }
   ],
   "source": [
    "corr  = pearsonr(data1.Inflacion, data1.Desempleo)\n",
    "print(corr)"
   ]
  },
  {
   "cell_type": "markdown",
   "metadata": {},
   "source": [
    "Como se puede ver, usamos diferentes librerías para realizar los cálculos. Al igual que con las graficas cada librería nos da una opción para calcular las diferentes estadísticas descriptivas."
   ]
  },
  {
   "cell_type": "markdown",
   "metadata": {},
   "source": [
    "### Ejercicio:\n",
    "\n",
    "Utilice los datos de MEAPSINGLE para estudiar los efectos de los hogares donde los padres no están casados en el rendimiento académico de estudiantes en el área de matemáticas. Los datos son de escuelas en Estados Unidos para el año 2000. Las variables socioeconómicas se obtienen a nivel de código postal (donde el código postal se asigna a las escuelas según sus direcciones postales).\n",
    "\n",
    "1. Importe los datos de la base \"meansingle.dta\", calcule las estadisticas descriptivas de las variables math4, pctsgle, medinc, lmedinc y free. \n",
    "\n",
    "2. Usted quiere estimar el efecto de los padres solteros en el desempeño escolar. Realice la regresión simple de 𝑚𝑎𝑡h4 en 𝑝𝑐𝑡𝑠𝑔𝑙𝑒 e interprete.\n",
    "\n",
    "3. Finalmente, realice una regresion multiple agregando las variables medinc (en logaritmo) y free. Interprete."
   ]
  },
  {
   "cell_type": "code",
   "execution_count": 135,
   "metadata": {},
   "outputs": [],
   "source": [
    "#Esta base de datos esta en formato .dta\n",
    "data2 = pd.read_stata(pathout + 'meapsingle.dta')\n"
   ]
  },
  {
   "cell_type": "code",
   "execution_count": 136,
   "metadata": {},
   "outputs": [
    {
     "data": {
      "text/html": [
       "<div>\n",
       "<style scoped>\n",
       "    .dataframe tbody tr th:only-of-type {\n",
       "        vertical-align: middle;\n",
       "    }\n",
       "\n",
       "    .dataframe tbody tr th {\n",
       "        vertical-align: top;\n",
       "    }\n",
       "\n",
       "    .dataframe thead th {\n",
       "        text-align: right;\n",
       "    }\n",
       "</style>\n",
       "<table border=\"1\" class=\"dataframe\">\n",
       "  <thead>\n",
       "    <tr style=\"text-align: right;\">\n",
       "      <th></th>\n",
       "      <th>dcode</th>\n",
       "      <th>bcode</th>\n",
       "      <th>math4</th>\n",
       "      <th>read4</th>\n",
       "      <th>enroll</th>\n",
       "      <th>exppp</th>\n",
       "      <th>free</th>\n",
       "      <th>reduced</th>\n",
       "      <th>lunch</th>\n",
       "      <th>medinc</th>\n",
       "      <th>totchild</th>\n",
       "      <th>married</th>\n",
       "      <th>single</th>\n",
       "      <th>pctsgle</th>\n",
       "      <th>zipcode</th>\n",
       "      <th>lenroll</th>\n",
       "      <th>lexppp</th>\n",
       "      <th>lmedinc</th>\n",
       "    </tr>\n",
       "  </thead>\n",
       "  <tbody>\n",
       "    <tr>\n",
       "      <th>0</th>\n",
       "      <td>63010</td>\n",
       "      <td>3030</td>\n",
       "      <td>92.800003</td>\n",
       "      <td>82.500000</td>\n",
       "      <td>607</td>\n",
       "      <td>6619.540039</td>\n",
       "      <td>1.000000</td>\n",
       "      <td>0.7</td>\n",
       "      <td>1.700000</td>\n",
       "      <td>110322</td>\n",
       "      <td>4076</td>\n",
       "      <td>3542</td>\n",
       "      <td>534</td>\n",
       "      <td>13.101080</td>\n",
       "      <td>48009</td>\n",
       "      <td>6.408529</td>\n",
       "      <td>8.797781</td>\n",
       "      <td>11.611158</td>\n",
       "    </tr>\n",
       "    <tr>\n",
       "      <th>1</th>\n",
       "      <td>63010</td>\n",
       "      <td>3133</td>\n",
       "      <td>100.000000</td>\n",
       "      <td>94.300003</td>\n",
       "      <td>370</td>\n",
       "      <td>6619.540039</td>\n",
       "      <td>0.000000</td>\n",
       "      <td>0.0</td>\n",
       "      <td>0.000000</td>\n",
       "      <td>110322</td>\n",
       "      <td>4076</td>\n",
       "      <td>3542</td>\n",
       "      <td>534</td>\n",
       "      <td>13.101080</td>\n",
       "      <td>48009</td>\n",
       "      <td>5.913503</td>\n",
       "      <td>8.797781</td>\n",
       "      <td>11.611158</td>\n",
       "    </tr>\n",
       "    <tr>\n",
       "      <th>2</th>\n",
       "      <td>63270</td>\n",
       "      <td>2023</td>\n",
       "      <td>72.099998</td>\n",
       "      <td>46.500000</td>\n",
       "      <td>220</td>\n",
       "      <td>5607.560059</td>\n",
       "      <td>5.900000</td>\n",
       "      <td>5.0</td>\n",
       "      <td>10.900000</td>\n",
       "      <td>65119</td>\n",
       "      <td>2524</td>\n",
       "      <td>2091</td>\n",
       "      <td>433</td>\n",
       "      <td>17.155310</td>\n",
       "      <td>48017</td>\n",
       "      <td>5.393628</td>\n",
       "      <td>8.631871</td>\n",
       "      <td>11.083972</td>\n",
       "    </tr>\n",
       "    <tr>\n",
       "      <th>3</th>\n",
       "      <td>63270</td>\n",
       "      <td>2978</td>\n",
       "      <td>76.099998</td>\n",
       "      <td>65.699997</td>\n",
       "      <td>356</td>\n",
       "      <td>5829.529785</td>\n",
       "      <td>8.100000</td>\n",
       "      <td>2.8</td>\n",
       "      <td>10.900000</td>\n",
       "      <td>65119</td>\n",
       "      <td>2524</td>\n",
       "      <td>2091</td>\n",
       "      <td>433</td>\n",
       "      <td>17.155310</td>\n",
       "      <td>48017</td>\n",
       "      <td>5.874931</td>\n",
       "      <td>8.670691</td>\n",
       "      <td>11.083972</td>\n",
       "    </tr>\n",
       "    <tr>\n",
       "      <th>4</th>\n",
       "      <td>63010</td>\n",
       "      <td>316</td>\n",
       "      <td>95.199997</td>\n",
       "      <td>80.599998</td>\n",
       "      <td>329</td>\n",
       "      <td>6619.540039</td>\n",
       "      <td>0.300000</td>\n",
       "      <td>0.3</td>\n",
       "      <td>0.600000</td>\n",
       "      <td>109313</td>\n",
       "      <td>3486</td>\n",
       "      <td>3241</td>\n",
       "      <td>245</td>\n",
       "      <td>7.028112</td>\n",
       "      <td>48025</td>\n",
       "      <td>5.796058</td>\n",
       "      <td>8.797781</td>\n",
       "      <td>11.601971</td>\n",
       "    </tr>\n",
       "    <tr>\n",
       "      <th>5</th>\n",
       "      <td>63010</td>\n",
       "      <td>5670</td>\n",
       "      <td>88.599998</td>\n",
       "      <td>72.699997</td>\n",
       "      <td>331</td>\n",
       "      <td>6619.540039</td>\n",
       "      <td>1.200000</td>\n",
       "      <td>0.9</td>\n",
       "      <td>2.100000</td>\n",
       "      <td>109313</td>\n",
       "      <td>3486</td>\n",
       "      <td>3241</td>\n",
       "      <td>245</td>\n",
       "      <td>7.028112</td>\n",
       "      <td>48025</td>\n",
       "      <td>5.802118</td>\n",
       "      <td>8.797781</td>\n",
       "      <td>11.601971</td>\n",
       "    </tr>\n",
       "    <tr>\n",
       "      <th>6</th>\n",
       "      <td>63010</td>\n",
       "      <td>1494</td>\n",
       "      <td>95.199997</td>\n",
       "      <td>90.500000</td>\n",
       "      <td>288</td>\n",
       "      <td>6619.549805</td>\n",
       "      <td>12.200000</td>\n",
       "      <td>5.2</td>\n",
       "      <td>17.400000</td>\n",
       "      <td>109313</td>\n",
       "      <td>3486</td>\n",
       "      <td>3241</td>\n",
       "      <td>245</td>\n",
       "      <td>7.028112</td>\n",
       "      <td>48025</td>\n",
       "      <td>5.662961</td>\n",
       "      <td>8.797783</td>\n",
       "      <td>11.601971</td>\n",
       "    </tr>\n",
       "    <tr>\n",
       "      <th>7</th>\n",
       "      <td>63130</td>\n",
       "      <td>1631</td>\n",
       "      <td>66.699997</td>\n",
       "      <td>46.299999</td>\n",
       "      <td>452</td>\n",
       "      <td>6092.660156</td>\n",
       "      <td>50.200001</td>\n",
       "      <td>17.5</td>\n",
       "      <td>67.699997</td>\n",
       "      <td>43750</td>\n",
       "      <td>4651</td>\n",
       "      <td>3258</td>\n",
       "      <td>1393</td>\n",
       "      <td>29.950546</td>\n",
       "      <td>48030</td>\n",
       "      <td>6.113682</td>\n",
       "      <td>8.714840</td>\n",
       "      <td>10.686247</td>\n",
       "    </tr>\n",
       "    <tr>\n",
       "      <th>8</th>\n",
       "      <td>63130</td>\n",
       "      <td>1753</td>\n",
       "      <td>83.900002</td>\n",
       "      <td>44.599998</td>\n",
       "      <td>428</td>\n",
       "      <td>5155.399902</td>\n",
       "      <td>40.200001</td>\n",
       "      <td>10.0</td>\n",
       "      <td>50.200001</td>\n",
       "      <td>43750</td>\n",
       "      <td>4651</td>\n",
       "      <td>3258</td>\n",
       "      <td>1393</td>\n",
       "      <td>29.950546</td>\n",
       "      <td>48030</td>\n",
       "      <td>6.059123</td>\n",
       "      <td>8.547800</td>\n",
       "      <td>10.686247</td>\n",
       "    </tr>\n",
       "    <tr>\n",
       "      <th>9</th>\n",
       "      <td>63130</td>\n",
       "      <td>2254</td>\n",
       "      <td>95.699997</td>\n",
       "      <td>56.500000</td>\n",
       "      <td>238</td>\n",
       "      <td>6095.709961</td>\n",
       "      <td>24.400000</td>\n",
       "      <td>17.6</td>\n",
       "      <td>42.000000</td>\n",
       "      <td>43750</td>\n",
       "      <td>4651</td>\n",
       "      <td>3258</td>\n",
       "      <td>1393</td>\n",
       "      <td>29.950546</td>\n",
       "      <td>48030</td>\n",
       "      <td>5.472270</td>\n",
       "      <td>8.715341</td>\n",
       "      <td>10.686247</td>\n",
       "    </tr>\n",
       "  </tbody>\n",
       "</table>\n",
       "</div>"
      ],
      "text/plain": [
       "   dcode  bcode       math4      read4  enroll        exppp       free  \\\n",
       "0  63010   3030   92.800003  82.500000     607  6619.540039   1.000000   \n",
       "1  63010   3133  100.000000  94.300003     370  6619.540039   0.000000   \n",
       "2  63270   2023   72.099998  46.500000     220  5607.560059   5.900000   \n",
       "3  63270   2978   76.099998  65.699997     356  5829.529785   8.100000   \n",
       "4  63010    316   95.199997  80.599998     329  6619.540039   0.300000   \n",
       "5  63010   5670   88.599998  72.699997     331  6619.540039   1.200000   \n",
       "6  63010   1494   95.199997  90.500000     288  6619.549805  12.200000   \n",
       "7  63130   1631   66.699997  46.299999     452  6092.660156  50.200001   \n",
       "8  63130   1753   83.900002  44.599998     428  5155.399902  40.200001   \n",
       "9  63130   2254   95.699997  56.500000     238  6095.709961  24.400000   \n",
       "\n",
       "   reduced      lunch  medinc  totchild  married  single    pctsgle  zipcode  \\\n",
       "0      0.7   1.700000  110322      4076     3542     534  13.101080    48009   \n",
       "1      0.0   0.000000  110322      4076     3542     534  13.101080    48009   \n",
       "2      5.0  10.900000   65119      2524     2091     433  17.155310    48017   \n",
       "3      2.8  10.900000   65119      2524     2091     433  17.155310    48017   \n",
       "4      0.3   0.600000  109313      3486     3241     245   7.028112    48025   \n",
       "5      0.9   2.100000  109313      3486     3241     245   7.028112    48025   \n",
       "6      5.2  17.400000  109313      3486     3241     245   7.028112    48025   \n",
       "7     17.5  67.699997   43750      4651     3258    1393  29.950546    48030   \n",
       "8     10.0  50.200001   43750      4651     3258    1393  29.950546    48030   \n",
       "9     17.6  42.000000   43750      4651     3258    1393  29.950546    48030   \n",
       "\n",
       "    lenroll    lexppp    lmedinc  \n",
       "0  6.408529  8.797781  11.611158  \n",
       "1  5.913503  8.797781  11.611158  \n",
       "2  5.393628  8.631871  11.083972  \n",
       "3  5.874931  8.670691  11.083972  \n",
       "4  5.796058  8.797781  11.601971  \n",
       "5  5.802118  8.797781  11.601971  \n",
       "6  5.662961  8.797783  11.601971  \n",
       "7  6.113682  8.714840  10.686247  \n",
       "8  6.059123  8.547800  10.686247  \n",
       "9  5.472270  8.715341  10.686247  "
      ]
     },
     "execution_count": 136,
     "metadata": {},
     "output_type": "execute_result"
    }
   ],
   "source": [
    "#Solo quiero ver los 10 primeros datos\n",
    "data2.head(n=10)"
   ]
  },
  {
   "cell_type": "code",
   "execution_count": 137,
   "metadata": {},
   "outputs": [],
   "source": [
    "#Estadisticas descriptivas de math4, pctsgle, medinc, lmedinc y free"
   ]
  },
  {
   "cell_type": "code",
   "execution_count": 138,
   "metadata": {},
   "outputs": [
    {
     "data": {
      "text/plain": [
       "80.65807846435814"
      ]
     },
     "execution_count": 138,
     "metadata": {},
     "output_type": "execute_result"
    }
   ],
   "source": [
    "statistics.mean(data2.math4)\n"
   ]
  },
  {
   "cell_type": "code",
   "execution_count": 139,
   "metadata": {},
   "outputs": [
    {
     "data": {
      "text/plain": [
       "15.808616412113512"
      ]
     },
     "execution_count": 139,
     "metadata": {},
     "output_type": "execute_result"
    }
   ],
   "source": [
    "statistics.stdev(data2.math4)\n"
   ]
  },
  {
   "cell_type": "code",
   "execution_count": 140,
   "metadata": {},
   "outputs": [
    {
     "data": {
      "text/plain": [
       "85.69999694824219"
      ]
     },
     "execution_count": 140,
     "metadata": {},
     "output_type": "execute_result"
    }
   ],
   "source": [
    "statistics.median(data2.math4)\n"
   ]
  },
  {
   "cell_type": "code",
   "execution_count": 141,
   "metadata": {},
   "outputs": [
    {
     "data": {
      "text/plain": [
       "100.0"
      ]
     },
     "execution_count": 141,
     "metadata": {},
     "output_type": "execute_result"
    }
   ],
   "source": [
    "statistics.mode(data2.math4)\n"
   ]
  },
  {
   "cell_type": "markdown",
   "metadata": {},
   "source": [
    "De la misma forma podríamos calcular estas estadísticas descriptivas para las demás variables. Nótese que aquí no guardamos los datos en variables sino que simplemente corrimos el comando y Python ya nos da el resultado."
   ]
  },
  {
   "cell_type": "markdown",
   "metadata": {},
   "source": [
    "#### Regresión Simple\n",
    "La librería mas conocida para realizar la mayoría de métodos econométricos es statsmodels. Con esta librería es suficiente para realizar lo que se propone en este repositorio. Hay algunas opciones que statsmodels no ofrece, por lo que en esos casos se debe usar otra librería."
   ]
  },
  {
   "cell_type": "code",
   "execution_count": 142,
   "metadata": {},
   "outputs": [],
   "source": [
    "import statsmodels.api as sm\n",
    "import statsmodels.formula.api as smf\n"
   ]
  },
  {
   "cell_type": "markdown",
   "metadata": {},
   "source": [
    "Por mantener un orden podemos guardar nuestra variable dependiente en una variable \"Y\" y nuestras variables independientes en una matriz \"X\". Esto tiene mas sentido en las regresiones múltiples (mas adelante tendremos un ejemplo)."
   ]
  },
  {
   "cell_type": "code",
   "execution_count": 143,
   "metadata": {},
   "outputs": [
    {
     "name": "stdout",
     "output_type": "stream",
     "text": [
      "                            OLS Regression Results                            \n",
      "==============================================================================\n",
      "Dep. Variable:                  math4   R-squared:                       0.380\n",
      "Model:                            OLS   Adj. R-squared:                  0.377\n",
      "Method:                 Least Squares   F-statistic:                     138.9\n",
      "Date:                Sun, 09 May 2021   Prob (F-statistic):           2.54e-25\n",
      "Time:                        17:03:08   Log-Likelihood:                -901.95\n",
      "No. Observations:                 229   AIC:                             1808.\n",
      "Df Residuals:                     227   BIC:                             1815.\n",
      "Df Model:                           1                                         \n",
      "Covariance Type:            nonrobust                                         \n",
      "==============================================================================\n",
      "                 coef    std err          t      P>|t|      [0.025      0.975]\n",
      "------------------------------------------------------------------------------\n",
      "const         96.7704      1.597     60.603      0.000      93.624      99.917\n",
      "pctsgle       -0.8329      0.071    -11.784      0.000      -0.972      -0.694\n",
      "==============================================================================\n",
      "Omnibus:                        8.632   Durbin-Watson:                   1.621\n",
      "Prob(Omnibus):                  0.013   Jarque-Bera (JB):               13.624\n",
      "Skew:                          -0.190   Prob(JB):                      0.00110\n",
      "Kurtosis:                       4.133   Cond. No.                         43.8\n",
      "==============================================================================\n",
      "\n",
      "Notes:\n",
      "[1] Standard Errors assume that the covariance matrix of the errors is correctly specified.\n"
     ]
    }
   ],
   "source": [
    "\n",
    "X = data2.pctsgle\n",
    "Y = data2.math4\n",
    "#Debemos agregar manualmente el termino constante.\n",
    "X = sm.add_constant(X)\n",
    "\n",
    "modelo1 = sm.OLS(endog=Y, exog=X,)\n",
    "modelo1 = modelo1.fit()\n",
    "print(modelo1.summary())\n"
   ]
  },
  {
   "cell_type": "markdown",
   "metadata": {},
   "source": [
    "#### Como aplicar logaritmo a una variable:\n",
    "Ahora vamos a pasar la variable medinc a logaritmos. Entre los diferentes argumentos para hacer esto, uno a resaltar es que intuitivamente es mas claro analizar el efecto que tiene un aumento porcentual en el ingreso medio de las familias sobre los resultados en la prueba de matemáticas que el efecto de un aumento de 1 dólar o 1 peso. Tambien se argumenta que aplicar log es una manera conveniente para transformar una variable muy sesgada (o con outliers) en un conjunto de datos más normalizado."
   ]
  },
  {
   "cell_type": "code",
   "execution_count": 144,
   "metadata": {},
   "outputs": [],
   "source": [
    "#En la base ya teneos la variable en log, pero vamos a crear una nosotros:\n",
    "\n",
    "logmedinc = np.log(data2.medinc)\n"
   ]
  },
  {
   "cell_type": "code",
   "execution_count": 145,
   "metadata": {},
   "outputs": [
    {
     "data": {
      "text/plain": [
       "0      11.611159\n",
       "1      11.611159\n",
       "2      11.083972\n",
       "3      11.083972\n",
       "4      11.601971\n",
       "         ...    \n",
       "224    10.773253\n",
       "225    10.876007\n",
       "226    10.993379\n",
       "227    10.993379\n",
       "228    10.713150\n",
       "Name: medinc, Length: 229, dtype: float64"
      ]
     },
     "execution_count": 145,
     "metadata": {},
     "output_type": "execute_result"
    }
   ],
   "source": [
    "#Nuestra variable\n",
    "logmedinc"
   ]
  },
  {
   "cell_type": "code",
   "execution_count": 146,
   "metadata": {},
   "outputs": [
    {
     "data": {
      "text/plain": [
       "0      11.611158\n",
       "1      11.611158\n",
       "2      11.083972\n",
       "3      11.083972\n",
       "4      11.601971\n",
       "         ...    \n",
       "224    10.773252\n",
       "225    10.876007\n",
       "226    10.993379\n",
       "227    10.993379\n",
       "228    10.713150\n",
       "Name: lmedinc, Length: 229, dtype: float32"
      ]
     },
     "execution_count": 146,
     "metadata": {},
     "output_type": "execute_result"
    }
   ],
   "source": [
    "#La variable de la base de datos\n",
    "data2.lmedinc"
   ]
  },
  {
   "cell_type": "markdown",
   "metadata": {},
   "source": [
    "#### Regresión Multiple"
   ]
  },
  {
   "cell_type": "code",
   "execution_count": 147,
   "metadata": {},
   "outputs": [],
   "source": [
    "#En una matriz incluiremos todos nuestros regresores. Esta matriz se llamara XM\n",
    "XM = data2[['pctsgle', 'free']].copy()\n",
    "XM['logmedinc'] = logmedinc\n",
    "#Añadimos una constante\n",
    "XM = sm.add_constant(XM)"
   ]
  },
  {
   "cell_type": "code",
   "execution_count": 148,
   "metadata": {},
   "outputs": [
    {
     "data": {
      "text/html": [
       "<div>\n",
       "<style scoped>\n",
       "    .dataframe tbody tr th:only-of-type {\n",
       "        vertical-align: middle;\n",
       "    }\n",
       "\n",
       "    .dataframe tbody tr th {\n",
       "        vertical-align: top;\n",
       "    }\n",
       "\n",
       "    .dataframe thead th {\n",
       "        text-align: right;\n",
       "    }\n",
       "</style>\n",
       "<table border=\"1\" class=\"dataframe\">\n",
       "  <thead>\n",
       "    <tr style=\"text-align: right;\">\n",
       "      <th></th>\n",
       "      <th>const</th>\n",
       "      <th>pctsgle</th>\n",
       "      <th>free</th>\n",
       "      <th>logmedinc</th>\n",
       "    </tr>\n",
       "  </thead>\n",
       "  <tbody>\n",
       "    <tr>\n",
       "      <th>0</th>\n",
       "      <td>1.0</td>\n",
       "      <td>13.101080</td>\n",
       "      <td>1.000000</td>\n",
       "      <td>11.611159</td>\n",
       "    </tr>\n",
       "    <tr>\n",
       "      <th>1</th>\n",
       "      <td>1.0</td>\n",
       "      <td>13.101080</td>\n",
       "      <td>0.000000</td>\n",
       "      <td>11.611159</td>\n",
       "    </tr>\n",
       "    <tr>\n",
       "      <th>2</th>\n",
       "      <td>1.0</td>\n",
       "      <td>17.155310</td>\n",
       "      <td>5.900000</td>\n",
       "      <td>11.083972</td>\n",
       "    </tr>\n",
       "    <tr>\n",
       "      <th>3</th>\n",
       "      <td>1.0</td>\n",
       "      <td>17.155310</td>\n",
       "      <td>8.100000</td>\n",
       "      <td>11.083972</td>\n",
       "    </tr>\n",
       "    <tr>\n",
       "      <th>4</th>\n",
       "      <td>1.0</td>\n",
       "      <td>7.028112</td>\n",
       "      <td>0.300000</td>\n",
       "      <td>11.601971</td>\n",
       "    </tr>\n",
       "    <tr>\n",
       "      <th>...</th>\n",
       "      <td>...</td>\n",
       "      <td>...</td>\n",
       "      <td>...</td>\n",
       "      <td>...</td>\n",
       "    </tr>\n",
       "    <tr>\n",
       "      <th>224</th>\n",
       "      <td>1.0</td>\n",
       "      <td>22.107969</td>\n",
       "      <td>24.799999</td>\n",
       "      <td>10.773253</td>\n",
       "    </tr>\n",
       "    <tr>\n",
       "      <th>225</th>\n",
       "      <td>1.0</td>\n",
       "      <td>20.447109</td>\n",
       "      <td>13.900000</td>\n",
       "      <td>10.876007</td>\n",
       "    </tr>\n",
       "    <tr>\n",
       "      <th>226</th>\n",
       "      <td>1.0</td>\n",
       "      <td>17.508417</td>\n",
       "      <td>25.100000</td>\n",
       "      <td>10.993379</td>\n",
       "    </tr>\n",
       "    <tr>\n",
       "      <th>227</th>\n",
       "      <td>1.0</td>\n",
       "      <td>17.508417</td>\n",
       "      <td>20.799999</td>\n",
       "      <td>10.993379</td>\n",
       "    </tr>\n",
       "    <tr>\n",
       "      <th>228</th>\n",
       "      <td>1.0</td>\n",
       "      <td>24.757954</td>\n",
       "      <td>32.200001</td>\n",
       "      <td>10.713150</td>\n",
       "    </tr>\n",
       "  </tbody>\n",
       "</table>\n",
       "<p>229 rows × 4 columns</p>\n",
       "</div>"
      ],
      "text/plain": [
       "     const    pctsgle       free  logmedinc\n",
       "0      1.0  13.101080   1.000000  11.611159\n",
       "1      1.0  13.101080   0.000000  11.611159\n",
       "2      1.0  17.155310   5.900000  11.083972\n",
       "3      1.0  17.155310   8.100000  11.083972\n",
       "4      1.0   7.028112   0.300000  11.601971\n",
       "..     ...        ...        ...        ...\n",
       "224    1.0  22.107969  24.799999  10.773253\n",
       "225    1.0  20.447109  13.900000  10.876007\n",
       "226    1.0  17.508417  25.100000  10.993379\n",
       "227    1.0  17.508417  20.799999  10.993379\n",
       "228    1.0  24.757954  32.200001  10.713150\n",
       "\n",
       "[229 rows x 4 columns]"
      ]
     },
     "execution_count": 148,
     "metadata": {},
     "output_type": "execute_result"
    }
   ],
   "source": [
    "#Nuestras variables independientes quedaran entonces en esta matriz XM\n",
    "\n",
    "XM"
   ]
  },
  {
   "cell_type": "code",
   "execution_count": 149,
   "metadata": {},
   "outputs": [
    {
     "name": "stdout",
     "output_type": "stream",
     "text": [
      "                            OLS Regression Results                            \n",
      "==============================================================================\n",
      "Dep. Variable:                  math4   R-squared:                       0.460\n",
      "Model:                            OLS   Adj. R-squared:                  0.453\n",
      "Method:                 Least Squares   F-statistic:                     63.85\n",
      "Date:                Sun, 09 May 2021   Prob (F-statistic):           6.63e-30\n",
      "Time:                        17:03:10   Log-Likelihood:                -886.08\n",
      "No. Observations:                 229   AIC:                             1780.\n",
      "Df Residuals:                     225   BIC:                             1794.\n",
      "Df Model:                           3                                         \n",
      "Covariance Type:            nonrobust                                         \n",
      "==============================================================================\n",
      "                 coef    std err          t      P>|t|      [0.025      0.975]\n",
      "------------------------------------------------------------------------------\n",
      "const         51.7238     58.478      0.884      0.377     -63.511     166.959\n",
      "pctsgle       -0.1996      0.159     -1.258      0.210      -0.512       0.113\n",
      "free          -0.3964      0.070     -5.635      0.000      -0.535      -0.258\n",
      "logmedinc      3.5601      5.042      0.706      0.481      -6.375      13.495\n",
      "==============================================================================\n",
      "Omnibus:                        8.076   Durbin-Watson:                   1.533\n",
      "Prob(Omnibus):                  0.018   Jarque-Bera (JB):               13.783\n",
      "Skew:                           0.111   Prob(JB):                      0.00102\n",
      "Kurtosis:                       4.181   Cond. No.                     2.64e+03\n",
      "==============================================================================\n",
      "\n",
      "Notes:\n",
      "[1] Standard Errors assume that the covariance matrix of the errors is correctly specified.\n",
      "[2] The condition number is large, 2.64e+03. This might indicate that there are\n",
      "strong multicollinearity or other numerical problems.\n"
     ]
    }
   ],
   "source": [
    "#Regresión Multiple\n",
    "modelo2 = sm.OLS(endog=Y, exog=XM,)\n",
    "modelo2 = modelo2.fit()\n",
    "print(modelo2.summary())"
   ]
  },
  {
   "cell_type": "markdown",
   "metadata": {},
   "source": [
    "Ahora exportemos las dos regresiones en una sola tabla Latex usando Pystout."
   ]
  },
  {
   "cell_type": "code",
   "execution_count": 150,
   "metadata": {},
   "outputs": [],
   "source": [
    "from pystout import pystout"
   ]
  },
  {
   "cell_type": "code",
   "execution_count": 151,
   "metadata": {},
   "outputs": [],
   "source": [
    "pystout(models=[modelo1,modelo2],\n",
    "        file='tabla1.tex',\n",
    "       \n",
    "        addnotes=['*$p < 0.1$ , ** $p < 0.05$ , *** $p < 0.01$',\n",
    "                  'Errores estándar en paréntesis.'],\n",
    "        digits=3,\n",
    "        endog_names=['Reg. Simple','Reg. Multiple'],\n",
    "        varlabels={'const':'Constante','displacement':'Disp','mpg':'MPG'},\n",
    "         mgroups={'math4':[1,2]},\n",
    "        modstat={'nobs':'Obs','rsquared':'R\\sym{2}','fvalue':'F-stat'},\n",
    "        stars={.1:'*',.05:'**',.01:'***'}\n",
    "        )"
   ]
  },
  {
   "cell_type": "markdown",
   "metadata": {},
   "source": [
    "El resultado que obtenemos es:"
   ]
  },
  {
   "cell_type": "markdown",
   "metadata": {},
   "source": [
    "### Tabla de Regresión 1"
   ]
  },
  {
   "cell_type": "markdown",
   "metadata": {},
   "source": [
    "![title](tabla1.png)"
   ]
  },
  {
   "cell_type": "markdown",
   "metadata": {},
   "source": [
    "Esta tabla de regresion es una imagen. Pystout nos genera el codigo para crear la tabla, la cual creamos en un editor latex, para posterior mente agregarla al Jupyter Notebook.\n",
    "\n",
    "Ahora, en la tabla de regresion vemos que parece que existe una correlación muy alta entre nuestros regresores.Vamos a probarlo con el coeficiente de correlación."
   ]
  },
  {
   "cell_type": "code",
   "execution_count": 152,
   "metadata": {},
   "outputs": [
    {
     "data": {
      "text/html": [
       "<div>\n",
       "<style scoped>\n",
       "    .dataframe tbody tr th:only-of-type {\n",
       "        vertical-align: middle;\n",
       "    }\n",
       "\n",
       "    .dataframe tbody tr th {\n",
       "        vertical-align: top;\n",
       "    }\n",
       "\n",
       "    .dataframe thead th {\n",
       "        text-align: right;\n",
       "    }\n",
       "</style>\n",
       "<table border=\"1\" class=\"dataframe\">\n",
       "  <thead>\n",
       "    <tr style=\"text-align: right;\">\n",
       "      <th></th>\n",
       "      <th>pctsgle</th>\n",
       "      <th>lmedinc</th>\n",
       "      <th>free</th>\n",
       "    </tr>\n",
       "  </thead>\n",
       "  <tbody>\n",
       "    <tr>\n",
       "      <th>pctsgle</th>\n",
       "      <td>1.000000</td>\n",
       "      <td>-0.868636</td>\n",
       "      <td>0.826357</td>\n",
       "    </tr>\n",
       "    <tr>\n",
       "      <th>lmedinc</th>\n",
       "      <td>-0.868636</td>\n",
       "      <td>1.000000</td>\n",
       "      <td>-0.746971</td>\n",
       "    </tr>\n",
       "    <tr>\n",
       "      <th>free</th>\n",
       "      <td>0.826357</td>\n",
       "      <td>-0.746971</td>\n",
       "      <td>1.000000</td>\n",
       "    </tr>\n",
       "  </tbody>\n",
       "</table>\n",
       "</div>"
      ],
      "text/plain": [
       "          pctsgle   lmedinc      free\n",
       "pctsgle  1.000000 -0.868636  0.826357\n",
       "lmedinc -0.868636  1.000000 -0.746971\n",
       "free     0.826357 -0.746971  1.000000"
      ]
     },
     "execution_count": 152,
     "metadata": {},
     "output_type": "execute_result"
    }
   ],
   "source": [
    "Xnc = data2[['pctsgle', 'lmedinc', 'free']]\n",
    "Xnc.corr(method='pearson')\n"
   ]
  },
  {
   "cell_type": "markdown",
   "metadata": {},
   "source": [
    "Efectivamente hay una correlación muy alta entre nuestra variable de interés pctsgle y los controles. El paso a seguir seria probar eliminando alguna de estas variables altamente correlacionadas, ya que están causando problemas de inferencia al incrementar el error estándar de la estimación."
   ]
  },
  {
   "cell_type": "markdown",
   "metadata": {},
   "source": [
    "Nótese que muchas veces corrimos algunos comandos sin necesidad de importar una librería. Esto es porque desde el inicio ya habíamos importado librerías como numpy, pandas o matplotlib."
   ]
  }
 ],
 "metadata": {
  "kernelspec": {
   "display_name": "Python 3",
   "language": "python",
   "name": "python3"
  },
  "language_info": {
   "codemirror_mode": {
    "name": "ipython",
    "version": 3
   },
   "file_extension": ".py",
   "mimetype": "text/x-python",
   "name": "python",
   "nbconvert_exporter": "python",
   "pygments_lexer": "ipython3",
   "version": "3.8.8"
  },
  "nbTranslate": {
   "displayLangs": [
    "*"
   ],
   "hotkey": "alt-t",
   "langInMainMenu": true,
   "sourceLang": "en",
   "targetLang": "fr",
   "useGoogleTranslate": true
  }
 },
 "nbformat": 4,
 "nbformat_minor": 4
}
