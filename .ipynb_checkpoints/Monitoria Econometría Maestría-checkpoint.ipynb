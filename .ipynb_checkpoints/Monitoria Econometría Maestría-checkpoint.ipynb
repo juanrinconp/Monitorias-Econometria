{
 "cells": [
  {
   "cell_type": "markdown",
   "id": "05167027",
   "metadata": {},
   "source": [
    "[Introducción a Python](./1. Introducción a Python.ipynb)"
   ]
  },
  {
   "cell_type": "code",
   "execution_count": null,
   "id": "96c397d2",
   "metadata": {},
   "outputs": [],
   "source": []
  }
 ],
 "metadata": {
  "kernelspec": {
   "display_name": "Python 3",
   "language": "python",
   "name": "python3"
  },
  "language_info": {
   "codemirror_mode": {
    "name": "ipython",
    "version": 3
   },
   "file_extension": ".py",
   "mimetype": "text/x-python",
   "name": "python",
   "nbconvert_exporter": "python",
   "pygments_lexer": "ipython3",
   "version": "3.8.8"
  },
  "nbTranslate": {
   "displayLangs": [
    "*"
   ],
   "hotkey": "alt-t",
   "langInMainMenu": true,
   "sourceLang": "en",
   "targetLang": "fr",
   "useGoogleTranslate": true
  }
 },
 "nbformat": 4,
 "nbformat_minor": 5
}
