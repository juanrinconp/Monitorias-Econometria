{
 "cells": [
  {
   "cell_type": "markdown",
   "metadata": {
    "id": "RBW_F0g51kLs"
   },
   "source": [
    "## **Importamos los librerías necesarias**"
   ]
  },
  {
   "cell_type": "code",
   "execution_count": 1,
   "metadata": {
    "colab": {
     "base_uri": "https://localhost:8080/"
    },
    "id": "cWiCaImSznmh",
    "outputId": "c61ae335-287e-4cd8-f927-24d37d721b95"
   },
   "outputs": [
    {
     "name": "stderr",
     "output_type": "stream",
     "text": [
      "/usr/local/lib/python3.7/dist-packages/statsmodels/tools/_testing.py:19: FutureWarning: pandas.util.testing is deprecated. Use the functions in the public API at pandas.testing instead.\n",
      "  import pandas.util.testing as tm\n",
      "/usr/local/lib/python3.7/dist-packages/tqdm/std.py:658: FutureWarning: The Panel class is removed from pandas. Accessing it from the top-level namespace will also be removed in the next version\n",
      "  from pandas import Panel\n"
     ]
    }
   ],
   "source": [
    "import pandas as pd\n",
    "import numpy as np\n",
    "import matplotlib.pyplot as plt\n",
    "from scipy.stats import norm\n",
    "import random\n",
    "import seaborn as sns\n",
    "import statsmodels.api as sm\n",
    "from tqdm import tqdm\n",
    "\n",
    "tqdm.pandas()\n",
    "%matplotlib inline"
   ]
  },
  {
   "cell_type": "markdown",
   "metadata": {
    "id": "f23An7rj1ng6"
   },
   "source": [
    "# **Ejemplo de una normal, la importancia del muestreo**\n"
   ]
  },
  {
   "cell_type": "code",
   "execution_count": 2,
   "metadata": {
    "id": "szy2wHoN7BFD"
   },
   "outputs": [],
   "source": [
    "a = np.random.normal(0, 1, 100)"
   ]
  },
  {
   "cell_type": "code",
   "execution_count": 3,
   "metadata": {
    "id": "Q73OiYTv1sfV"
   },
   "outputs": [],
   "source": [
    "def generateNormal(mu, sigma, size):\n",
    "  a = np.random.normal(mu, sigma, size)\n",
    "  plt.hist(a, density=True)\n",
    "\n",
    "  x = np.linspace((-(sigma*3) + mu), sigma*3 + mu, 100)\n",
    "  y = norm.pdf(x, mu, sigma)\n",
    "  plt.plot(x,y, color='orangered',linewidth=3)"
   ]
  },
  {
   "cell_type": "code",
   "execution_count": 4,
   "metadata": {
    "colab": {
     "base_uri": "https://localhost:8080/",
     "height": 265
    },
    "id": "XFcqtvDo1shh",
    "outputId": "407a5e30-f234-40ef-ab2e-d46c597221a9"
   },
   "outputs": [
    {
     "data": {
      "image/png": "[encoded data removed]",
      "text/plain": [
       "<Figure size 432x288 with 1 Axes>"
      ]
     },
     "metadata": {
      "needs_background": "light",
      "tags": []
     },
     "output_type": "display_data"
    }
   ],
   "source": [
    "generateNormal(0, 1, 1000)"
   ]
  },
  {
   "cell_type": "markdown",
   "metadata": {
    "id": "XGBV3YRx7t1G"
   },
   "source": [
    "# **La multicolinealidad**"
   ]
  },
  {
   "cell_type": "code",
   "execution_count": 5,
   "metadata": {
    "id": "QoNFRGSm-F2-"
   },
   "outputs": [],
   "source": [
    "vector_base = np.array([5,8])"
   ]
  },
  {
   "cell_type": "code",
   "execution_count": 6,
   "metadata": {
    "colab": {
     "base_uri": "https://localhost:8080/"
    },
    "id": "WwrlrAH2-Jfw",
    "outputId": "9ddf0662-d0d2-439d-c292-e5f170c8762c"
   },
   "outputs": [
    {
     "data": {
      "text/plain": [
       "array([5, 8])"
      ]
     },
     "execution_count": 6,
     "metadata": {
      "tags": []
     },
     "output_type": "execute_result"
    }
   ],
   "source": [
    "vector_base"
   ]
  },
  {
   "cell_type": "markdown",
   "metadata": {
    "id": "CYgW28Fj8Jxa"
   },
   "source": [
    "## Ejemplo 1: Baja multicolinearidad"
   ]
  },
  {
   "cell_type": "code",
   "execution_count": 7,
   "metadata": {
    "id": "LYGdzwYS9TZ9"
   },
   "outputs": [],
   "source": [
    "vector_independiente = np.array([-24, 17])"
   ]
  },
  {
   "cell_type": "code",
   "execution_count": 8,
   "metadata": {
    "colab": {
     "base_uri": "https://localhost:8080/"
    },
    "id": "2ILOXtYL-O7S",
    "outputId": "f4a9932a-9381-41ab-bb19-a607f158d905"
   },
   "outputs": [
    {
     "data": {
      "text/plain": [
       "array([-24,  17])"
      ]
     },
     "execution_count": 8,
     "metadata": {
      "tags": []
     },
     "output_type": "execute_result"
    }
   ],
   "source": [
    "vector_independiente"
   ]
  },
  {
   "cell_type": "code",
   "execution_count": 9,
   "metadata": {
    "id": "zHTsGkkj_MEb"
   },
   "outputs": [],
   "source": [
    "matriz1 = np.column_stack((vector_base, vector_independiente))"
   ]
  },
  {
   "cell_type": "code",
   "execution_count": 10,
   "metadata": {
    "colab": {
     "base_uri": "https://localhost:8080/"
    },
    "id": "vNoW8XbZ-SvN",
    "outputId": "94795d05-a674-4e1d-cefb-c2eecdb20b9e"
   },
   "outputs": [
    {
     "data": {
      "text/plain": [
       "array([[  5, -24],\n",
       "       [  8,  17]])"
      ]
     },
     "execution_count": 10,
     "metadata": {
      "tags": []
     },
     "output_type": "execute_result"
    }
   ],
   "source": [
    "matriz1"
   ]
  },
  {
   "cell_type": "code",
   "execution_count": 11,
   "metadata": {
    "colab": {
     "base_uri": "https://localhost:8080/"
    },
    "id": "SkG-IdgV-Sxc",
    "outputId": "174247c2-3c19-4881-b5f3-05bb61d835a7"
   },
   "outputs": [
    {
     "data": {
      "text/plain": [
       "array([[ 0.06137184,  0.0866426 ],\n",
       "       [-0.02888087,  0.01805054]])"
      ]
     },
     "execution_count": 11,
     "metadata": {
      "tags": []
     },
     "output_type": "execute_result"
    }
   ],
   "source": [
    "np.linalg.inv(matriz1)"
   ]
  },
  {
   "cell_type": "code",
   "execution_count": 12,
   "metadata": {
    "colab": {
     "base_uri": "https://localhost:8080/",
     "height": 265
    },
    "id": "PXTnm77gBtZn",
    "outputId": "0f0b46e7-2208-4b65-a3d2-d316fd69f5dc"
   },
   "outputs": [
    {
     "data": {
      "image/png": "[encoded data removed]",
      "text/plain": [
       "<Figure size 432x288 with 1 Axes>"
      ]
     },
     "metadata": {
      "needs_background": "light",
      "tags": []
     },
     "output_type": "display_data"
    }
   ],
   "source": [
    "origin = np.array([[0, 0],[0, 0]]) # origin point\n",
    "\n",
    "plt.quiver(*origin, matriz1[:,0], matriz1[:,1], scale=100,)\n",
    "plt.show()"
   ]
  },
  {
   "cell_type": "markdown",
   "metadata": {
    "id": "UoLMawclCFnX"
   },
   "source": [
    "## Ejemplo 2: Ortogonalidad"
   ]
  },
  {
   "cell_type": "code",
   "execution_count": 13,
   "metadata": {
    "id": "ZGxAmpywCH8U"
   },
   "outputs": [],
   "source": [
    "vector_ortogonal = np.array([-10, 6.25])"
   ]
  },
  {
   "cell_type": "code",
   "execution_count": 14,
   "metadata": {
    "colab": {
     "base_uri": "https://localhost:8080/"
    },
    "id": "xbXxZrswD7ib",
    "outputId": "f510e79d-62b1-4ecb-ffaf-d9144981fe42"
   },
   "outputs": [
    {
     "data": {
      "text/plain": [
       "array([-10.  ,   6.25])"
      ]
     },
     "execution_count": 14,
     "metadata": {
      "tags": []
     },
     "output_type": "execute_result"
    }
   ],
   "source": [
    "vector_ortogonal"
   ]
  },
  {
   "cell_type": "code",
   "execution_count": 15,
   "metadata": {
    "id": "3xMIVC1dCH-v"
   },
   "outputs": [],
   "source": [
    "matriz_ortogonal = np.column_stack((vector_base, vector_ortogonal))"
   ]
  },
  {
   "cell_type": "code",
   "execution_count": 16,
   "metadata": {
    "colab": {
     "base_uri": "https://localhost:8080/"
    },
    "id": "9jJiGa56D8h2",
    "outputId": "c8a52e0a-b908-4fd7-8960-7599c2e54325"
   },
   "outputs": [
    {
     "data": {
      "text/plain": [
       "array([[  5.  , -10.  ],\n",
       "       [  8.  ,   6.25]])"
      ]
     },
     "execution_count": 16,
     "metadata": {
      "tags": []
     },
     "output_type": "execute_result"
    }
   ],
   "source": [
    "matriz_ortogonal"
   ]
  },
  {
   "cell_type": "code",
   "execution_count": 17,
   "metadata": {
    "colab": {
     "base_uri": "https://localhost:8080/"
    },
    "id": "3GsuSQFhD-bg",
    "outputId": "237ac720-8362-456b-b09a-a29c43fee53d"
   },
   "outputs": [
    {
     "data": {
      "text/plain": [
       "array([[ 0.05617978,  0.08988764],\n",
       "       [-0.07191011,  0.04494382]])"
      ]
     },
     "execution_count": 17,
     "metadata": {
      "tags": []
     },
     "output_type": "execute_result"
    }
   ],
   "source": [
    "np.linalg.inv(matriz_ortogonal)"
   ]
  },
  {
   "cell_type": "code",
   "execution_count": 18,
   "metadata": {
    "colab": {
     "base_uri": "https://localhost:8080/",
     "height": 265
    },
    "id": "HqvlaUaZCIA-",
    "outputId": "df59e480-61c9-42d8-cc39-78a752728539"
   },
   "outputs": [
    {
     "data": {
      "image/png": "[encoded data removed]",
      "text/plain": [
       "<Figure size 432x288 with 1 Axes>"
      ]
     },
     "metadata": {
      "needs_background": "light",
      "tags": []
     },
     "output_type": "display_data"
    }
   ],
   "source": [
    "origin = np.array([[0, 0],[0, 0]]) # origin point\n",
    "\n",
    "plt.quiver(*origin, matriz_ortogonal[:,0], matriz_ortogonal[:,1], scale=100,)\n",
    "plt.show()"
   ]
  },
  {
   "cell_type": "markdown",
   "metadata": {
    "id": "Sx7v0U8n_bw6"
   },
   "source": [
    "## Ejemplo 3: Alta multicolinearidad"
   ]
  },
  {
   "cell_type": "code",
   "execution_count": 19,
   "metadata": {
    "id": "GuHgiDVR3J8N"
   },
   "outputs": [],
   "source": [
    "vector_dependiente = np.array([10, 15])"
   ]
  },
  {
   "cell_type": "code",
   "execution_count": 20,
   "metadata": {
    "colab": {
     "base_uri": "https://localhost:8080/"
    },
    "id": "OMyjmE-g-e9L",
    "outputId": "3e4e7da8-3c7e-4020-c45a-2e5f818157a7"
   },
   "outputs": [
    {
     "data": {
      "text/plain": [
       "array([10, 15])"
      ]
     },
     "execution_count": 20,
     "metadata": {
      "tags": []
     },
     "output_type": "execute_result"
    }
   ],
   "source": [
    "vector_dependiente"
   ]
  },
  {
   "cell_type": "code",
   "execution_count": 21,
   "metadata": {
    "id": "AZNlzwry-e_2"
   },
   "outputs": [],
   "source": [
    "matriz2 = np.column_stack((vector_base, vector_dependiente))"
   ]
  },
  {
   "cell_type": "code",
   "execution_count": 22,
   "metadata": {
    "colab": {
     "base_uri": "https://localhost:8080/"
    },
    "id": "NPE67GHt_ne9",
    "outputId": "ae485751-9d08-4d62-bf7f-12ea92cb5338"
   },
   "outputs": [
    {
     "data": {
      "text/plain": [
       "array([[ 5, 10],\n",
       "       [ 8, 15]])"
      ]
     },
     "execution_count": 22,
     "metadata": {
      "tags": []
     },
     "output_type": "execute_result"
    }
   ],
   "source": [
    "matriz2"
   ]
  },
  {
   "cell_type": "code",
   "execution_count": 23,
   "metadata": {
    "colab": {
     "base_uri": "https://localhost:8080/"
    },
    "id": "2uJlPgUX_nhU",
    "outputId": "e868e126-175a-4b49-b9f8-8ed408556d0c"
   },
   "outputs": [
    {
     "data": {
      "text/plain": [
       "array([[-3. ,  2. ],\n",
       "       [ 1.6, -1. ]])"
      ]
     },
     "execution_count": 23,
     "metadata": {
      "tags": []
     },
     "output_type": "execute_result"
    }
   ],
   "source": [
    "np.linalg.inv(matriz2)"
   ]
  },
  {
   "cell_type": "code",
   "execution_count": 24,
   "metadata": {
    "colab": {
     "base_uri": "https://localhost:8080/",
     "height": 265
    },
    "id": "RnIe4rg9Bh3z",
    "outputId": "88c14579-d5fa-481d-906e-598fc379fae3"
   },
   "outputs": [
    {
     "data": {
      "image/png": "[encoded data removed]",
      "text/plain": [
       "<Figure size 432x288 with 1 Axes>"
      ]
     },
     "metadata": {
      "needs_background": "light",
      "tags": []
     },
     "output_type": "display_data"
    }
   ],
   "source": [
    "origin = np.array([[0, 0],[0, 0]]) # origin point\n",
    "\n",
    "plt.quiver(*origin, matriz2[:,0], matriz2[:,1], scale=50,)\n",
    "plt.show()"
   ]
  },
  {
   "cell_type": "markdown",
   "metadata": {
    "id": "UaPA7AAL_xEl"
   },
   "source": [
    "## Ejemplo 4: Multicolinearidad perfecta"
   ]
  },
  {
   "cell_type": "code",
   "execution_count": 25,
   "metadata": {
    "id": "5cPKKWKe_njL"
   },
   "outputs": [],
   "source": [
    "vector_dependiente_perfecto = np.array([10, 16])"
   ]
  },
  {
   "cell_type": "code",
   "execution_count": 26,
   "metadata": {
    "colab": {
     "base_uri": "https://localhost:8080/"
    },
    "id": "gHtbitdi_nlZ",
    "outputId": "1cf31637-e785-4e4f-faa9-17ba4b0854f0"
   },
   "outputs": [
    {
     "data": {
      "text/plain": [
       "array([10, 16])"
      ]
     },
     "execution_count": 26,
     "metadata": {
      "tags": []
     },
     "output_type": "execute_result"
    }
   ],
   "source": [
    "vector_dependiente_perfecto"
   ]
  },
  {
   "cell_type": "code",
   "execution_count": 27,
   "metadata": {
    "id": "ilLCr8WM-fCF"
   },
   "outputs": [],
   "source": [
    "matriz3 = np.column_stack((vector_base, vector_dependiente_perfecto))"
   ]
  },
  {
   "cell_type": "code",
   "execution_count": 28,
   "metadata": {
    "colab": {
     "base_uri": "https://localhost:8080/"
    },
    "id": "hqA8u_bW_4Kp",
    "outputId": "1a14a883-7c79-4211-cd9c-6b679bf8804b"
   },
   "outputs": [
    {
     "data": {
      "text/plain": [
       "array([[ 5, 10],\n",
       "       [ 8, 16]])"
      ]
     },
     "execution_count": 28,
     "metadata": {
      "tags": []
     },
     "output_type": "execute_result"
    }
   ],
   "source": [
    "matriz3"
   ]
  },
  {
   "cell_type": "code",
   "execution_count": 29,
   "metadata": {
    "colab": {
     "base_uri": "https://localhost:8080/",
     "height": 340
    },
    "id": "HWIJxLvy_4Mp",
    "outputId": "ff297188-de93-4139-a6f5-492a9d4a7363"
   },
   "outputs": [
    {
     "ename": "LinAlgError",
     "evalue": "ignored",
     "output_type": "error",
     "traceback": [
      "\u001b[0;31m---------------------------------------------------------------------------\u001b[0m",
      "\u001b[0;31mLinAlgError\u001b[0m                               Traceback (most recent call last)",
      "\u001b[0;32m<ipython-input-29-890c4f7ba0f6>\u001b[0m in \u001b[0;36m<module>\u001b[0;34m()\u001b[0m\n\u001b[0;32m----> 1\u001b[0;31m \u001b[0mnp\u001b[0m\u001b[0;34m.\u001b[0m\u001b[0mlinalg\u001b[0m\u001b[0;34m.\u001b[0m\u001b[0minv\u001b[0m\u001b[0;34m(\u001b[0m\u001b[0mmatriz3\u001b[0m\u001b[0;34m)\u001b[0m\u001b[0;34m\u001b[0m\u001b[0;34m\u001b[0m\u001b[0m\n\u001b[0m",
      "\u001b[0;32m<__array_function__ internals>\u001b[0m in \u001b[0;36minv\u001b[0;34m(*args, **kwargs)\u001b[0m\n",
      "\u001b[0;32m/usr/local/lib/python3.7/dist-packages/numpy/linalg/linalg.py\u001b[0m in \u001b[0;36minv\u001b[0;34m(a)\u001b[0m\n\u001b[1;32m    544\u001b[0m     \u001b[0msignature\u001b[0m \u001b[0;34m=\u001b[0m \u001b[0;34m'D->D'\u001b[0m \u001b[0;32mif\u001b[0m \u001b[0misComplexType\u001b[0m\u001b[0;34m(\u001b[0m\u001b[0mt\u001b[0m\u001b[0;34m)\u001b[0m \u001b[0;32melse\u001b[0m \u001b[0;34m'd->d'\u001b[0m\u001b[0;34m\u001b[0m\u001b[0;34m\u001b[0m\u001b[0m\n\u001b[1;32m    545\u001b[0m     \u001b[0mextobj\u001b[0m \u001b[0;34m=\u001b[0m \u001b[0mget_linalg_error_extobj\u001b[0m\u001b[0;34m(\u001b[0m\u001b[0m_raise_linalgerror_singular\u001b[0m\u001b[0;34m)\u001b[0m\u001b[0;34m\u001b[0m\u001b[0;34m\u001b[0m\u001b[0m\n\u001b[0;32m--> 546\u001b[0;31m     \u001b[0mainv\u001b[0m \u001b[0;34m=\u001b[0m \u001b[0m_umath_linalg\u001b[0m\u001b[0;34m.\u001b[0m\u001b[0minv\u001b[0m\u001b[0;34m(\u001b[0m\u001b[0ma\u001b[0m\u001b[0;34m,\u001b[0m \u001b[0msignature\u001b[0m\u001b[0;34m=\u001b[0m\u001b[0msignature\u001b[0m\u001b[0;34m,\u001b[0m \u001b[0mextobj\u001b[0m\u001b[0;34m=\u001b[0m\u001b[0mextobj\u001b[0m\u001b[0;34m)\u001b[0m\u001b[0;34m\u001b[0m\u001b[0;34m\u001b[0m\u001b[0m\n\u001b[0m\u001b[1;32m    547\u001b[0m     \u001b[0;32mreturn\u001b[0m \u001b[0mwrap\u001b[0m\u001b[0;34m(\u001b[0m\u001b[0mainv\u001b[0m\u001b[0;34m.\u001b[0m\u001b[0mastype\u001b[0m\u001b[0;34m(\u001b[0m\u001b[0mresult_t\u001b[0m\u001b[0;34m,\u001b[0m \u001b[0mcopy\u001b[0m\u001b[0;34m=\u001b[0m\u001b[0;32mFalse\u001b[0m\u001b[0;34m)\u001b[0m\u001b[0;34m)\u001b[0m\u001b[0;34m\u001b[0m\u001b[0;34m\u001b[0m\u001b[0m\n\u001b[1;32m    548\u001b[0m \u001b[0;34m\u001b[0m\u001b[0m\n",
      "\u001b[0;32m/usr/local/lib/python3.7/dist-packages/numpy/linalg/linalg.py\u001b[0m in \u001b[0;36m_raise_linalgerror_singular\u001b[0;34m(err, flag)\u001b[0m\n\u001b[1;32m     86\u001b[0m \u001b[0;34m\u001b[0m\u001b[0m\n\u001b[1;32m     87\u001b[0m \u001b[0;32mdef\u001b[0m \u001b[0m_raise_linalgerror_singular\u001b[0m\u001b[0;34m(\u001b[0m\u001b[0merr\u001b[0m\u001b[0;34m,\u001b[0m \u001b[0mflag\u001b[0m\u001b[0;34m)\u001b[0m\u001b[0;34m:\u001b[0m\u001b[0;34m\u001b[0m\u001b[0;34m\u001b[0m\u001b[0m\n\u001b[0;32m---> 88\u001b[0;31m     \u001b[0;32mraise\u001b[0m \u001b[0mLinAlgError\u001b[0m\u001b[0;34m(\u001b[0m\u001b[0;34m\"Singular matrix\"\u001b[0m\u001b[0;34m)\u001b[0m\u001b[0;34m\u001b[0m\u001b[0;34m\u001b[0m\u001b[0m\n\u001b[0m\u001b[1;32m     89\u001b[0m \u001b[0;34m\u001b[0m\u001b[0m\n\u001b[1;32m     90\u001b[0m \u001b[0;32mdef\u001b[0m \u001b[0m_raise_linalgerror_nonposdef\u001b[0m\u001b[0;34m(\u001b[0m\u001b[0merr\u001b[0m\u001b[0;34m,\u001b[0m \u001b[0mflag\u001b[0m\u001b[0;34m)\u001b[0m\u001b[0;34m:\u001b[0m\u001b[0;34m\u001b[0m\u001b[0;34m\u001b[0m\u001b[0m\n",
      "\u001b[0;31mLinAlgError\u001b[0m: Singular matrix"
     ]
    }
   ],
   "source": [
    "np.linalg.inv(matriz3)"
   ]
  },
  {
   "cell_type": "code",
   "execution_count": 30,
   "metadata": {
    "colab": {
     "base_uri": "https://localhost:8080/",
     "height": 265
    },
    "id": "S4UMF-TB_4Ur",
    "outputId": "22431248-497c-434f-fcc2-4482cd0b056a"
   },
   "outputs": [
    {
     "data": {
      "image/png": "[encoded data removed]",
      "text/plain": [
       "<Figure size 432x288 with 1 Axes>"
      ]
     },
     "metadata": {
      "needs_background": "light",
      "tags": []
     },
     "output_type": "display_data"
    }
   ],
   "source": [
    "origin = np.array([[0, 0],[0, 0]]) # origin point\n",
    "\n",
    "plt.quiver(*origin, matriz3[:,0], matriz3[:,1], scale=50,)\n",
    "plt.show()"
   ]
  },
  {
   "cell_type": "markdown",
   "metadata": {
    "id": "DTvyfg5C8txm"
   },
   "source": [
    "# **Regresiónes**"
   ]
  },
  {
   "cell_type": "markdown",
   "metadata": {
    "id": "0dFpqnBRNWR3"
   },
   "source": [
    "## Ejemplo vinos"
   ]
  },
  {
   "cell_type": "code",
   "execution_count": 31,
   "metadata": {
    "id": "rMxAAxwZzvyd"
   },
   "outputs": [],
   "source": [
    "data = pd.read_csv('winequality-red.csv')"
   ]
  },
  {
   "cell_type": "code",
   "execution_count": 32,
   "metadata": {
    "colab": {
     "base_uri": "https://localhost:8080/",
     "height": 204
    },
    "id": "-VkfUlYG1RLS",
    "outputId": "74807be6-8b75-4436-a130-1a737a0bde0c"
   },
   "outputs": [
    {
     "data": {
      "text/html": [
       "<div>\n",
       "<style scoped>\n",
       "    .dataframe tbody tr th:only-of-type {\n",
       "        vertical-align: middle;\n",
       "    }\n",
       "\n",
       "    .dataframe tbody tr th {\n",
       "        vertical-align: top;\n",
       "    }\n",
       "\n",
       "    .dataframe thead th {\n",
       "        text-align: right;\n",
       "    }\n",
       "</style>\n",
       "<table border=\"1\" class=\"dataframe\">\n",
       "  <thead>\n",
       "    <tr style=\"text-align: right;\">\n",
       "      <th></th>\n",
       "      <th>fixed acidity</th>\n",
       "      <th>volatile acidity</th>\n",
       "      <th>citric acid</th>\n",
       "      <th>residual sugar</th>\n",
       "      <th>chlorides</th>\n",
       "      <th>free sulfur dioxide</th>\n",
       "      <th>total sulfur dioxide</th>\n",
       "      <th>density</th>\n",
       "      <th>pH</th>\n",
       "      <th>sulphates</th>\n",
       "      <th>alcohol</th>\n",
       "      <th>quality</th>\n",
       "    </tr>\n",
       "  </thead>\n",
       "  <tbody>\n",
       "    <tr>\n",
       "      <th>0</th>\n",
       "      <td>7.4</td>\n",
       "      <td>0.70</td>\n",
       "      <td>0.00</td>\n",
       "      <td>1.9</td>\n",
       "      <td>0.076</td>\n",
       "      <td>11.0</td>\n",
       "      <td>34.0</td>\n",
       "      <td>0.9978</td>\n",
       "      <td>3.51</td>\n",
       "      <td>0.56</td>\n",
       "      <td>9.4</td>\n",
       "      <td>5</td>\n",
       "    </tr>\n",
       "    <tr>\n",
       "      <th>1</th>\n",
       "      <td>7.8</td>\n",
       "      <td>0.88</td>\n",
       "      <td>0.00</td>\n",
       "      <td>2.6</td>\n",
       "      <td>0.098</td>\n",
       "      <td>25.0</td>\n",
       "      <td>67.0</td>\n",
       "      <td>0.9968</td>\n",
       "      <td>3.20</td>\n",
       "      <td>0.68</td>\n",
       "      <td>9.8</td>\n",
       "      <td>5</td>\n",
       "    </tr>\n",
       "    <tr>\n",
       "      <th>2</th>\n",
       "      <td>7.8</td>\n",
       "      <td>0.76</td>\n",
       "      <td>0.04</td>\n",
       "      <td>2.3</td>\n",
       "      <td>0.092</td>\n",
       "      <td>15.0</td>\n",
       "      <td>54.0</td>\n",
       "      <td>0.9970</td>\n",
       "      <td>3.26</td>\n",
       "      <td>0.65</td>\n",
       "      <td>9.8</td>\n",
       "      <td>5</td>\n",
       "    </tr>\n",
       "    <tr>\n",
       "      <th>3</th>\n",
       "      <td>11.2</td>\n",
       "      <td>0.28</td>\n",
       "      <td>0.56</td>\n",
       "      <td>1.9</td>\n",
       "      <td>0.075</td>\n",
       "      <td>17.0</td>\n",
       "      <td>60.0</td>\n",
       "      <td>0.9980</td>\n",
       "      <td>3.16</td>\n",
       "      <td>0.58</td>\n",
       "      <td>9.8</td>\n",
       "      <td>6</td>\n",
       "    </tr>\n",
       "    <tr>\n",
       "      <th>4</th>\n",
       "      <td>7.4</td>\n",
       "      <td>0.70</td>\n",
       "      <td>0.00</td>\n",
       "      <td>1.9</td>\n",
       "      <td>0.076</td>\n",
       "      <td>11.0</td>\n",
       "      <td>34.0</td>\n",
       "      <td>0.9978</td>\n",
       "      <td>3.51</td>\n",
       "      <td>0.56</td>\n",
       "      <td>9.4</td>\n",
       "      <td>5</td>\n",
       "    </tr>\n",
       "  </tbody>\n",
       "</table>\n",
       "</div>"
      ],
      "text/plain": [
       "   fixed acidity  volatile acidity  citric acid  ...  sulphates  alcohol  quality\n",
       "0            7.4              0.70         0.00  ...       0.56      9.4        5\n",
       "1            7.8              0.88         0.00  ...       0.68      9.8        5\n",
       "2            7.8              0.76         0.04  ...       0.65      9.8        5\n",
       "3           11.2              0.28         0.56  ...       0.58      9.8        6\n",
       "4            7.4              0.70         0.00  ...       0.56      9.4        5\n",
       "\n",
       "[5 rows x 12 columns]"
      ]
     },
     "execution_count": 32,
     "metadata": {
      "tags": []
     },
     "output_type": "execute_result"
    }
   ],
   "source": [
    "data.head()"
   ]
  },
  {
   "cell_type": "code",
   "execution_count": 33,
   "metadata": {
    "id": "CxHx2tTdFXH3"
   },
   "outputs": [],
   "source": [
    "variables = list(data.columns)"
   ]
  },
  {
   "cell_type": "code",
   "execution_count": 34,
   "metadata": {
    "colab": {
     "base_uri": "https://localhost:8080/"
    },
    "id": "UYbxRRpbGZTc",
    "outputId": "65ac5455-ed44-4c4f-cf03-356fb00fb22e"
   },
   "outputs": [
    {
     "data": {
      "text/plain": [
       "['fixed acidity',\n",
       " 'volatile acidity',\n",
       " 'citric acid',\n",
       " 'residual sugar',\n",
       " 'chlorides',\n",
       " 'free sulfur dioxide',\n",
       " 'total sulfur dioxide',\n",
       " 'density',\n",
       " 'pH',\n",
       " 'sulphates',\n",
       " 'alcohol',\n",
       " 'quality']"
      ]
     },
     "execution_count": 34,
     "metadata": {
      "tags": []
     },
     "output_type": "execute_result"
    }
   ],
   "source": [
    "variables"
   ]
  },
  {
   "cell_type": "code",
   "execution_count": 35,
   "metadata": {
    "id": "58VW1ZPXGZVk"
   },
   "outputs": [],
   "source": [
    "variables.remove('quality')"
   ]
  },
  {
   "cell_type": "code",
   "execution_count": 36,
   "metadata": {
    "colab": {
     "base_uri": "https://localhost:8080/"
    },
    "id": "TWjruXv8GhRQ",
    "outputId": "898c959b-6e2f-4078-dc22-07bc3a709429"
   },
   "outputs": [
    {
     "data": {
      "text/plain": [
       "['fixed acidity',\n",
       " 'volatile acidity',\n",
       " 'citric acid',\n",
       " 'residual sugar',\n",
       " 'chlorides',\n",
       " 'free sulfur dioxide',\n",
       " 'total sulfur dioxide',\n",
       " 'density',\n",
       " 'pH',\n",
       " 'sulphates',\n",
       " 'alcohol']"
      ]
     },
     "execution_count": 36,
     "metadata": {
      "tags": []
     },
     "output_type": "execute_result"
    }
   ],
   "source": [
    "variables"
   ]
  },
  {
   "cell_type": "code",
   "execution_count": 37,
   "metadata": {
    "id": "DvG12LE0GiqA"
   },
   "outputs": [],
   "source": [
    "predictores = sm.add_constant(data[variables], prepend=True)"
   ]
  },
  {
   "cell_type": "code",
   "execution_count": 38,
   "metadata": {
    "colab": {
     "base_uri": "https://localhost:8080/",
     "height": 204
    },
    "id": "AqL3YV9qG4nY",
    "outputId": "0a1d4e5e-037d-4d89-d1cb-1d89b29d8359"
   },
   "outputs": [
    {
     "data": {
      "text/html": [
       "<div>\n",
       "<style scoped>\n",
       "    .dataframe tbody tr th:only-of-type {\n",
       "        vertical-align: middle;\n",
       "    }\n",
       "\n",
       "    .dataframe tbody tr th {\n",
       "        vertical-align: top;\n",
       "    }\n",
       "\n",
       "    .dataframe thead th {\n",
       "        text-align: right;\n",
       "    }\n",
       "</style>\n",
       "<table border=\"1\" class=\"dataframe\">\n",
       "  <thead>\n",
       "    <tr style=\"text-align: right;\">\n",
       "      <th></th>\n",
       "      <th>const</th>\n",
       "      <th>fixed acidity</th>\n",
       "      <th>volatile acidity</th>\n",
       "      <th>citric acid</th>\n",
       "      <th>residual sugar</th>\n",
       "      <th>chlorides</th>\n",
       "      <th>free sulfur dioxide</th>\n",
       "      <th>total sulfur dioxide</th>\n",
       "      <th>density</th>\n",
       "      <th>pH</th>\n",
       "      <th>sulphates</th>\n",
       "      <th>alcohol</th>\n",
       "    </tr>\n",
       "  </thead>\n",
       "  <tbody>\n",
       "    <tr>\n",
       "      <th>0</th>\n",
       "      <td>1.0</td>\n",
       "      <td>7.4</td>\n",
       "      <td>0.70</td>\n",
       "      <td>0.00</td>\n",
       "      <td>1.9</td>\n",
       "      <td>0.076</td>\n",
       "      <td>11.0</td>\n",
       "      <td>34.0</td>\n",
       "      <td>0.9978</td>\n",
       "      <td>3.51</td>\n",
       "      <td>0.56</td>\n",
       "      <td>9.4</td>\n",
       "    </tr>\n",
       "    <tr>\n",
       "      <th>1</th>\n",
       "      <td>1.0</td>\n",
       "      <td>7.8</td>\n",
       "      <td>0.88</td>\n",
       "      <td>0.00</td>\n",
       "      <td>2.6</td>\n",
       "      <td>0.098</td>\n",
       "      <td>25.0</td>\n",
       "      <td>67.0</td>\n",
       "      <td>0.9968</td>\n",
       "      <td>3.20</td>\n",
       "      <td>0.68</td>\n",
       "      <td>9.8</td>\n",
       "    </tr>\n",
       "    <tr>\n",
       "      <th>2</th>\n",
       "      <td>1.0</td>\n",
       "      <td>7.8</td>\n",
       "      <td>0.76</td>\n",
       "      <td>0.04</td>\n",
       "      <td>2.3</td>\n",
       "      <td>0.092</td>\n",
       "      <td>15.0</td>\n",
       "      <td>54.0</td>\n",
       "      <td>0.9970</td>\n",
       "      <td>3.26</td>\n",
       "      <td>0.65</td>\n",
       "      <td>9.8</td>\n",
       "    </tr>\n",
       "    <tr>\n",
       "      <th>3</th>\n",
       "      <td>1.0</td>\n",
       "      <td>11.2</td>\n",
       "      <td>0.28</td>\n",
       "      <td>0.56</td>\n",
       "      <td>1.9</td>\n",
       "      <td>0.075</td>\n",
       "      <td>17.0</td>\n",
       "      <td>60.0</td>\n",
       "      <td>0.9980</td>\n",
       "      <td>3.16</td>\n",
       "      <td>0.58</td>\n",
       "      <td>9.8</td>\n",
       "    </tr>\n",
       "    <tr>\n",
       "      <th>4</th>\n",
       "      <td>1.0</td>\n",
       "      <td>7.4</td>\n",
       "      <td>0.70</td>\n",
       "      <td>0.00</td>\n",
       "      <td>1.9</td>\n",
       "      <td>0.076</td>\n",
       "      <td>11.0</td>\n",
       "      <td>34.0</td>\n",
       "      <td>0.9978</td>\n",
       "      <td>3.51</td>\n",
       "      <td>0.56</td>\n",
       "      <td>9.4</td>\n",
       "    </tr>\n",
       "  </tbody>\n",
       "</table>\n",
       "</div>"
      ],
      "text/plain": [
       "   const  fixed acidity  volatile acidity  ...    pH  sulphates  alcohol\n",
       "0    1.0            7.4              0.70  ...  3.51       0.56      9.4\n",
       "1    1.0            7.8              0.88  ...  3.20       0.68      9.8\n",
       "2    1.0            7.8              0.76  ...  3.26       0.65      9.8\n",
       "3    1.0           11.2              0.28  ...  3.16       0.58      9.8\n",
       "4    1.0            7.4              0.70  ...  3.51       0.56      9.4\n",
       "\n",
       "[5 rows x 12 columns]"
      ]
     },
     "execution_count": 38,
     "metadata": {
      "tags": []
     },
     "output_type": "execute_result"
    }
   ],
   "source": [
    "predictores.head()"
   ]
  },
  {
   "cell_type": "code",
   "execution_count": 39,
   "metadata": {
    "id": "VcFx89DrG1a7"
   },
   "outputs": [],
   "source": [
    "mod = sm.OLS(data['quality'], predictores)"
   ]
  },
  {
   "cell_type": "code",
   "execution_count": 40,
   "metadata": {
    "id": "nOcEVVQTHCgZ"
   },
   "outputs": [],
   "source": [
    "res = mod.fit()"
   ]
  },
  {
   "cell_type": "code",
   "execution_count": 41,
   "metadata": {
    "colab": {
     "base_uri": "https://localhost:8080/"
    },
    "id": "DzFM9MkmHN3D",
    "outputId": "913d2966-960d-4b07-9e55-e9518fd2f82a"
   },
   "outputs": [
    {
     "name": "stdout",
     "output_type": "stream",
     "text": [
      "                            OLS Regression Results                            \n",
      "==============================================================================\n",
      "Dep. Variable:                quality   R-squared:                       0.361\n",
      "Model:                            OLS   Adj. R-squared:                  0.356\n",
      "Method:                 Least Squares   F-statistic:                     81.35\n",
      "Date:                Wed, 05 May 2021   Prob (F-statistic):          1.79e-145\n",
      "Time:                        20:46:48   Log-Likelihood:                -1569.1\n",
      "No. Observations:                1599   AIC:                             3162.\n",
      "Df Residuals:                    1587   BIC:                             3227.\n",
      "Df Model:                          11                                         \n",
      "Covariance Type:            nonrobust                                         \n",
      "========================================================================================\n",
      "                           coef    std err          t      P>|t|      [0.025      0.975]\n",
      "----------------------------------------------------------------------------------------\n",
      "const                   21.9652     21.195      1.036      0.300     -19.607      63.538\n",
      "fixed acidity            0.0250      0.026      0.963      0.336      -0.026       0.076\n",
      "volatile acidity        -1.0836      0.121     -8.948      0.000      -1.321      -0.846\n",
      "citric acid             -0.1826      0.147     -1.240      0.215      -0.471       0.106\n",
      "residual sugar           0.0163      0.015      1.089      0.276      -0.013       0.046\n",
      "chlorides               -1.8742      0.419     -4.470      0.000      -2.697      -1.052\n",
      "free sulfur dioxide      0.0044      0.002      2.009      0.045       0.000       0.009\n",
      "total sulfur dioxide    -0.0033      0.001     -4.480      0.000      -0.005      -0.002\n",
      "density                -17.8812     21.633     -0.827      0.409     -60.314      24.551\n",
      "pH                      -0.4137      0.192     -2.159      0.031      -0.789      -0.038\n",
      "sulphates                0.9163      0.114      8.014      0.000       0.692       1.141\n",
      "alcohol                  0.2762      0.026     10.429      0.000       0.224       0.328\n",
      "==============================================================================\n",
      "Omnibus:                       27.376   Durbin-Watson:                   1.757\n",
      "Prob(Omnibus):                  0.000   Jarque-Bera (JB):               40.965\n",
      "Skew:                          -0.168   Prob(JB):                     1.27e-09\n",
      "Kurtosis:                       3.708   Cond. No.                     1.13e+05\n",
      "==============================================================================\n",
      "\n",
      "Warnings:\n",
      "[1] Standard Errors assume that the covariance matrix of the errors is correctly specified.\n",
      "[2] The condition number is large, 1.13e+05. This might indicate that there are\n",
      "strong multicollinearity or other numerical problems.\n"
     ]
    }
   ],
   "source": [
    "print(res.summary())"
   ]
  },
  {
   "cell_type": "code",
   "execution_count": 42,
   "metadata": {
    "colab": {
     "base_uri": "https://localhost:8080/",
     "height": 747
    },
    "id": "KM-MDA7dJZwP",
    "outputId": "4840b87e-d23e-45f9-8676-fbe4254a511e"
   },
   "outputs": [
    {
     "data": {
      "text/plain": [
       "<matplotlib.axes._subplots.AxesSubplot at 0x7fcde4adef90>"
      ]
     },
     "execution_count": 42,
     "metadata": {
      "tags": []
     },
     "output_type": "execute_result"
    },
    {
     "data": {
      "image/png": "[encoded data removed]",
      "text/plain": [
       "<Figure size 864x864 with 2 Axes>"
      ]
     },
     "metadata": {
      "needs_background": "light",
      "tags": []
     },
     "output_type": "display_data"
    }
   ],
   "source": [
    "colormap = plt.cm.RdBu\n",
    "plt.figure(figsize=(12,12))\n",
    "plt.title('Correlaciones', y=1.05, size=15)\n",
    "sns.heatmap(predictores.astype(float).corr(),linewidths=0.1,vmax=1.0, \n",
    "            square=True, cmap=colormap, linecolor='white', annot=True)"
   ]
  },
  {
   "cell_type": "code",
   "execution_count": 43,
   "metadata": {
    "colab": {
     "base_uri": "https://localhost:8080/",
     "height": 296
    },
    "id": "fmngIpiAKXv1",
    "outputId": "69430b02-d027-448c-c239-ae34eefd711e"
   },
   "outputs": [
    {
     "data": {
      "text/plain": [
       "<matplotlib.axes._subplots.AxesSubplot at 0x7fcde4ade9d0>"
      ]
     },
     "execution_count": 43,
     "metadata": {
      "tags": []
     },
     "output_type": "execute_result"
    },
    {
     "data": {
      "image/png": "[encoded data removed]",
      "text/plain": [
       "<Figure size 432x288 with 1 Axes>"
      ]
     },
     "metadata": {
      "needs_background": "light",
      "tags": []
     },
     "output_type": "display_data"
    }
   ],
   "source": [
    "sns.scatterplot(data=data, x='fixed acidity', y='pH')"
   ]
  },
  {
   "cell_type": "markdown",
   "metadata": {
    "id": "jRU8FdRFLwlz"
   },
   "source": [
    "[Ejemplo de código en R](https://www.kaggle.com/couyang/wine-eda-dt-rf-xgb-lightgbm-svm-and-h2o)\n",
    "\n",
    "[Ejemplo de código en Python](https://www.kaggle.com/vishalyo990/prediction-of-quality-of-wine)"
   ]
  },
  {
   "cell_type": "markdown",
   "metadata": {
    "id": "Au7gBhH3NZ7X"
   },
   "source": [
    "## Ejemplo teórico\n",
    "\n",
    "Vamos a definir una ecuación que actúe como el modelo poblacional. Con esta generaremos unos datos y apartir de estos haremos un muestreo aleatorio. Veremos entonces qué sucede en varios casos.\n",
    "\n",
    "La ecuación poblacional será: salario = b0 + b1 * educación + b2 * experiencia + b3 * sexo + b4 * habilidad innata + b5 * actitud, y definiremos los coeficientes de la manera:\n",
    "\n",
    "1. b0 = 1,000,000\n",
    "2. b1 = 200,00\n",
    "3. b2 = 500,000\n",
    "4. b3 = hombres ganan 100,000 más\n",
    "4. b4 = 250,000\n",
    "5. b5 = 50,000\n",
    "\n",
    "Por facilidad, trataremos todos los coeficientes sobre 1 millón. Es decir, b0 queda igual a 1, b2 igual a 0.2, b3 igual a 0.5, etc\n"
   ]
  },
  {
   "cell_type": "code",
   "execution_count": 74,
   "metadata": {
    "id": "Qg7KfpZ1L5IU"
   },
   "outputs": [],
   "source": [
    "educacion = list(np.random.normal(8, 3, 1000000))\n",
    "experiencia = list(np.random.normal(12, 8, 1000000))\n",
    "sexo = list(np.random.randint(0, 2, 1000000))\n",
    "habilidad = list(np.random.normal(0, 1, 1000000))\n",
    "actitud = list(np.random.normal(0, 1, 1000000))"
   ]
  },
  {
   "cell_type": "code",
   "execution_count": 75,
   "metadata": {
    "id": "MCkpt67tPA3F"
   },
   "outputs": [],
   "source": [
    "df = pd.DataFrame(list(zip(educacion, experiencia, sexo, habilidad, actitud)),\n",
    "                  columns = ['educacion', 'experiencia', 'sexo', 'habilidad', 'actitud'])"
   ]
  },
  {
   "cell_type": "code",
   "execution_count": 76,
   "metadata": {
    "id": "HStpnbxCROqm"
   },
   "outputs": [],
   "source": [
    "df['const'] = 1"
   ]
  },
  {
   "cell_type": "code",
   "execution_count": 77,
   "metadata": {
    "colab": {
     "base_uri": "https://localhost:8080/",
     "height": 204
    },
    "id": "iA37d2-WPWdn",
    "outputId": "56e87993-d9d8-4ce1-eebd-a12e87153e50"
   },
   "outputs": [
    {
     "data": {
      "text/html": [
       "<div>\n",
       "<style scoped>\n",
       "    .dataframe tbody tr th:only-of-type {\n",
       "        vertical-align: middle;\n",
       "    }\n",
       "\n",
       "    .dataframe tbody tr th {\n",
       "        vertical-align: top;\n",
       "    }\n",
       "\n",
       "    .dataframe thead th {\n",
       "        text-align: right;\n",
       "    }\n",
       "</style>\n",
       "<table border=\"1\" class=\"dataframe\">\n",
       "  <thead>\n",
       "    <tr style=\"text-align: right;\">\n",
       "      <th></th>\n",
       "      <th>educacion</th>\n",
       "      <th>experiencia</th>\n",
       "      <th>sexo</th>\n",
       "      <th>habilidad</th>\n",
       "      <th>actitud</th>\n",
       "      <th>const</th>\n",
       "    </tr>\n",
       "  </thead>\n",
       "  <tbody>\n",
       "    <tr>\n",
       "      <th>0</th>\n",
       "      <td>6.295951</td>\n",
       "      <td>4.872665</td>\n",
       "      <td>1</td>\n",
       "      <td>1.604110</td>\n",
       "      <td>0.211519</td>\n",
       "      <td>1</td>\n",
       "    </tr>\n",
       "    <tr>\n",
       "      <th>1</th>\n",
       "      <td>8.632577</td>\n",
       "      <td>8.438485</td>\n",
       "      <td>0</td>\n",
       "      <td>-0.029435</td>\n",
       "      <td>-0.896610</td>\n",
       "      <td>1</td>\n",
       "    </tr>\n",
       "    <tr>\n",
       "      <th>2</th>\n",
       "      <td>6.063743</td>\n",
       "      <td>19.943338</td>\n",
       "      <td>0</td>\n",
       "      <td>0.711999</td>\n",
       "      <td>-0.521510</td>\n",
       "      <td>1</td>\n",
       "    </tr>\n",
       "    <tr>\n",
       "      <th>3</th>\n",
       "      <td>7.616010</td>\n",
       "      <td>14.506506</td>\n",
       "      <td>0</td>\n",
       "      <td>-0.373787</td>\n",
       "      <td>0.434597</td>\n",
       "      <td>1</td>\n",
       "    </tr>\n",
       "    <tr>\n",
       "      <th>4</th>\n",
       "      <td>12.537118</td>\n",
       "      <td>11.772794</td>\n",
       "      <td>0</td>\n",
       "      <td>-0.883852</td>\n",
       "      <td>-1.757583</td>\n",
       "      <td>1</td>\n",
       "    </tr>\n",
       "  </tbody>\n",
       "</table>\n",
       "</div>"
      ],
      "text/plain": [
       "   educacion  experiencia  sexo  habilidad   actitud  const\n",
       "0   6.295951     4.872665     1   1.604110  0.211519      1\n",
       "1   8.632577     8.438485     0  -0.029435 -0.896610      1\n",
       "2   6.063743    19.943338     0   0.711999 -0.521510      1\n",
       "3   7.616010    14.506506     0  -0.373787  0.434597      1\n",
       "4  12.537118    11.772794     0  -0.883852 -1.757583      1"
      ]
     },
     "execution_count": 77,
     "metadata": {
      "tags": []
     },
     "output_type": "execute_result"
    }
   ],
   "source": [
    "df.head()"
   ]
  },
  {
   "cell_type": "code",
   "execution_count": 78,
   "metadata": {
    "colab": {
     "base_uri": "https://localhost:8080/"
    },
    "id": "cpUONaC9QGue",
    "outputId": "06495138-e32f-4058-dabf-fd210a3695b7"
   },
   "outputs": [
    {
     "name": "stderr",
     "output_type": "stream",
     "text": [
      "100%|██████████| 1000000/1000000 [00:48<00:00, 20748.31it/s]\n"
     ]
    }
   ],
   "source": [
    "df['salario'] = df.progress_apply(lambda df: 1 + \n",
    "                                             0.2*df.educacion + \n",
    "                                             0.5*df.experiencia + \n",
    "                                             0.1*df.sexo + \n",
    "                                             0.25*df.habilidad + \n",
    "                                             0.05*df.actitud, axis=1)"
   ]
  },
  {
   "cell_type": "code",
   "execution_count": 144,
   "metadata": {
    "id": "EHVic9vyYQ9n"
   },
   "outputs": [],
   "source": [
    "df['proxy_habilidad'] = df['educacion'].apply(lambda x: x + random.random())\n",
    "df['proxy_actitud'] = df['experiencia'].apply(lambda x: x + random.random())"
   ]
  },
  {
   "cell_type": "code",
   "execution_count": 145,
   "metadata": {
    "colab": {
     "base_uri": "https://localhost:8080/",
     "height": 204
    },
    "id": "yWfJ5swyQdHf",
    "outputId": "f006a8ec-b783-4ffc-9a8d-c8d4cd96fb6d"
   },
   "outputs": [
    {
     "data": {
      "text/html": [
       "<div>\n",
       "<style scoped>\n",
       "    .dataframe tbody tr th:only-of-type {\n",
       "        vertical-align: middle;\n",
       "    }\n",
       "\n",
       "    .dataframe tbody tr th {\n",
       "        vertical-align: top;\n",
       "    }\n",
       "\n",
       "    .dataframe thead th {\n",
       "        text-align: right;\n",
       "    }\n",
       "</style>\n",
       "<table border=\"1\" class=\"dataframe\">\n",
       "  <thead>\n",
       "    <tr style=\"text-align: right;\">\n",
       "      <th></th>\n",
       "      <th>educacion</th>\n",
       "      <th>experiencia</th>\n",
       "      <th>sexo</th>\n",
       "      <th>habilidad</th>\n",
       "      <th>actitud</th>\n",
       "      <th>const</th>\n",
       "      <th>salario</th>\n",
       "      <th>proxy_habilidad</th>\n",
       "      <th>proxy_actitud</th>\n",
       "    </tr>\n",
       "  </thead>\n",
       "  <tbody>\n",
       "    <tr>\n",
       "      <th>0</th>\n",
       "      <td>6.295951</td>\n",
       "      <td>4.872665</td>\n",
       "      <td>1</td>\n",
       "      <td>1.604110</td>\n",
       "      <td>0.211519</td>\n",
       "      <td>1</td>\n",
       "      <td>5.207126</td>\n",
       "      <td>7.272255</td>\n",
       "      <td>5.085044</td>\n",
       "    </tr>\n",
       "    <tr>\n",
       "      <th>1</th>\n",
       "      <td>8.632577</td>\n",
       "      <td>8.438485</td>\n",
       "      <td>0</td>\n",
       "      <td>-0.029435</td>\n",
       "      <td>-0.896610</td>\n",
       "      <td>1</td>\n",
       "      <td>6.893569</td>\n",
       "      <td>9.417635</td>\n",
       "      <td>8.762044</td>\n",
       "    </tr>\n",
       "    <tr>\n",
       "      <th>2</th>\n",
       "      <td>6.063743</td>\n",
       "      <td>19.943338</td>\n",
       "      <td>0</td>\n",
       "      <td>0.711999</td>\n",
       "      <td>-0.521510</td>\n",
       "      <td>1</td>\n",
       "      <td>12.336342</td>\n",
       "      <td>6.535120</td>\n",
       "      <td>20.429431</td>\n",
       "    </tr>\n",
       "    <tr>\n",
       "      <th>3</th>\n",
       "      <td>7.616010</td>\n",
       "      <td>14.506506</td>\n",
       "      <td>0</td>\n",
       "      <td>-0.373787</td>\n",
       "      <td>0.434597</td>\n",
       "      <td>1</td>\n",
       "      <td>9.704738</td>\n",
       "      <td>8.254521</td>\n",
       "      <td>15.067274</td>\n",
       "    </tr>\n",
       "    <tr>\n",
       "      <th>4</th>\n",
       "      <td>12.537118</td>\n",
       "      <td>11.772794</td>\n",
       "      <td>0</td>\n",
       "      <td>-0.883852</td>\n",
       "      <td>-1.757583</td>\n",
       "      <td>1</td>\n",
       "      <td>9.084978</td>\n",
       "      <td>13.239935</td>\n",
       "      <td>12.550082</td>\n",
       "    </tr>\n",
       "  </tbody>\n",
       "</table>\n",
       "</div>"
      ],
      "text/plain": [
       "   educacion  experiencia  sexo  ...    salario  proxy_habilidad  proxy_actitud\n",
       "0   6.295951     4.872665     1  ...   5.207126         7.272255       5.085044\n",
       "1   8.632577     8.438485     0  ...   6.893569         9.417635       8.762044\n",
       "2   6.063743    19.943338     0  ...  12.336342         6.535120      20.429431\n",
       "3   7.616010    14.506506     0  ...   9.704738         8.254521      15.067274\n",
       "4  12.537118    11.772794     0  ...   9.084978        13.239935      12.550082\n",
       "\n",
       "[5 rows x 9 columns]"
      ]
     },
     "execution_count": 145,
     "metadata": {
      "tags": []
     },
     "output_type": "execute_result"
    }
   ],
   "source": [
    "df.head()"
   ]
  },
  {
   "cell_type": "code",
   "execution_count": 146,
   "metadata": {
    "colab": {
     "base_uri": "https://localhost:8080/",
     "height": 296
    },
    "id": "H9aVKLu-YhUg",
    "outputId": "55815f4c-cab2-4552-e0c5-ebea940a2c9d"
   },
   "outputs": [
    {
     "data": {
      "text/plain": [
       "<matplotlib.axes._subplots.AxesSubplot at 0x7fcdcfefaa90>"
      ]
     },
     "execution_count": 146,
     "metadata": {
      "tags": []
     },
     "output_type": "execute_result"
    },
    {
     "data": {
      "image/png": "[encoded data removed]",
      "text/plain": [
       "<Figure size 432x288 with 1 Axes>"
      ]
     },
     "metadata": {
      "needs_background": "light",
      "tags": []
     },
     "output_type": "display_data"
    }
   ],
   "source": [
    "sns.scatterplot(data=df, x='educacion', y='proxy_habilidad')"
   ]
  },
  {
   "cell_type": "code",
   "execution_count": 147,
   "metadata": {
    "colab": {
     "base_uri": "https://localhost:8080/"
    },
    "id": "WVGqklk3RA3r",
    "outputId": "56eae922-23d2-438b-9256-75a7c74f76fb"
   },
   "outputs": [
    {
     "data": {
      "text/plain": [
       "(1000000, 9)"
      ]
     },
     "execution_count": 147,
     "metadata": {
      "tags": []
     },
     "output_type": "execute_result"
    }
   ],
   "source": [
    "df.shape"
   ]
  },
  {
   "cell_type": "code",
   "execution_count": 158,
   "metadata": {
    "id": "vVLECz5lQvfa"
   },
   "outputs": [],
   "source": [
    "df_sample = df.sample(frac=0.01).reset_index(drop=True)"
   ]
  },
  {
   "cell_type": "code",
   "execution_count": 161,
   "metadata": {
    "colab": {
     "base_uri": "https://localhost:8080/"
    },
    "id": "_dL7jchLZnvc",
    "outputId": "8d1c9a5c-fcbf-4ee2-cbbc-fb37c8823a17"
   },
   "outputs": [
    {
     "data": {
      "text/plain": [
       "(10000, 9)"
      ]
     },
     "execution_count": 161,
     "metadata": {
      "tags": []
     },
     "output_type": "execute_result"
    }
   ],
   "source": [
    "df_sample.shape"
   ]
  },
  {
   "cell_type": "code",
   "execution_count": 159,
   "metadata": {
    "colab": {
     "base_uri": "https://localhost:8080/",
     "height": 266
    },
    "id": "PT0x5QVhTHOA",
    "outputId": "08bf4f8a-3095-49b0-86ab-7f191357f687"
   },
   "outputs": [
    {
     "data": {
      "image/png": "[encoded data removed]",
      "text/plain": [
       "<Figure size 432x288 with 1 Axes>"
      ]
     },
     "metadata": {
      "needs_background": "light",
      "tags": []
     },
     "output_type": "display_data"
    }
   ],
   "source": [
    "variable = 'experiencia'\n",
    "\n",
    "plt.hist(df[variable], alpha=0.5, label='population')\n",
    "plt.hist(df_sample[variable], label='sample')\n",
    "plt.legend(loc='upper right')\n",
    "plt.show()"
   ]
  },
  {
   "cell_type": "code",
   "execution_count": 160,
   "metadata": {
    "colab": {
     "base_uri": "https://localhost:8080/",
     "height": 204
    },
    "id": "nIjuYRwGQ-5b",
    "outputId": "7ef84877-9a47-46c1-9270-1a9c0a598392"
   },
   "outputs": [
    {
     "data": {
      "text/html": [
       "<div>\n",
       "<style scoped>\n",
       "    .dataframe tbody tr th:only-of-type {\n",
       "        vertical-align: middle;\n",
       "    }\n",
       "\n",
       "    .dataframe tbody tr th {\n",
       "        vertical-align: top;\n",
       "    }\n",
       "\n",
       "    .dataframe thead th {\n",
       "        text-align: right;\n",
       "    }\n",
       "</style>\n",
       "<table border=\"1\" class=\"dataframe\">\n",
       "  <thead>\n",
       "    <tr style=\"text-align: right;\">\n",
       "      <th></th>\n",
       "      <th>educacion</th>\n",
       "      <th>experiencia</th>\n",
       "      <th>sexo</th>\n",
       "      <th>habilidad</th>\n",
       "      <th>actitud</th>\n",
       "      <th>const</th>\n",
       "      <th>salario</th>\n",
       "      <th>proxy_habilidad</th>\n",
       "      <th>proxy_actitud</th>\n",
       "    </tr>\n",
       "  </thead>\n",
       "  <tbody>\n",
       "    <tr>\n",
       "      <th>0</th>\n",
       "      <td>12.337982</td>\n",
       "      <td>11.582713</td>\n",
       "      <td>1</td>\n",
       "      <td>-0.828469</td>\n",
       "      <td>1.781367</td>\n",
       "      <td>1</td>\n",
       "      <td>9.240904</td>\n",
       "      <td>12.590556</td>\n",
       "      <td>12.577358</td>\n",
       "    </tr>\n",
       "    <tr>\n",
       "      <th>1</th>\n",
       "      <td>8.187274</td>\n",
       "      <td>4.184570</td>\n",
       "      <td>0</td>\n",
       "      <td>-0.733159</td>\n",
       "      <td>-1.042108</td>\n",
       "      <td>1</td>\n",
       "      <td>4.494345</td>\n",
       "      <td>8.603876</td>\n",
       "      <td>4.366320</td>\n",
       "    </tr>\n",
       "    <tr>\n",
       "      <th>2</th>\n",
       "      <td>7.099435</td>\n",
       "      <td>1.835249</td>\n",
       "      <td>0</td>\n",
       "      <td>1.356478</td>\n",
       "      <td>1.794440</td>\n",
       "      <td>1</td>\n",
       "      <td>3.766353</td>\n",
       "      <td>7.535699</td>\n",
       "      <td>2.117974</td>\n",
       "    </tr>\n",
       "    <tr>\n",
       "      <th>3</th>\n",
       "      <td>8.955929</td>\n",
       "      <td>18.132508</td>\n",
       "      <td>0</td>\n",
       "      <td>-2.000166</td>\n",
       "      <td>0.594313</td>\n",
       "      <td>1</td>\n",
       "      <td>11.387114</td>\n",
       "      <td>9.809661</td>\n",
       "      <td>18.852573</td>\n",
       "    </tr>\n",
       "    <tr>\n",
       "      <th>4</th>\n",
       "      <td>8.960819</td>\n",
       "      <td>17.898390</td>\n",
       "      <td>1</td>\n",
       "      <td>0.741653</td>\n",
       "      <td>-0.452027</td>\n",
       "      <td>1</td>\n",
       "      <td>12.004171</td>\n",
       "      <td>9.365154</td>\n",
       "      <td>18.549420</td>\n",
       "    </tr>\n",
       "  </tbody>\n",
       "</table>\n",
       "</div>"
      ],
      "text/plain": [
       "   educacion  experiencia  sexo  ...    salario  proxy_habilidad  proxy_actitud\n",
       "0  12.337982    11.582713     1  ...   9.240904        12.590556      12.577358\n",
       "1   8.187274     4.184570     0  ...   4.494345         8.603876       4.366320\n",
       "2   7.099435     1.835249     0  ...   3.766353         7.535699       2.117974\n",
       "3   8.955929    18.132508     0  ...  11.387114         9.809661      18.852573\n",
       "4   8.960819    17.898390     1  ...  12.004171         9.365154      18.549420\n",
       "\n",
       "[5 rows x 9 columns]"
      ]
     },
     "execution_count": 160,
     "metadata": {
      "tags": []
     },
     "output_type": "execute_result"
    }
   ],
   "source": [
    "df_sample.head()"
   ]
  },
  {
   "cell_type": "code",
   "execution_count": 162,
   "metadata": {
    "colab": {
     "base_uri": "https://localhost:8080/"
    },
    "id": "Gf2S2geiRCmD",
    "outputId": "812be7ec-be7f-47d7-e49b-5c4370cabba9"
   },
   "outputs": [
    {
     "name": "stdout",
     "output_type": "stream",
     "text": [
      "                            OLS Regression Results                            \n",
      "==============================================================================\n",
      "Dep. Variable:                salario   R-squared:                       1.000\n",
      "Model:                            OLS   Adj. R-squared:                  1.000\n",
      "Method:                 Least Squares   F-statistic:                 5.628e+33\n",
      "Date:                Wed, 05 May 2021   Prob (F-statistic):               0.00\n",
      "Time:                        21:19:41   Log-Likelihood:             3.2246e+05\n",
      "No. Observations:               10000   AIC:                        -6.449e+05\n",
      "Df Residuals:                    9994   BIC:                        -6.449e+05\n",
      "Df Model:                           5                                         \n",
      "Covariance Type:            nonrobust                                         \n",
      "===============================================================================\n",
      "                  coef    std err          t      P>|t|      [0.025      0.975]\n",
      "-------------------------------------------------------------------------------\n",
      "educacion       0.2000   7.96e-18   2.51e+16      0.000       0.200       0.200\n",
      "experiencia     0.5000   3.02e-18   1.66e+17      0.000       0.500       0.500\n",
      "sexo            0.1000    4.8e-17   2.08e+15      0.000       0.100       0.100\n",
      "habilidad       0.2500    2.4e-17   1.04e+16      0.000       0.250       0.250\n",
      "actitud         0.0500   2.37e-17   2.11e+15      0.000       0.050       0.050\n",
      "const           1.0000   8.12e-17   1.23e+16      0.000       1.000       1.000\n",
      "==============================================================================\n",
      "Omnibus:                      230.966   Durbin-Watson:                   0.577\n",
      "Prob(Omnibus):                  0.000   Jarque-Bera (JB):              392.287\n",
      "Skew:                           0.205   Prob(JB):                     6.55e-86\n",
      "Kurtosis:                       3.880   Cond. No.                         55.7\n",
      "==============================================================================\n",
      "\n",
      "Warnings:\n",
      "[1] Standard Errors assume that the covariance matrix of the errors is correctly specified.\n"
     ]
    }
   ],
   "source": [
    "mod = sm.OLS(df_sample['salario'], df_sample[['educacion', 'experiencia', 'sexo', 'habilidad', 'actitud', 'const']])\n",
    "res = mod.fit()\n",
    "print(res.summary())"
   ]
  },
  {
   "cell_type": "code",
   "execution_count": 163,
   "metadata": {
    "colab": {
     "base_uri": "https://localhost:8080/"
    },
    "id": "2ujE9po6RV0O",
    "outputId": "69ab303e-8660-4ae7-c183-ddd74b5eb80a"
   },
   "outputs": [
    {
     "name": "stdout",
     "output_type": "stream",
     "text": [
      "                            OLS Regression Results                            \n",
      "==============================================================================\n",
      "Dep. Variable:                salario   R-squared:                       0.996\n",
      "Model:                            OLS   Adj. R-squared:                  0.996\n",
      "Method:                 Least Squares   F-statistic:                 8.307e+05\n",
      "Date:                Wed, 05 May 2021   Prob (F-statistic):               0.00\n",
      "Time:                        21:19:44   Log-Likelihood:                -494.75\n",
      "No. Observations:               10000   AIC:                             997.5\n",
      "Df Residuals:                    9996   BIC:                             1026.\n",
      "Df Model:                           3                                         \n",
      "Covariance Type:            nonrobust                                         \n",
      "===============================================================================\n",
      "                  coef    std err          t      P>|t|      [0.025      0.975]\n",
      "-------------------------------------------------------------------------------\n",
      "educacion       0.1999      0.001    236.772      0.000       0.198       0.202\n",
      "experiencia     0.5001      0.000   1563.810      0.000       0.499       0.501\n",
      "sexo            0.0998      0.005     19.629      0.000       0.090       0.110\n",
      "const           1.0011      0.009    116.314      0.000       0.984       1.018\n",
      "==============================================================================\n",
      "Omnibus:                        1.270   Durbin-Watson:                   2.020\n",
      "Prob(Omnibus):                  0.530   Jarque-Bera (JB):                1.272\n",
      "Skew:                           0.028   Prob(JB):                        0.529\n",
      "Kurtosis:                       2.996   Cond. No.                         55.7\n",
      "==============================================================================\n",
      "\n",
      "Warnings:\n",
      "[1] Standard Errors assume that the covariance matrix of the errors is correctly specified.\n"
     ]
    }
   ],
   "source": [
    "mod = sm.OLS(df_sample['salario'], df_sample[['educacion', 'experiencia', 'sexo', 'const']])\n",
    "res = mod.fit()\n",
    "print(res.summary())"
   ]
  },
  {
   "cell_type": "code",
   "execution_count": 164,
   "metadata": {
    "colab": {
     "base_uri": "https://localhost:8080/"
    },
    "id": "DaptitDgYtej",
    "outputId": "aa5e39a2-3220-41bc-8faa-33632121df39"
   },
   "outputs": [
    {
     "name": "stdout",
     "output_type": "stream",
     "text": [
      "                            OLS Regression Results                            \n",
      "==============================================================================\n",
      "Dep. Variable:                salario   R-squared:                       0.996\n",
      "Model:                            OLS   Adj. R-squared:                  0.996\n",
      "Method:                 Least Squares   F-statistic:                 4.985e+05\n",
      "Date:                Wed, 05 May 2021   Prob (F-statistic):               0.00\n",
      "Time:                        21:19:56   Log-Likelihood:                -492.92\n",
      "No. Observations:               10000   AIC:                             997.8\n",
      "Df Residuals:                    9994   BIC:                             1041.\n",
      "Df Model:                           5                                         \n",
      "Covariance Type:            nonrobust                                         \n",
      "===================================================================================\n",
      "                      coef    std err          t      P>|t|      [0.025      0.975]\n",
      "-----------------------------------------------------------------------------------\n",
      "educacion           0.2116      0.009     24.006      0.000       0.194       0.229\n",
      "experiencia         0.5121      0.009     58.302      0.000       0.495       0.529\n",
      "sexo                0.1000      0.005     19.654      0.000       0.090       0.110\n",
      "proxy_habilidad    -0.0117      0.009     -1.338      0.181      -0.029       0.005\n",
      "proxy_actitud      -0.0120      0.009     -1.363      0.173      -0.029       0.005\n",
      "const               1.0127      0.011     96.261      0.000       0.992       1.033\n",
      "==============================================================================\n",
      "Omnibus:                        1.146   Durbin-Watson:                   2.021\n",
      "Prob(Omnibus):                  0.564   Jarque-Bera (JB):                1.151\n",
      "Skew:                           0.026   Prob(JB):                        0.563\n",
      "Kurtosis:                       2.995   Cond. No.                         131.\n",
      "==============================================================================\n",
      "\n",
      "Warnings:\n",
      "[1] Standard Errors assume that the covariance matrix of the errors is correctly specified.\n"
     ]
    }
   ],
   "source": [
    "mod = sm.OLS(df_sample['salario'], df_sample[['educacion', 'experiencia', 'sexo', 'proxy_habilidad', 'proxy_actitud', 'const']])\n",
    "res = mod.fit()\n",
    "print(res.summary())"
   ]
  },
  {
   "cell_type": "code",
   "execution_count": 165,
   "metadata": {
    "colab": {
     "base_uri": "https://localhost:8080/"
    },
    "id": "Ci4jkxepRV4b",
    "outputId": "5e8af9be-4526-407c-c44e-de41213c6c25"
   },
   "outputs": [
    {
     "name": "stdout",
     "output_type": "stream",
     "text": [
      "                            OLS Regression Results                            \n",
      "==============================================================================\n",
      "Dep. Variable:                salario   R-squared:                       0.000\n",
      "Model:                            OLS   Adj. R-squared:                  0.000\n",
      "Method:                 Least Squares   F-statistic:                     4.879\n",
      "Date:                Wed, 05 May 2021   Prob (F-statistic):             0.0272\n",
      "Time:                        21:20:05   Log-Likelihood:                -28106.\n",
      "No. Observations:               10000   AIC:                         5.622e+04\n",
      "Df Residuals:                    9998   BIC:                         5.623e+04\n",
      "Df Model:                           1                                         \n",
      "Covariance Type:            nonrobust                                         \n",
      "==============================================================================\n",
      "                 coef    std err          t      P>|t|      [0.025      0.975]\n",
      "------------------------------------------------------------------------------\n",
      "sexo           0.1777      0.080      2.209      0.027       0.020       0.335\n",
      "const          8.5584      0.057    149.872      0.000       8.446       8.670\n",
      "==============================================================================\n",
      "Omnibus:                        0.530   Durbin-Watson:                   1.979\n",
      "Prob(Omnibus):                  0.767   Jarque-Bera (JB):                0.495\n",
      "Skew:                           0.010   Prob(JB):                        0.781\n",
      "Kurtosis:                       3.028   Cond. No.                         2.63\n",
      "==============================================================================\n",
      "\n",
      "Warnings:\n",
      "[1] Standard Errors assume that the covariance matrix of the errors is correctly specified.\n"
     ]
    }
   ],
   "source": [
    "mod = sm.OLS(df_sample['salario'], df_sample[['sexo', 'const']])\n",
    "res = mod.fit()\n",
    "print(res.summary())"
   ]
  },
  {
   "cell_type": "code",
   "execution_count": 171,
   "metadata": {
    "id": "LqFs39MdVpNk"
   },
   "outputs": [],
   "source": [
    "errores_educacion = []\n",
    "errores_experiencia = []\n",
    "errores_sexo = []\n",
    "\n",
    "for i in [0.1, 0.01, 0.001, 0.0001, 0.00001]:\n",
    "  df_sample = df.copy().sample(frac=i).reset_index(drop=True)\n",
    "  mod = sm.OLS(df_sample['salario'], df_sample[['educacion', 'experiencia', 'sexo', 'const']])\n",
    "  res = mod.fit()\n",
    "  errores_educacion.append(dict(res.bse)['educacion'])\n",
    "  errores_experiencia.append(dict(res.bse)['experiencia'])\n",
    "  errores_sexo.append(dict(res.bse)['sexo'])"
   ]
  },
  {
   "cell_type": "code",
   "execution_count": 172,
   "metadata": {
    "colab": {
     "base_uri": "https://localhost:8080/"
    },
    "id": "5UAj-hePWnmp",
    "outputId": "878d81d9-f29d-40d6-f843-8b6230eb3350"
   },
   "outputs": [
    {
     "data": {
      "text/plain": [
       "[0.00026860775858215784,\n",
       " 0.0008564706413387604,\n",
       " 0.002633797772540174,\n",
       " 0.01052738459856882,\n",
       " 0.01146306855077954]"
      ]
     },
     "execution_count": 172,
     "metadata": {
      "tags": []
     },
     "output_type": "execute_result"
    }
   ],
   "source": [
    "errores_educacion"
   ]
  },
  {
   "cell_type": "code",
   "execution_count": 173,
   "metadata": {
    "colab": {
     "base_uri": "https://localhost:8080/",
     "height": 286
    },
    "id": "D63oS1NyWMNl",
    "outputId": "cb89d4de-ceb6-4691-e2da-488a65241569"
   },
   "outputs": [
    {
     "data": {
      "text/plain": [
       "[<matplotlib.lines.Line2D at 0x7fcdd4b6ae10>]"
      ]
     },
     "execution_count": 173,
     "metadata": {
      "tags": []
     },
     "output_type": "execute_result"
    },
    {
     "data": {
      "image/png": "[encoded data removed]",
      "text/plain": [
       "<Figure size 432x288 with 1 Axes>"
      ]
     },
     "metadata": {
      "needs_background": "light",
      "tags": []
     },
     "output_type": "display_data"
    }
   ],
   "source": [
    "plt.plot(errores_educacion)"
   ]
  },
  {
   "cell_type": "code",
   "execution_count": 174,
   "metadata": {
    "colab": {
     "base_uri": "https://localhost:8080/"
    },
    "id": "J_GZ7Eb9WsFy",
    "outputId": "450ef174-7a39-4b13-e5ad-be12187790c0"
   },
   "outputs": [
    {
     "data": {
      "text/plain": [
       "[0.0001010570331400699,\n",
       " 0.0003168823335072561,\n",
       " 0.0010436144329267964,\n",
       " 0.0030542720981850875,\n",
       " 0.004751009936633221]"
      ]
     },
     "execution_count": 174,
     "metadata": {
      "tags": []
     },
     "output_type": "execute_result"
    }
   ],
   "source": [
    "errores_experiencia"
   ]
  },
  {
   "cell_type": "code",
   "execution_count": 175,
   "metadata": {
    "colab": {
     "base_uri": "https://localhost:8080/",
     "height": 282
    },
    "id": "E3nKjCxCWS-U",
    "outputId": "560ea7ef-66d5-439b-b25e-47e2da81f006"
   },
   "outputs": [
    {
     "data": {
      "text/plain": [
       "[<matplotlib.lines.Line2D at 0x7fcdd4f78650>]"
      ]
     },
     "execution_count": 175,
     "metadata": {
      "tags": []
     },
     "output_type": "execute_result"
    },
    {
     "data": {
      "image/png": "[encoded data removed]",
      "text/plain": [
       "<Figure size 432x288 with 1 Axes>"
      ]
     },
     "metadata": {
      "needs_background": "light",
      "tags": []
     },
     "output_type": "display_data"
    }
   ],
   "source": [
    "plt.plot(errores_experiencia)"
   ]
  },
  {
   "cell_type": "code",
   "execution_count": 176,
   "metadata": {
    "colab": {
     "base_uri": "https://localhost:8080/"
    },
    "id": "-PJpe2rQWtFg",
    "outputId": "e0c3b342-e905-4c51-98a8-d349730ea2df"
   },
   "outputs": [
    {
     "data": {
      "text/plain": [
       "[0.0016138378102362229,\n",
       " 0.005113225654749338,\n",
       " 0.016392766076948916,\n",
       " 0.05028730861246889,\n",
       " 0.06938362098907007]"
      ]
     },
     "execution_count": 176,
     "metadata": {
      "tags": []
     },
     "output_type": "execute_result"
    }
   ],
   "source": [
    "errores_sexo"
   ]
  },
  {
   "cell_type": "code",
   "execution_count": 177,
   "metadata": {
    "colab": {
     "base_uri": "https://localhost:8080/",
     "height": 282
    },
    "id": "4F4LcIhOWhri",
    "outputId": "9e03fee1-de8b-4051-9847-1655beed83f6"
   },
   "outputs": [
    {
     "data": {
      "text/plain": [
       "[<matplotlib.lines.Line2D at 0x7fcdda405190>]"
      ]
     },
     "execution_count": 177,
     "metadata": {
      "tags": []
     },
     "output_type": "execute_result"
    },
    {
     "data": {
      "image/png": "[encoded data removed]",
      "text/plain": [
       "<Figure size 432x288 with 1 Axes>"
      ]
     },
     "metadata": {
      "needs_background": "light",
      "tags": []
     },
     "output_type": "display_data"
    }
   ],
   "source": [
    "plt.plot(errores_sexo)"
   ]
  },
  {
   "cell_type": "code",
   "execution_count": 178,
   "metadata": {
    "id": "QgXtjofPWlbm"
   },
   "outputs": [],
   "source": [
    "beta_educacion = []\n",
    "beta_experiencia = []\n",
    "beta_sexo = []\n",
    "\n",
    "for i in range(0, 10):\n",
    "  df_sample = df.copy().sample(frac=0.01).reset_index(drop=True)\n",
    "  mod = sm.OLS(df_sample['salario'], df_sample[['educacion', 'experiencia', 'sexo', 'const']])\n",
    "  res = mod.fit()\n",
    "  beta_educacion.append(dict(res.params)['educacion'])\n",
    "  beta_experiencia.append(dict(res.params)['experiencia'])\n",
    "  beta_sexo.append(dict(res.params)['sexo'])"
   ]
  },
  {
   "cell_type": "code",
   "execution_count": 179,
   "metadata": {
    "colab": {
     "base_uri": "https://localhost:8080/"
    },
    "id": "sNnE4wH-W71v",
    "outputId": "2a36b43d-01ed-4d1c-fcc1-7983cabd7e6c"
   },
   "outputs": [
    {
     "data": {
      "text/plain": [
       "[0.19839652198774346,\n",
       " 0.1992682833214796,\n",
       " 0.19990972925855943,\n",
       " 0.19819455214058446,\n",
       " 0.1999667385445008,\n",
       " 0.19941365253128615,\n",
       " 0.20128673947065898,\n",
       " 0.20056915116375726,\n",
       " 0.1993254556898497,\n",
       " 0.20017882124083153]"
      ]
     },
     "execution_count": 179,
     "metadata": {
      "tags": []
     },
     "output_type": "execute_result"
    }
   ],
   "source": [
    "beta_educacion"
   ]
  },
  {
   "cell_type": "code",
   "execution_count": 180,
   "metadata": {
    "colab": {
     "base_uri": "https://localhost:8080/"
    },
    "id": "cQoc32n5XaUu",
    "outputId": "ddac2bac-efc9-4a0e-8eaa-c5070e46b45e"
   },
   "outputs": [
    {
     "data": {
      "text/plain": [
       "0.19965096453492512"
      ]
     },
     "execution_count": 180,
     "metadata": {
      "tags": []
     },
     "output_type": "execute_result"
    }
   ],
   "source": [
    "np.mean(beta_educacion)"
   ]
  },
  {
   "cell_type": "code",
   "execution_count": 181,
   "metadata": {
    "colab": {
     "base_uri": "https://localhost:8080/",
     "height": 282
    },
    "id": "GxmXvqC_XAJk",
    "outputId": "a3fd840d-8090-4658-8845-7c759e0d00bf"
   },
   "outputs": [
    {
     "data": {
      "text/plain": [
       "[<matplotlib.lines.Line2D at 0x7fcdda616e90>]"
      ]
     },
     "execution_count": 181,
     "metadata": {
      "tags": []
     },
     "output_type": "execute_result"
    },
    {
     "data": {
      "image/png": "[encoded data removed]",
      "text/plain": [
       "<Figure size 432x288 with 1 Axes>"
      ]
     },
     "metadata": {
      "needs_background": "light",
      "tags": []
     },
     "output_type": "display_data"
    }
   ],
   "source": [
    "plt.plot(beta_educacion)"
   ]
  },
  {
   "cell_type": "code",
   "execution_count": null,
   "metadata": {
    "id": "Nc0gZrRkXKM7"
   },
   "outputs": [],
   "source": []
  }
 ],
 "metadata": {
  "colab": {
   "collapsed_sections": [],
   "name": "Sesión3.ipynb",
   "provenance": []
  },
  "kernelspec": {
   "display_name": "Python 3",
   "language": "python",
   "name": "python3"
  },
  "language_info": {
   "codemirror_mode": {
    "name": "ipython",
    "version": 3
   },
   "file_extension": ".py",
   "mimetype": "text/x-python",
   "name": "python",
   "nbconvert_exporter": "python",
   "pygments_lexer": "ipython3",
   "version": "3.8.8"
  },
  "nbTranslate": {
   "displayLangs": [
    "*"
   ],
   "hotkey": "alt-t",
   "langInMainMenu": true,
   "sourceLang": "en",
   "targetLang": "fr",
   "useGoogleTranslate": true
  }
 },
 "nbformat": 4,
 "nbformat_minor": 1
}
