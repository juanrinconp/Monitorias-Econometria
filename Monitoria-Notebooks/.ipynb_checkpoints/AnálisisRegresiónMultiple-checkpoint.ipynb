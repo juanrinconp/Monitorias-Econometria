{
 "cells": [
  {
   "cell_type": "markdown",
   "id": "0dbc3d8b",
   "metadata": {},
   "source": [
    "## Monitoria 2 - Econometría\n",
    "### Pontificia Universidad Javeriana\n",
    "#### Análisis de Regresión Multiple - En proceso de creación"
   ]
  },
  {
   "cell_type": "markdown",
   "id": "c3f5ef8e",
   "metadata": {},
   "source": [
    "El objetivo de este documento es dar ejemplos de los tipos de regresiones que podemos realizar, como se hacen en Python y sus interpretaciones. Tanto de sus formas funcionales como de los tipos de regresores (variables continuas, binarias, interacciones, etc.)"
   ]
  },
  {
   "cell_type": "code",
   "execution_count": 1,
   "id": "c064e55c",
   "metadata": {},
   "outputs": [],
   "source": [
    "import pandas as pd \n",
    "import numpy as np \n",
    "import os \n",
    "\n",
    "pathout = './data/'\n",
    "if not os.path.exists(pathout):\n",
    "    os.mkdir(pathout) \n",
    "    pathgraphs = './graphs/'\n",
    "    if not os.path.exists(pathgraphs): \n",
    "        os.mkdir(pathgraphs) "
   ]
  },
  {
   "cell_type": "code",
   "execution_count": 2,
   "id": "9d281960",
   "metadata": {},
   "outputs": [],
   "source": [
    "import statsmodels.api as sm\n",
    "import statsmodels.formula.api as smf"
   ]
  },
  {
   "cell_type": "markdown",
   "id": "8491acbe",
   "metadata": {},
   "source": [
    "Inicialmente se mostrara un ejemplo de cada una de las siguientes formas funcionales para las regresiones, junto con su interpretación:"
   ]
  },
  {
   "cell_type": "markdown",
   "id": "631c2ae9",
   "metadata": {},
   "source": [
    "![title](graphs/loglog.png)"
   ]
  },
  {
   "cell_type": "markdown",
   "id": "1b18965e",
   "metadata": {},
   "source": [
    "## 1. Regresión Nivel - nivel\n",
    "Para esta regresión usaremos datos de la base econmath que contiene datos sobre los resultados en la prueba ACT de estudiantes en estados unidos, junto con algunas características de estos.\n",
    "\n",
    "Estamos interesados en determinar si el promedio en high School afecta los resultados en matemáticas de esta prueba, por lo que usaremos las siguientes variables:\n",
    "\n",
    "####  Nuestra variable dependiente de interés\n",
    "- actmth: Variable con información de la calificación de los estudiantes en la prueba de matemáticas\n",
    "\n",
    "####  Nuestra variable independiente de interés:\n",
    "\n",
    "- hsgpa: Variable con información el promedio en high school del estudiante\n",
    "\n",
    "#### Nuestros controles:\n",
    "\n",
    "- male: Variable binaria que indica si el estudiante es hombre o mujer\n",
    "- colgpa: Variable con información sobre el promedio en el college\n",
    "- study: Variable con información de las horas estudiadas cada semana\n",
    "\n"
   ]
  },
  {
   "cell_type": "code",
   "execution_count": 40,
   "id": "81df1831",
   "metadata": {},
   "outputs": [
    {
     "data": {
      "text/html": [
       "<div>\n",
       "<style scoped>\n",
       "    .dataframe tbody tr th:only-of-type {\n",
       "        vertical-align: middle;\n",
       "    }\n",
       "\n",
       "    .dataframe tbody tr th {\n",
       "        vertical-align: top;\n",
       "    }\n",
       "\n",
       "    .dataframe thead th {\n",
       "        text-align: right;\n",
       "    }\n",
       "</style>\n",
       "<table border=\"1\" class=\"dataframe\">\n",
       "  <thead>\n",
       "    <tr style=\"text-align: right;\">\n",
       "      <th></th>\n",
       "      <th>age</th>\n",
       "      <th>work</th>\n",
       "      <th>study</th>\n",
       "      <th>econhs</th>\n",
       "      <th>colgpa</th>\n",
       "      <th>hsgpa</th>\n",
       "      <th>acteng</th>\n",
       "      <th>actmth</th>\n",
       "      <th>act</th>\n",
       "      <th>mathscr</th>\n",
       "      <th>male</th>\n",
       "      <th>calculus</th>\n",
       "      <th>attexc</th>\n",
       "      <th>attgood</th>\n",
       "      <th>fathcoll</th>\n",
       "      <th>mothcoll</th>\n",
       "      <th>score</th>\n",
       "    </tr>\n",
       "  </thead>\n",
       "  <tbody>\n",
       "    <tr>\n",
       "      <th>0</th>\n",
       "      <td>23</td>\n",
       "      <td>15.0</td>\n",
       "      <td>10.0</td>\n",
       "      <td>0</td>\n",
       "      <td>3.4909</td>\n",
       "      <td>3.355</td>\n",
       "      <td>24.0</td>\n",
       "      <td>26.0</td>\n",
       "      <td>27.0</td>\n",
       "      <td>10</td>\n",
       "      <td>1</td>\n",
       "      <td>1</td>\n",
       "      <td>0</td>\n",
       "      <td>0</td>\n",
       "      <td>1</td>\n",
       "      <td>1</td>\n",
       "      <td>84.430000</td>\n",
       "    </tr>\n",
       "    <tr>\n",
       "      <th>1</th>\n",
       "      <td>23</td>\n",
       "      <td>0.0</td>\n",
       "      <td>22.5</td>\n",
       "      <td>1</td>\n",
       "      <td>2.1000</td>\n",
       "      <td>3.219</td>\n",
       "      <td>23.0</td>\n",
       "      <td>20.0</td>\n",
       "      <td>24.0</td>\n",
       "      <td>9</td>\n",
       "      <td>1</td>\n",
       "      <td>0</td>\n",
       "      <td>0</td>\n",
       "      <td>0</td>\n",
       "      <td>0</td>\n",
       "      <td>1</td>\n",
       "      <td>57.380001</td>\n",
       "    </tr>\n",
       "    <tr>\n",
       "      <th>2</th>\n",
       "      <td>21</td>\n",
       "      <td>25.0</td>\n",
       "      <td>12.0</td>\n",
       "      <td>0</td>\n",
       "      <td>3.0851</td>\n",
       "      <td>3.306</td>\n",
       "      <td>21.0</td>\n",
       "      <td>24.0</td>\n",
       "      <td>21.0</td>\n",
       "      <td>8</td>\n",
       "      <td>1</td>\n",
       "      <td>1</td>\n",
       "      <td>1</td>\n",
       "      <td>0</td>\n",
       "      <td>0</td>\n",
       "      <td>1</td>\n",
       "      <td>66.389999</td>\n",
       "    </tr>\n",
       "    <tr>\n",
       "      <th>3</th>\n",
       "      <td>22</td>\n",
       "      <td>30.0</td>\n",
       "      <td>40.0</td>\n",
       "      <td>0</td>\n",
       "      <td>2.6805</td>\n",
       "      <td>3.977</td>\n",
       "      <td>31.0</td>\n",
       "      <td>28.0</td>\n",
       "      <td>31.0</td>\n",
       "      <td>10</td>\n",
       "      <td>0</td>\n",
       "      <td>1</td>\n",
       "      <td>0</td>\n",
       "      <td>1</td>\n",
       "      <td>1</td>\n",
       "      <td>1</td>\n",
       "      <td>81.150002</td>\n",
       "    </tr>\n",
       "    <tr>\n",
       "      <th>4</th>\n",
       "      <td>22</td>\n",
       "      <td>25.0</td>\n",
       "      <td>15.0</td>\n",
       "      <td>1</td>\n",
       "      <td>3.7454</td>\n",
       "      <td>3.890</td>\n",
       "      <td>28.0</td>\n",
       "      <td>31.0</td>\n",
       "      <td>32.0</td>\n",
       "      <td>8</td>\n",
       "      <td>1</td>\n",
       "      <td>1</td>\n",
       "      <td>0</td>\n",
       "      <td>1</td>\n",
       "      <td>0</td>\n",
       "      <td>1</td>\n",
       "      <td>95.900002</td>\n",
       "    </tr>\n",
       "    <tr>\n",
       "      <th>5</th>\n",
       "      <td>22</td>\n",
       "      <td>0.0</td>\n",
       "      <td>30.0</td>\n",
       "      <td>0</td>\n",
       "      <td>3.0555</td>\n",
       "      <td>3.500</td>\n",
       "      <td>25.0</td>\n",
       "      <td>30.0</td>\n",
       "      <td>28.0</td>\n",
       "      <td>10</td>\n",
       "      <td>1</td>\n",
       "      <td>1</td>\n",
       "      <td>1</td>\n",
       "      <td>0</td>\n",
       "      <td>0</td>\n",
       "      <td>1</td>\n",
       "      <td>83.610001</td>\n",
       "    </tr>\n",
       "    <tr>\n",
       "      <th>6</th>\n",
       "      <td>22</td>\n",
       "      <td>20.0</td>\n",
       "      <td>25.0</td>\n",
       "      <td>1</td>\n",
       "      <td>2.1666</td>\n",
       "      <td>3.000</td>\n",
       "      <td>15.0</td>\n",
       "      <td>19.0</td>\n",
       "      <td>18.0</td>\n",
       "      <td>9</td>\n",
       "      <td>0</td>\n",
       "      <td>1</td>\n",
       "      <td>0</td>\n",
       "      <td>1</td>\n",
       "      <td>0</td>\n",
       "      <td>0</td>\n",
       "      <td>76.230003</td>\n",
       "    </tr>\n",
       "    <tr>\n",
       "      <th>7</th>\n",
       "      <td>22</td>\n",
       "      <td>20.0</td>\n",
       "      <td>15.0</td>\n",
       "      <td>0</td>\n",
       "      <td>3.2544</td>\n",
       "      <td>3.770</td>\n",
       "      <td>28.0</td>\n",
       "      <td>30.0</td>\n",
       "      <td>32.0</td>\n",
       "      <td>9</td>\n",
       "      <td>1</td>\n",
       "      <td>1</td>\n",
       "      <td>1</td>\n",
       "      <td>0</td>\n",
       "      <td>1</td>\n",
       "      <td>1</td>\n",
       "      <td>84.430000</td>\n",
       "    </tr>\n",
       "    <tr>\n",
       "      <th>8</th>\n",
       "      <td>22</td>\n",
       "      <td>28.0</td>\n",
       "      <td>7.0</td>\n",
       "      <td>0</td>\n",
       "      <td>3.1298</td>\n",
       "      <td>3.927</td>\n",
       "      <td>28.0</td>\n",
       "      <td>28.0</td>\n",
       "      <td>30.0</td>\n",
       "      <td>6</td>\n",
       "      <td>0</td>\n",
       "      <td>0</td>\n",
       "      <td>1</td>\n",
       "      <td>0</td>\n",
       "      <td>0</td>\n",
       "      <td>1</td>\n",
       "      <td>79.510002</td>\n",
       "    </tr>\n",
       "    <tr>\n",
       "      <th>9</th>\n",
       "      <td>21</td>\n",
       "      <td>22.5</td>\n",
       "      <td>25.0</td>\n",
       "      <td>0</td>\n",
       "      <td>2.2424</td>\n",
       "      <td>2.770</td>\n",
       "      <td>18.0</td>\n",
       "      <td>19.0</td>\n",
       "      <td>17.0</td>\n",
       "      <td>9</td>\n",
       "      <td>0</td>\n",
       "      <td>1</td>\n",
       "      <td>0</td>\n",
       "      <td>1</td>\n",
       "      <td>0</td>\n",
       "      <td>0</td>\n",
       "      <td>46.720001</td>\n",
       "    </tr>\n",
       "  </tbody>\n",
       "</table>\n",
       "</div>"
      ],
      "text/plain": [
       "   age  work  study  econhs  colgpa  hsgpa  acteng  actmth   act  mathscr  \\\n",
       "0   23  15.0   10.0       0  3.4909  3.355    24.0    26.0  27.0       10   \n",
       "1   23   0.0   22.5       1  2.1000  3.219    23.0    20.0  24.0        9   \n",
       "2   21  25.0   12.0       0  3.0851  3.306    21.0    24.0  21.0        8   \n",
       "3   22  30.0   40.0       0  2.6805  3.977    31.0    28.0  31.0       10   \n",
       "4   22  25.0   15.0       1  3.7454  3.890    28.0    31.0  32.0        8   \n",
       "5   22   0.0   30.0       0  3.0555  3.500    25.0    30.0  28.0       10   \n",
       "6   22  20.0   25.0       1  2.1666  3.000    15.0    19.0  18.0        9   \n",
       "7   22  20.0   15.0       0  3.2544  3.770    28.0    30.0  32.0        9   \n",
       "8   22  28.0    7.0       0  3.1298  3.927    28.0    28.0  30.0        6   \n",
       "9   21  22.5   25.0       0  2.2424  2.770    18.0    19.0  17.0        9   \n",
       "\n",
       "   male  calculus  attexc  attgood  fathcoll  mothcoll      score  \n",
       "0     1         1       0        0         1         1  84.430000  \n",
       "1     1         0       0        0         0         1  57.380001  \n",
       "2     1         1       1        0         0         1  66.389999  \n",
       "3     0         1       0        1         1         1  81.150002  \n",
       "4     1         1       0        1         0         1  95.900002  \n",
       "5     1         1       1        0         0         1  83.610001  \n",
       "6     0         1       0        1         0         0  76.230003  \n",
       "7     1         1       1        0         1         1  84.430000  \n",
       "8     0         0       1        0         0         1  79.510002  \n",
       "9     0         1       0        1         0         0  46.720001  "
      ]
     },
     "execution_count": 40,
     "metadata": {},
     "output_type": "execute_result"
    }
   ],
   "source": [
    "d0 = pd.read_stata(pathout + 'econmath.dta')\n",
    "d0.head(10)"
   ]
  },
  {
   "cell_type": "code",
   "execution_count": 37,
   "id": "6f3042a2",
   "metadata": {},
   "outputs": [],
   "source": [
    "X0 = d0[['hsgpa' ,'study','male' , 'colgpa']] \n",
    "X0 = sm.add_constant(X0)\n",
    "Y0 = d0.actmth"
   ]
  },
  {
   "cell_type": "code",
   "execution_count": 38,
   "id": "68e9070e",
   "metadata": {},
   "outputs": [
    {
     "name": "stdout",
     "output_type": "stream",
     "text": [
      "                            OLS Regression Results                            \n",
      "==============================================================================\n",
      "Dep. Variable:                 actmth   R-squared:                       0.229\n",
      "Model:                            OLS   Adj. R-squared:                  0.225\n",
      "Method:                 Least Squares   F-statistic:                     60.00\n",
      "Date:                Wed, 12 May 2021   Prob (F-statistic):           2.15e-44\n",
      "Time:                        10:36:33   Log-Likelihood:                -2129.7\n",
      "No. Observations:                 814   AIC:                             4269.\n",
      "Df Residuals:                     809   BIC:                             4293.\n",
      "Df Model:                           4                                         \n",
      "Covariance Type:            nonrobust                                         \n",
      "==============================================================================\n",
      "                 coef    std err          t      P>|t|      [0.025      0.975]\n",
      "------------------------------------------------------------------------------\n",
      "const          6.9690      1.188      5.867      0.000       4.637       9.301\n",
      "hsgpa          3.9937      0.391     10.204      0.000       3.225       4.762\n",
      "study         -0.0515      0.015     -3.406      0.001      -0.081      -0.022\n",
      "male           1.4803      0.238      6.222      0.000       1.013       1.947\n",
      "colgpa         1.0163      0.247      4.107      0.000       0.531       1.502\n",
      "==============================================================================\n",
      "Omnibus:                        5.739   Durbin-Watson:                   2.050\n",
      "Prob(Omnibus):                  0.057   Jarque-Bera (JB):                5.743\n",
      "Skew:                           0.184   Prob(JB):                       0.0566\n",
      "Kurtosis:                       2.817   Cond. No.                         174.\n",
      "==============================================================================\n",
      "\n",
      "Notes:\n",
      "[1] Standard Errors assume that the covariance matrix of the errors is correctly specified.\n"
     ]
    }
   ],
   "source": [
    "reg0 = sm.OLS(endog=Y0, exog=X0, missing = 'drop',)\n",
    "reg0 = reg0.fit()\n",
    "print(reg0.summary())"
   ]
  },
  {
   "cell_type": "markdown",
   "id": "6e0b6f91",
   "metadata": {},
   "source": [
    "Dado que estamos interesados en la interpretación de hsgpa, y tanto nuestra variable independiente como dependiente están en niveles, la interpretación será la siguiente:\n",
    "\n",
    "#### Al aumentar en una unidad el promedio en High School, los resultados de la prueba de matemáticas del ACT aumentaran en promedio y manteniendo todo lo demás constante en 3.99 puntos. Esta es una estimación altamente significativa.\n",
    "\n",
    "Aquí hay que tener presente que el promedio en High School va de 0 a 4, por lo que un aumento de una unidad es bastante. Además, el puntaje máximo en el ACT matemáticas es de 36.\n",
    "Dado lo anterior tendría sentido aplicar logaritmo a la variable hsgpa para ver el efecto de un aumento porcentual sobre el ACT matemáticas."
   ]
  },
  {
   "cell_type": "markdown",
   "id": "c43e42e7",
   "metadata": {},
   "source": [
    "## 2. Regresión Nivel - Log\n",
    "\n",
    "En las regresiones Nivel - Log tendremos nuestra variable dependiente en niveles y nuesta independiente en log.\n",
    "Para este ejemplo usaremos la base de datos econmath del ejemplo anterior, pero esta vez estaremos interesados en determinar como un aumento porcentual en el promedio de High school afecta los resultados de la prueba de matemáticas ACT."
   ]
  },
  {
   "cell_type": "code",
   "execution_count": 41,
   "id": "09384ca9",
   "metadata": {},
   "outputs": [],
   "source": [
    "lhsgpa = np.log(d0.hsgpa)"
   ]
  },
  {
   "cell_type": "code",
   "execution_count": 48,
   "id": "8b750080",
   "metadata": {},
   "outputs": [],
   "source": [
    "X01 = d0[['study','male' , 'colgpa',]].copy() \n",
    "X01['lhsgpa'] = lhsgpa \n",
    "X01 = sm.add_constant(X01)\n",
    "Y01 = d0.actmth"
   ]
  },
  {
   "cell_type": "code",
   "execution_count": 49,
   "id": "06d1fd9c",
   "metadata": {},
   "outputs": [
    {
     "name": "stdout",
     "output_type": "stream",
     "text": [
      "                            OLS Regression Results                            \n",
      "==============================================================================\n",
      "Dep. Variable:                 actmth   R-squared:                       0.226\n",
      "Model:                            OLS   Adj. R-squared:                  0.222\n",
      "Method:                 Least Squares   F-statistic:                     58.95\n",
      "Date:                Wed, 12 May 2021   Prob (F-statistic):           1.08e-43\n",
      "Time:                        10:55:10   Log-Likelihood:                -2131.4\n",
      "No. Observations:                 814   AIC:                             4273.\n",
      "Df Residuals:                     809   BIC:                             4296.\n",
      "Df Model:                           4                                         \n",
      "Covariance Type:            nonrobust                                         \n",
      "==============================================================================\n",
      "                 coef    std err          t      P>|t|      [0.025      0.975]\n",
      "------------------------------------------------------------------------------\n",
      "const          4.7701      1.391      3.430      0.001       2.040       7.500\n",
      "study         -0.0515      0.015     -3.402      0.001      -0.081      -0.022\n",
      "male           1.4687      0.238      6.163      0.000       1.001       1.936\n",
      "colgpa         1.0699      0.246      4.343      0.000       0.586       1.553\n",
      "lhsgpa        12.8224      1.279     10.022      0.000      10.311      15.334\n",
      "==============================================================================\n",
      "Omnibus:                        5.775   Durbin-Watson:                   2.050\n",
      "Prob(Omnibus):                  0.056   Jarque-Bera (JB):                5.808\n",
      "Skew:                           0.188   Prob(JB):                       0.0548\n",
      "Kurtosis:                       2.828   Cond. No.                         254.\n",
      "==============================================================================\n",
      "\n",
      "Notes:\n",
      "[1] Standard Errors assume that the covariance matrix of the errors is correctly specified.\n"
     ]
    }
   ],
   "source": [
    "reg1 = sm.OLS(endog=Y01, exog=X01, missing = 'drop')\n",
    "reg1 = reg1.fit()\n",
    "print(reg1.summary())"
   ]
  },
  {
   "cell_type": "markdown",
   "id": "53c1cd5b",
   "metadata": {},
   "source": [
    "Ahora, dado que esta es una regresión Nivel - Log, la interpretación para nuestra variable de interés \"lhsgpa\" será la siguiente:\n",
    "\n",
    "#### Ante un aumento de un 1% en el promedio de High School, los resultados en el ACT matemáticas aumentaran en promedio y manteniendo todo lo demás constante, en 0.128 puntos.\n",
    "\n",
    "Como se pudo observar, el coeficiente de lhsgpa se debe dividir por 100 para interpretar correctamente."
   ]
  },
  {
   "cell_type": "markdown",
   "id": "7cf5f0e9",
   "metadata": {},
   "source": [
    "## 3. Regresión Log - Nivel"
   ]
  },
  {
   "cell_type": "markdown",
   "id": "6e9cf410",
   "metadata": {},
   "source": [
    "Para este tipo de regresión importaremos una base de datos que contiene información sobre 526 trabajadores para el año 1976. Supongamos que estamos interesados en determinar el efecto de la educación sobre el salario por hora de los trabajadores. Este salario, lo tendremos en logaritmo, por lo que tendremos una interpretación Log - Nivel"
   ]
  },
  {
   "cell_type": "code",
   "execution_count": 52,
   "id": "6746346c",
   "metadata": {},
   "outputs": [
    {
     "data": {
      "text/html": [
       "<div>\n",
       "<style scoped>\n",
       "    .dataframe tbody tr th:only-of-type {\n",
       "        vertical-align: middle;\n",
       "    }\n",
       "\n",
       "    .dataframe tbody tr th {\n",
       "        vertical-align: top;\n",
       "    }\n",
       "\n",
       "    .dataframe thead th {\n",
       "        text-align: right;\n",
       "    }\n",
       "</style>\n",
       "<table border=\"1\" class=\"dataframe\">\n",
       "  <thead>\n",
       "    <tr style=\"text-align: right;\">\n",
       "      <th></th>\n",
       "      <th>wage</th>\n",
       "      <th>educ</th>\n",
       "      <th>exper</th>\n",
       "      <th>tenure</th>\n",
       "      <th>nonwhite</th>\n",
       "      <th>female</th>\n",
       "      <th>married</th>\n",
       "      <th>numdep</th>\n",
       "      <th>smsa</th>\n",
       "      <th>northcen</th>\n",
       "      <th>...</th>\n",
       "      <th>trcommpu</th>\n",
       "      <th>trade</th>\n",
       "      <th>services</th>\n",
       "      <th>profserv</th>\n",
       "      <th>profocc</th>\n",
       "      <th>clerocc</th>\n",
       "      <th>servocc</th>\n",
       "      <th>lwage</th>\n",
       "      <th>expersq</th>\n",
       "      <th>tenursq</th>\n",
       "    </tr>\n",
       "  </thead>\n",
       "  <tbody>\n",
       "    <tr>\n",
       "      <th>0</th>\n",
       "      <td>3.1</td>\n",
       "      <td>11</td>\n",
       "      <td>2</td>\n",
       "      <td>0</td>\n",
       "      <td>0</td>\n",
       "      <td>1</td>\n",
       "      <td>0</td>\n",
       "      <td>2</td>\n",
       "      <td>1</td>\n",
       "      <td>0</td>\n",
       "      <td>...</td>\n",
       "      <td>0</td>\n",
       "      <td>0</td>\n",
       "      <td>0</td>\n",
       "      <td>0</td>\n",
       "      <td>0</td>\n",
       "      <td>0</td>\n",
       "      <td>0</td>\n",
       "      <td>1.131402</td>\n",
       "      <td>4</td>\n",
       "      <td>0</td>\n",
       "    </tr>\n",
       "  </tbody>\n",
       "</table>\n",
       "<p>1 rows × 24 columns</p>\n",
       "</div>"
      ],
      "text/plain": [
       "   wage  educ  exper  tenure  nonwhite  female  married  numdep  smsa  \\\n",
       "0   3.1    11      2       0         0       1        0       2     1   \n",
       "\n",
       "   northcen  ...  trcommpu  trade  services  profserv  profocc  clerocc  \\\n",
       "0         0  ...         0      0         0         0        0        0   \n",
       "\n",
       "   servocc     lwage  expersq  tenursq  \n",
       "0        0  1.131402        4        0  \n",
       "\n",
       "[1 rows x 24 columns]"
      ]
     },
     "execution_count": 52,
     "metadata": {},
     "output_type": "execute_result"
    }
   ],
   "source": [
    "d1 = pd.read_stata(pathout + 'WAGE1.dta')\n",
    "d1.head(1)"
   ]
  },
  {
   "cell_type": "markdown",
   "id": "a550866d",
   "metadata": {},
   "source": [
    "####  Nuestra variable dependiente de interés\n",
    "- lwage:Variable con información del salario por hora de los trabajadores en logaritmo\n",
    "\n",
    "####  Nuestra variable independiente de interés:\n",
    "\n",
    "- educ: Variable con información de los años de educacion de los trabajadores \n",
    "\n",
    "#### Nuestros controles:\n",
    "\n",
    "- exper Variable con información de los años de experiencia del trabajador\n",
    "- expersq: Variable \"exper\" al cuadrado\n",
    "- female: Variable binaria que indica si el trabajador es hombre o mujer\n"
   ]
  },
  {
   "cell_type": "code",
   "execution_count": 53,
   "id": "c29a1f89",
   "metadata": {},
   "outputs": [],
   "source": [
    "X1 = d1[['educ','exper' , 'expersq' , 'female']] \n",
    "X1 = sm.add_constant(X1)\n",
    "Y = d1.lwage"
   ]
  },
  {
   "cell_type": "code",
   "execution_count": 21,
   "id": "e91fbad1",
   "metadata": {},
   "outputs": [
    {
     "name": "stdout",
     "output_type": "stream",
     "text": [
      "                            OLS Regression Results                            \n",
      "==============================================================================\n",
      "Dep. Variable:                  lwage   R-squared:                       0.400\n",
      "Model:                            OLS   Adj. R-squared:                  0.395\n",
      "Method:                 Least Squares   F-statistic:                     86.69\n",
      "Date:                Wed, 12 May 2021   Prob (F-statistic):           2.03e-56\n",
      "Time:                        10:30:02   Log-Likelihood:                -279.27\n",
      "No. Observations:                 526   AIC:                             568.5\n",
      "Df Residuals:                     521   BIC:                             589.9\n",
      "Df Model:                           4                                         \n",
      "Covariance Type:            nonrobust                                         \n",
      "==============================================================================\n",
      "                 coef    std err          t      P>|t|      [0.025      0.975]\n",
      "------------------------------------------------------------------------------\n",
      "const          0.3905      0.102      3.820      0.000       0.190       0.591\n",
      "educ           0.0841      0.007     12.094      0.000       0.070       0.098\n",
      "exper          0.0389      0.005      8.067      0.000       0.029       0.048\n",
      "expersq       -0.0007      0.000     -6.389      0.000      -0.001      -0.000\n",
      "female        -0.3372      0.036     -9.283      0.000      -0.409      -0.266\n",
      "==============================================================================\n",
      "Omnibus:                        7.110   Durbin-Watson:                   1.776\n",
      "Prob(Omnibus):                  0.029   Jarque-Bera (JB):               10.533\n",
      "Skew:                           0.007   Prob(JB):                      0.00516\n",
      "Kurtosis:                       3.693   Cond. No.                     4.44e+03\n",
      "==============================================================================\n",
      "\n",
      "Notes:\n",
      "[1] Standard Errors assume that the covariance matrix of the errors is correctly specified.\n",
      "[2] The condition number is large, 4.44e+03. This might indicate that there are\n",
      "strong multicollinearity or other numerical problems.\n"
     ]
    }
   ],
   "source": [
    "reg1 = sm.OLS(endog=Y, exog=X1,)\n",
    "reg1 = reg1.fit()\n",
    "print(reg1.summary())"
   ]
  },
  {
   "cell_type": "markdown",
   "id": "ce0eb0b7",
   "metadata": {},
   "source": [
    "Ahora teniendo en cuenta que wage esta en logaritmos y educ esta en niveles diremos que:\n",
    "\n",
    "#### Al aumentar en un año la educación de las personas, su salario por hora aumentaría en promedio en 8.41%, manteniendo lo demás constante. Esta estimación resulta ser altamente significativa. \n",
    "\n",
    "La estimación obtenida para el regresor educ se multiplica por 100."
   ]
  },
  {
   "cell_type": "markdown",
   "id": "8cc74db0",
   "metadata": {},
   "source": [
    "## 4. Regresión Log - Log"
   ]
  },
  {
   "cell_type": "markdown",
   "id": "c84e428b",
   "metadata": {},
   "source": [
    "Por ultimo, para realizar una regresión Log - Log, tanto nuestra variable dependiente como nuestra variable independiente deben estar en logaritmo.\n",
    "\n",
    "Para este caso estamos interesados en el efecto de un aumento porcentual en la experiencia sobre el salario por hora. Seguiremos usando la base de datos WAGE1 pero ahora, exper estará en logaritmo."
   ]
  },
  {
   "cell_type": "code",
   "execution_count": 74,
   "id": "bd2d7f2d",
   "metadata": {},
   "outputs": [],
   "source": [
    "lexper = np.log(d1.exper)"
   ]
  },
  {
   "cell_type": "code",
   "execution_count": 75,
   "id": "02768ab6",
   "metadata": {},
   "outputs": [],
   "source": [
    "X4 = d1[['educ' , 'expersq' , 'female']].copy() \n",
    "X4['lexper'] = lexper \n",
    "X4 = sm.add_constant(X4)\n",
    "Y4 = d1.lwage"
   ]
  },
  {
   "cell_type": "code",
   "execution_count": 76,
   "id": "b605577a",
   "metadata": {},
   "outputs": [
    {
     "name": "stdout",
     "output_type": "stream",
     "text": [
      "                            OLS Regression Results                            \n",
      "==============================================================================\n",
      "Dep. Variable:                  lwage   R-squared:                       0.408\n",
      "Model:                            OLS   Adj. R-squared:                  0.403\n",
      "Method:                 Least Squares   F-statistic:                     89.67\n",
      "Date:                Wed, 12 May 2021   Prob (F-statistic):           5.91e-58\n",
      "Time:                        11:10:54   Log-Likelihood:                -275.68\n",
      "No. Observations:                 526   AIC:                             561.4\n",
      "Df Residuals:                     521   BIC:                             582.7\n",
      "Df Model:                           4                                         \n",
      "Covariance Type:            nonrobust                                         \n",
      "==============================================================================\n",
      "                 coef    std err          t      P>|t|      [0.025      0.975]\n",
      "------------------------------------------------------------------------------\n",
      "const          0.2745      0.106      2.601      0.010       0.067       0.482\n",
      "educ           0.0837      0.007     12.103      0.000       0.070       0.097\n",
      "expersq       -0.0002   4.68e-05     -3.376      0.001      -0.000   -6.61e-05\n",
      "female        -0.3391      0.036     -9.404      0.000      -0.410      -0.268\n",
      "lexper         0.2235      0.026      8.551      0.000       0.172       0.275\n",
      "==============================================================================\n",
      "Omnibus:                        8.541   Durbin-Watson:                   1.759\n",
      "Prob(Omnibus):                  0.014   Jarque-Bera (JB):               13.283\n",
      "Skew:                           0.054   Prob(JB):                      0.00130\n",
      "Kurtosis:                       3.771   Cond. No.                     4.63e+03\n",
      "==============================================================================\n",
      "\n",
      "Notes:\n",
      "[1] Standard Errors assume that the covariance matrix of the errors is correctly specified.\n",
      "[2] The condition number is large, 4.63e+03. This might indicate that there are\n",
      "strong multicollinearity or other numerical problems.\n"
     ]
    }
   ],
   "source": [
    "reg4 = sm.OLS(endog=Y4, exog=X4, missing = 'drop',)\n",
    "reg4 = reg4.fit()\n",
    "print(reg4.summary())"
   ]
  },
  {
   "cell_type": "markdown",
   "id": "eafe5eaf",
   "metadata": {},
   "source": [
    "Teniendo en cuenta que tanto wage como exper esta en logaritmos, tendremos una interpretación log - log, y diremos que:\n",
    "\n",
    "#### Un aumento en un 1% en la experiencia de las personas aumenta en promedio y manteniendo lo demás constante, el salario por hora en 0.223 puntos porcentuales, siendo una estimación altamente significativa."
   ]
  },
  {
   "cell_type": "code",
   "execution_count": null,
   "id": "a07fb96f",
   "metadata": {},
   "outputs": [],
   "source": []
  }
 ],
 "metadata": {
  "kernelspec": {
   "display_name": "Python 3",
   "language": "python",
   "name": "python3"
  },
  "language_info": {
   "codemirror_mode": {
    "name": "ipython",
    "version": 3
   },
   "file_extension": ".py",
   "mimetype": "text/x-python",
   "name": "python",
   "nbconvert_exporter": "python",
   "pygments_lexer": "ipython3",
   "version": "3.8.8"
  },
  "nbTranslate": {
   "displayLangs": [
    "*"
   ],
   "hotkey": "alt-t",
   "langInMainMenu": true,
   "sourceLang": "en",
   "targetLang": "fr",
   "useGoogleTranslate": true
  }
 },
 "nbformat": 4,
 "nbformat_minor": 5
}
