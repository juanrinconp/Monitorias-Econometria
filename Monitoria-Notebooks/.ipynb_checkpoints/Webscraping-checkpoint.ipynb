{
 "cells": [
  {
   "cell_type": "markdown",
   "id": "d699c867",
   "metadata": {},
   "source": [
    "## Introducción a Python para el Análisis de datos\n",
    "###  Webscraping - En proceso"
   ]
  },
  {
   "cell_type": "markdown",
   "id": "742a4417",
   "metadata": {},
   "source": [
    "En este documento vamos a mostrar como obtener algunos datos de Internet. \n",
    "Desde precios de acciones o de criptomonedas hasta\n"
   ]
  },
  {
   "cell_type": "markdown",
   "id": "bf3499a4",
   "metadata": {},
   "source": [
    "### 1. Precio de la accion de Facebook desde el 2012 hasta el 2021:\n",
    "\n",
    "Pandas data reader nos dará información diaria sobre el precio de las acciones. Tendremos datos del precio mínimo, máximo, el precio de apertura y de cierre, etc."
   ]
  },
  {
   "cell_type": "code",
   "execution_count": 1,
   "id": "28efd099",
   "metadata": {},
   "outputs": [],
   "source": [
    "import pandas as pd\n",
    "import pandas_datareader as web\n",
    "import datetime as dt"
   ]
  },
  {
   "cell_type": "code",
   "execution_count": 2,
   "id": "a71d2a9e",
   "metadata": {},
   "outputs": [],
   "source": [
    "empresa = 'FB'"
   ]
  },
  {
   "cell_type": "code",
   "execution_count": 3,
   "id": "67400bfc",
   "metadata": {},
   "outputs": [],
   "source": [
    "inicio = dt.datetime(2012,1,1)\n",
    "final = dt.datetime(2021,1,1)"
   ]
  },
  {
   "cell_type": "code",
   "execution_count": 4,
   "id": "ec879842",
   "metadata": {},
   "outputs": [],
   "source": [
    "facebook = web.DataReader(empresa, 'yahoo',inicio ,final)"
   ]
  },
  {
   "cell_type": "code",
   "execution_count": 5,
   "id": "f9e522b8",
   "metadata": {},
   "outputs": [
    {
     "data": {
      "text/html": [
       "<div>\n",
       "<style scoped>\n",
       "    .dataframe tbody tr th:only-of-type {\n",
       "        vertical-align: middle;\n",
       "    }\n",
       "\n",
       "    .dataframe tbody tr th {\n",
       "        vertical-align: top;\n",
       "    }\n",
       "\n",
       "    .dataframe thead th {\n",
       "        text-align: right;\n",
       "    }\n",
       "</style>\n",
       "<table border=\"1\" class=\"dataframe\">\n",
       "  <thead>\n",
       "    <tr style=\"text-align: right;\">\n",
       "      <th></th>\n",
       "      <th>High</th>\n",
       "      <th>Low</th>\n",
       "      <th>Open</th>\n",
       "      <th>Close</th>\n",
       "      <th>Volume</th>\n",
       "      <th>Adj Close</th>\n",
       "    </tr>\n",
       "    <tr>\n",
       "      <th>Date</th>\n",
       "      <th></th>\n",
       "      <th></th>\n",
       "      <th></th>\n",
       "      <th></th>\n",
       "      <th></th>\n",
       "      <th></th>\n",
       "    </tr>\n",
       "  </thead>\n",
       "  <tbody>\n",
       "    <tr>\n",
       "      <th>2012-05-18</th>\n",
       "      <td>45.000000</td>\n",
       "      <td>38.000000</td>\n",
       "      <td>42.049999</td>\n",
       "      <td>38.230000</td>\n",
       "      <td>573576400</td>\n",
       "      <td>38.230000</td>\n",
       "    </tr>\n",
       "    <tr>\n",
       "      <th>2012-05-21</th>\n",
       "      <td>36.660000</td>\n",
       "      <td>33.000000</td>\n",
       "      <td>36.529999</td>\n",
       "      <td>34.029999</td>\n",
       "      <td>168192700</td>\n",
       "      <td>34.029999</td>\n",
       "    </tr>\n",
       "    <tr>\n",
       "      <th>2012-05-22</th>\n",
       "      <td>33.590000</td>\n",
       "      <td>30.940001</td>\n",
       "      <td>32.610001</td>\n",
       "      <td>31.000000</td>\n",
       "      <td>101786600</td>\n",
       "      <td>31.000000</td>\n",
       "    </tr>\n",
       "    <tr>\n",
       "      <th>2012-05-23</th>\n",
       "      <td>32.500000</td>\n",
       "      <td>31.360001</td>\n",
       "      <td>31.370001</td>\n",
       "      <td>32.000000</td>\n",
       "      <td>73600000</td>\n",
       "      <td>32.000000</td>\n",
       "    </tr>\n",
       "    <tr>\n",
       "      <th>2012-05-24</th>\n",
       "      <td>33.209999</td>\n",
       "      <td>31.770000</td>\n",
       "      <td>32.950001</td>\n",
       "      <td>33.029999</td>\n",
       "      <td>50237200</td>\n",
       "      <td>33.029999</td>\n",
       "    </tr>\n",
       "    <tr>\n",
       "      <th>...</th>\n",
       "      <td>...</td>\n",
       "      <td>...</td>\n",
       "      <td>...</td>\n",
       "      <td>...</td>\n",
       "      <td>...</td>\n",
       "      <td>...</td>\n",
       "    </tr>\n",
       "    <tr>\n",
       "      <th>2020-12-24</th>\n",
       "      <td>270.399994</td>\n",
       "      <td>266.200012</td>\n",
       "      <td>268.880005</td>\n",
       "      <td>267.399994</td>\n",
       "      <td>6702000</td>\n",
       "      <td>267.399994</td>\n",
       "    </tr>\n",
       "    <tr>\n",
       "      <th>2020-12-28</th>\n",
       "      <td>277.299988</td>\n",
       "      <td>265.660004</td>\n",
       "      <td>268.739990</td>\n",
       "      <td>277.000000</td>\n",
       "      <td>23299700</td>\n",
       "      <td>277.000000</td>\n",
       "    </tr>\n",
       "    <tr>\n",
       "      <th>2020-12-29</th>\n",
       "      <td>280.510010</td>\n",
       "      <td>276.279999</td>\n",
       "      <td>276.950012</td>\n",
       "      <td>276.779999</td>\n",
       "      <td>16383000</td>\n",
       "      <td>276.779999</td>\n",
       "    </tr>\n",
       "    <tr>\n",
       "      <th>2020-12-30</th>\n",
       "      <td>278.079987</td>\n",
       "      <td>271.709991</td>\n",
       "      <td>277.950012</td>\n",
       "      <td>271.869995</td>\n",
       "      <td>11803800</td>\n",
       "      <td>271.869995</td>\n",
       "    </tr>\n",
       "    <tr>\n",
       "      <th>2020-12-31</th>\n",
       "      <td>277.089996</td>\n",
       "      <td>269.809998</td>\n",
       "      <td>272.000000</td>\n",
       "      <td>273.160004</td>\n",
       "      <td>12900400</td>\n",
       "      <td>273.160004</td>\n",
       "    </tr>\n",
       "  </tbody>\n",
       "</table>\n",
       "<p>2170 rows × 6 columns</p>\n",
       "</div>"
      ],
      "text/plain": [
       "                  High         Low        Open       Close     Volume  \\\n",
       "Date                                                                    \n",
       "2012-05-18   45.000000   38.000000   42.049999   38.230000  573576400   \n",
       "2012-05-21   36.660000   33.000000   36.529999   34.029999  168192700   \n",
       "2012-05-22   33.590000   30.940001   32.610001   31.000000  101786600   \n",
       "2012-05-23   32.500000   31.360001   31.370001   32.000000   73600000   \n",
       "2012-05-24   33.209999   31.770000   32.950001   33.029999   50237200   \n",
       "...                ...         ...         ...         ...        ...   \n",
       "2020-12-24  270.399994  266.200012  268.880005  267.399994    6702000   \n",
       "2020-12-28  277.299988  265.660004  268.739990  277.000000   23299700   \n",
       "2020-12-29  280.510010  276.279999  276.950012  276.779999   16383000   \n",
       "2020-12-30  278.079987  271.709991  277.950012  271.869995   11803800   \n",
       "2020-12-31  277.089996  269.809998  272.000000  273.160004   12900400   \n",
       "\n",
       "             Adj Close  \n",
       "Date                    \n",
       "2012-05-18   38.230000  \n",
       "2012-05-21   34.029999  \n",
       "2012-05-22   31.000000  \n",
       "2012-05-23   32.000000  \n",
       "2012-05-24   33.029999  \n",
       "...                ...  \n",
       "2020-12-24  267.399994  \n",
       "2020-12-28  277.000000  \n",
       "2020-12-29  276.779999  \n",
       "2020-12-30  271.869995  \n",
       "2020-12-31  273.160004  \n",
       "\n",
       "[2170 rows x 6 columns]"
      ]
     },
     "execution_count": 5,
     "metadata": {},
     "output_type": "execute_result"
    }
   ],
   "source": [
    "facebook"
   ]
  },
  {
   "cell_type": "code",
   "execution_count": 6,
   "id": "c490afc1",
   "metadata": {},
   "outputs": [],
   "source": [
    "import matplotlib.pyplot as plt "
   ]
  },
  {
   "cell_type": "code",
   "execution_count": 7,
   "id": "742a78a0",
   "metadata": {},
   "outputs": [
    {
     "data": {
      "image/png": "[encoded data removed]",
      "text/plain": [
       "<Figure size 720x432 with 1 Axes>"
      ]
     },
     "metadata": {
      "needs_background": "light"
     },
     "output_type": "display_data"
    }
   ],
   "source": [
    "fig, ax = plt.subplots(figsize=(10, 6))\n",
    "\n",
    "ax.plot(facebook.Close, color='tab:olive' ,label='Precio de mercado')\n",
    "\n",
    "ax.set_xlabel('Fecha')\n",
    "ax.set_ylabel('Precio USD')\n",
    "ax.set_title('Precio de la Accion de Facebook')\n",
    "ax.grid(True)\n",
    "ax.legend(loc='upper left');"
   ]
  },
  {
   "cell_type": "markdown",
   "id": "e262c130",
   "metadata": {},
   "source": [
    "### 2. Precio de Bitcoin para los ultimos 30 dias:\n",
    "\n",
    "A diferencia de pandas data reader, pycoingecko nos dará información para cada hora de cada día, por lo que dependiendo de nuestro objetivo, querremos usar una u otra librería. Para este caso obtendremos los datos, los pasaremos a formato diario y haremos una grafica de velas."
   ]
  },
  {
   "cell_type": "code",
   "execution_count": 206,
   "id": "f33e6d6a",
   "metadata": {},
   "outputs": [],
   "source": [
    "#Para instalar pycoingecko\n",
    "#pip install pycoingecko"
   ]
  },
  {
   "cell_type": "code",
   "execution_count": 207,
   "id": "dd2c0041",
   "metadata": {},
   "outputs": [],
   "source": [
    "from pycoingecko import CoinGeckoAPI"
   ]
  },
  {
   "cell_type": "code",
   "execution_count": 208,
   "id": "9a4a0643",
   "metadata": {},
   "outputs": [],
   "source": [
    "cg = CoinGeckoAPI()"
   ]
  },
  {
   "cell_type": "markdown",
   "id": "47ab99c9",
   "metadata": {},
   "source": [
    "Vamos a obtener los datos de bitcoin en dólares, para los últimos 30 días. Esto lo haremos de la siguiente manera:"
   ]
  },
  {
   "cell_type": "code",
   "execution_count": 209,
   "id": "f1a16d4b",
   "metadata": {},
   "outputs": [],
   "source": [
    "bitcoin = cg.get_coin_market_chart_by_id(id='bitcoin' , vs_currency = 'usd', days = 30 )"
   ]
  },
  {
   "cell_type": "code",
   "execution_count": 210,
   "id": "c37de3d4",
   "metadata": {},
   "outputs": [],
   "source": [
    "bitcoinprice = bitcoin['prices']"
   ]
  },
  {
   "cell_type": "code",
   "execution_count": 211,
   "id": "78e2a652",
   "metadata": {},
   "outputs": [],
   "source": [
    "bitcoindata = pd.DataFrame(bitcoinprice, columns = ['TimeStamp' , 'prices'])"
   ]
  },
  {
   "cell_type": "code",
   "execution_count": 213,
   "id": "bf0f0991",
   "metadata": {},
   "outputs": [
    {
     "data": {
      "text/html": [
       "<div>\n",
       "<style scoped>\n",
       "    .dataframe tbody tr th:only-of-type {\n",
       "        vertical-align: middle;\n",
       "    }\n",
       "\n",
       "    .dataframe tbody tr th {\n",
       "        vertical-align: top;\n",
       "    }\n",
       "\n",
       "    .dataframe thead th {\n",
       "        text-align: right;\n",
       "    }\n",
       "</style>\n",
       "<table border=\"1\" class=\"dataframe\">\n",
       "  <thead>\n",
       "    <tr style=\"text-align: right;\">\n",
       "      <th></th>\n",
       "      <th>TimeStamp</th>\n",
       "      <th>prices</th>\n",
       "    </tr>\n",
       "  </thead>\n",
       "  <tbody>\n",
       "    <tr>\n",
       "      <th>0</th>\n",
       "      <td>1621101777350</td>\n",
       "      <td>48137.833428</td>\n",
       "    </tr>\n",
       "    <tr>\n",
       "      <th>1</th>\n",
       "      <td>1621105389558</td>\n",
       "      <td>48020.152584</td>\n",
       "    </tr>\n",
       "    <tr>\n",
       "      <th>2</th>\n",
       "      <td>1621108951379</td>\n",
       "      <td>47740.050057</td>\n",
       "    </tr>\n",
       "    <tr>\n",
       "      <th>3</th>\n",
       "      <td>1621112575824</td>\n",
       "      <td>48299.895745</td>\n",
       "    </tr>\n",
       "    <tr>\n",
       "      <th>4</th>\n",
       "      <td>1621116127690</td>\n",
       "      <td>48522.302622</td>\n",
       "    </tr>\n",
       "  </tbody>\n",
       "</table>\n",
       "</div>"
      ],
      "text/plain": [
       "       TimeStamp        prices\n",
       "0  1621101777350  48137.833428\n",
       "1  1621105389558  48020.152584\n",
       "2  1621108951379  47740.050057\n",
       "3  1621112575824  48299.895745\n",
       "4  1621116127690  48522.302622"
      ]
     },
     "execution_count": 213,
     "metadata": {},
     "output_type": "execute_result"
    }
   ],
   "source": [
    "bitcoindata.head(5)"
   ]
  },
  {
   "cell_type": "code",
   "execution_count": 214,
   "id": "8361f5cc",
   "metadata": {},
   "outputs": [],
   "source": [
    "bitcoindata['date'] = pd.to_datetime(bitcoindata['TimeStamp'], unit = 'ms')"
   ]
  },
  {
   "cell_type": "code",
   "execution_count": 216,
   "id": "f2520c37",
   "metadata": {},
   "outputs": [
    {
     "data": {
      "text/html": [
       "<div>\n",
       "<style scoped>\n",
       "    .dataframe tbody tr th:only-of-type {\n",
       "        vertical-align: middle;\n",
       "    }\n",
       "\n",
       "    .dataframe tbody tr th {\n",
       "        vertical-align: top;\n",
       "    }\n",
       "\n",
       "    .dataframe thead th {\n",
       "        text-align: right;\n",
       "    }\n",
       "</style>\n",
       "<table border=\"1\" class=\"dataframe\">\n",
       "  <thead>\n",
       "    <tr style=\"text-align: right;\">\n",
       "      <th></th>\n",
       "      <th>TimeStamp</th>\n",
       "      <th>prices</th>\n",
       "      <th>date</th>\n",
       "    </tr>\n",
       "  </thead>\n",
       "  <tbody>\n",
       "    <tr>\n",
       "      <th>0</th>\n",
       "      <td>1621101777350</td>\n",
       "      <td>48137.833428</td>\n",
       "      <td>2021-05-15 18:02:57.350</td>\n",
       "    </tr>\n",
       "    <tr>\n",
       "      <th>1</th>\n",
       "      <td>1621105389558</td>\n",
       "      <td>48020.152584</td>\n",
       "      <td>2021-05-15 19:03:09.558</td>\n",
       "    </tr>\n",
       "    <tr>\n",
       "      <th>2</th>\n",
       "      <td>1621108951379</td>\n",
       "      <td>47740.050057</td>\n",
       "      <td>2021-05-15 20:02:31.379</td>\n",
       "    </tr>\n",
       "    <tr>\n",
       "      <th>3</th>\n",
       "      <td>1621112575824</td>\n",
       "      <td>48299.895745</td>\n",
       "      <td>2021-05-15 21:02:55.824</td>\n",
       "    </tr>\n",
       "    <tr>\n",
       "      <th>4</th>\n",
       "      <td>1621116127690</td>\n",
       "      <td>48522.302622</td>\n",
       "      <td>2021-05-15 22:02:07.690</td>\n",
       "    </tr>\n",
       "  </tbody>\n",
       "</table>\n",
       "</div>"
      ],
      "text/plain": [
       "       TimeStamp        prices                    date\n",
       "0  1621101777350  48137.833428 2021-05-15 18:02:57.350\n",
       "1  1621105389558  48020.152584 2021-05-15 19:03:09.558\n",
       "2  1621108951379  47740.050057 2021-05-15 20:02:31.379\n",
       "3  1621112575824  48299.895745 2021-05-15 21:02:55.824\n",
       "4  1621116127690  48522.302622 2021-05-15 22:02:07.690"
      ]
     },
     "execution_count": 216,
     "metadata": {},
     "output_type": "execute_result"
    }
   ],
   "source": [
    "bitcoindata.head(5)"
   ]
  },
  {
   "cell_type": "markdown",
   "id": "30760559",
   "metadata": {},
   "source": [
    "Ahora pasaremos los datos en un formato de minimo, maximo, primer y ultimo precio, diario. Esto, para crear una grafica de velas."
   ]
  },
  {
   "cell_type": "code",
   "execution_count": 217,
   "id": "c5f852bb",
   "metadata": {},
   "outputs": [],
   "source": [
    "data = bitcoindata.groupby(bitcoindata.date.dt.date).agg({'prices': ['min' , 'max' , 'first' , 'last']})\n",
    "# Con este comando agruparemos los datos por dia y encontraremos el precio minimo, maximo, primer y ultimo dato."
   ]
  },
  {
   "cell_type": "code",
   "execution_count": 218,
   "id": "70c7ac1f",
   "metadata": {},
   "outputs": [
    {
     "data": {
      "text/html": [
       "<div>\n",
       "<style scoped>\n",
       "    .dataframe tbody tr th:only-of-type {\n",
       "        vertical-align: middle;\n",
       "    }\n",
       "\n",
       "    .dataframe tbody tr th {\n",
       "        vertical-align: top;\n",
       "    }\n",
       "\n",
       "    .dataframe thead tr th {\n",
       "        text-align: left;\n",
       "    }\n",
       "\n",
       "    .dataframe thead tr:last-of-type th {\n",
       "        text-align: right;\n",
       "    }\n",
       "</style>\n",
       "<table border=\"1\" class=\"dataframe\">\n",
       "  <thead>\n",
       "    <tr>\n",
       "      <th></th>\n",
       "      <th colspan=\"4\" halign=\"left\">prices</th>\n",
       "    </tr>\n",
       "    <tr>\n",
       "      <th></th>\n",
       "      <th>min</th>\n",
       "      <th>max</th>\n",
       "      <th>first</th>\n",
       "      <th>last</th>\n",
       "    </tr>\n",
       "    <tr>\n",
       "      <th>date</th>\n",
       "      <th></th>\n",
       "      <th></th>\n",
       "      <th></th>\n",
       "      <th></th>\n",
       "    </tr>\n",
       "  </thead>\n",
       "  <tbody>\n",
       "    <tr>\n",
       "      <th>2021-05-15</th>\n",
       "      <td>47740.050057</td>\n",
       "      <td>48522.302622</td>\n",
       "      <td>48137.833428</td>\n",
       "      <td>48159.550779</td>\n",
       "    </tr>\n",
       "    <tr>\n",
       "      <th>2021-05-16</th>\n",
       "      <td>44490.795222</td>\n",
       "      <td>49676.818738</td>\n",
       "      <td>46780.902305</td>\n",
       "      <td>45683.458099</td>\n",
       "    </tr>\n",
       "    <tr>\n",
       "      <th>2021-05-17</th>\n",
       "      <td>42600.146924</td>\n",
       "      <td>46585.064135</td>\n",
       "      <td>46585.064135</td>\n",
       "      <td>42746.071431</td>\n",
       "    </tr>\n",
       "    <tr>\n",
       "      <th>2021-05-18</th>\n",
       "      <td>42815.404663</td>\n",
       "      <td>45549.156681</td>\n",
       "      <td>43780.825598</td>\n",
       "      <td>43022.377837</td>\n",
       "    </tr>\n",
       "    <tr>\n",
       "      <th>2021-05-19</th>\n",
       "      <td>36573.548038</td>\n",
       "      <td>43091.041448</td>\n",
       "      <td>43091.041448</td>\n",
       "      <td>39154.208053</td>\n",
       "    </tr>\n",
       "  </tbody>\n",
       "</table>\n",
       "</div>"
      ],
      "text/plain": [
       "                  prices                                          \n",
       "                     min           max         first          last\n",
       "date                                                              \n",
       "2021-05-15  47740.050057  48522.302622  48137.833428  48159.550779\n",
       "2021-05-16  44490.795222  49676.818738  46780.902305  45683.458099\n",
       "2021-05-17  42600.146924  46585.064135  46585.064135  42746.071431\n",
       "2021-05-18  42815.404663  45549.156681  43780.825598  43022.377837\n",
       "2021-05-19  36573.548038  43091.041448  43091.041448  39154.208053"
      ]
     },
     "execution_count": 218,
     "metadata": {},
     "output_type": "execute_result"
    }
   ],
   "source": [
    "data.head(5)"
   ]
  },
  {
   "cell_type": "markdown",
   "id": "1e6653d4",
   "metadata": {},
   "source": [
    "Como podemos ver, los datos que tenemos ahora son datos diarios, y no por hora.\n",
    "Ahora crearemos una grafica con toda esta información."
   ]
  },
  {
   "cell_type": "code",
   "execution_count": 20,
   "id": "d6b25138",
   "metadata": {},
   "outputs": [],
   "source": [
    "# pip install plotly==4.14.3\n"
   ]
  },
  {
   "cell_type": "code",
   "execution_count": 219,
   "id": "d3e9c93a",
   "metadata": {},
   "outputs": [],
   "source": [
    "import plotly.graph_objects as go\n",
    "#Usaremos plotly para este tipo de grafica"
   ]
  },
  {
   "cell_type": "code",
   "execution_count": 225,
   "id": "117db538",
   "metadata": {},
   "outputs": [
    {
     "data": {
      "application/vnd.plotly.v1+json": {
       "config": {
        "plotlyServerURL": "https://plot.ly"
       },
       "data": [
        {
         "close": [
          48159.550779483354,
          45683.458099465715,
          42746.0714310115,
          43022.377837006185,
          39154.208053364164,
          41596.34807310815,
          37384.01908733165,
          37828.54390512896,
          33995.040863381786,
          38458.08564310467,
          38558.94752113456,
          38805.03394169276,
          38541.07975578052,
          35336.08285635303,
          34363.0220860328,
          35726.0464870288,
          36934.45109191966,
          36451.90782379425,
          37587.03464933786,
          39100.67693184604,
          37160.49264251094,
          35072.140405020444,
          35502.10823448369,
          34183.15073273006,
          33502.495641704016,
          37187.32990134096,
          36834.5483036146,
          37358.577094102395,
          35801.51238489293,
          38964.719676140725,
          40277.88573838013
         ],
         "high": [
          48522.302621847244,
          49676.81873777044,
          46585.06413538846,
          45549.156681471184,
          43091.04144756922,
          41947.19671093911,
          41757.137344607865,
          38546.59909947474,
          38360.64102852076,
          40417.617244024776,
          39546.08762631954,
          40556.61755303835,
          40109.30184969603,
          38371.880069783736,
          37050.55615180217,
          36251.76133256518,
          37230.11485435932,
          37715.79881980798,
          38174.22541834545,
          39501.06567274244,
          39151.316183800314,
          37966.09130631886,
          36356.78099088036,
          36750.90365081315,
          33901.49946654206,
          37187.32990134096,
          38407.469192323835,
          37623.469169729055,
          37253.82436267328,
          39247.7296320754,
          40852.10413434637
         ],
         "low": [
          47740.05005733954,
          44490.79522240914,
          42600.14692405195,
          42815.40466270814,
          36573.548038076166,
          37440.3029973854,
          34386.60959211036,
          35920.891746795896,
          32458.122485384694,
          34850.73178718457,
          36755.33313654478,
          38150.984549476336,
          37406.487684034626,
          35076.87252155225,
          33846.60781998234,
          33970.68809932521,
          34306.8967583359,
          35663.45300256384,
          36233.02956995787,
          37339.29109851071,
          36321.02506181852,
          35072.140405020444,
          35502.10823448369,
          34150.23838263321,
          31681.5626680888,
          32580.52347930153,
          36430.95772445519,
          36370.131461191726,
          35217.561657024635,
          34950.574994032315,
          39037.47684795141
         ],
         "open": [
          48137.83342848168,
          46780.902304688214,
          46585.06413538846,
          43780.82559782485,
          43091.04144756922,
          38040.94334633126,
          41161.937246335125,
          37073.00455951342,
          37032.67236508104,
          34892.633299037465,
          38810.164534694355,
          38210.80521759389,
          39466.642793141684,
          38371.880069783736,
          35744.4577350088,
          34537.419075281905,
          35714.75202018067,
          37715.79881980798,
          36663.448345927696,
          37451.66084696522,
          39151.316183800314,
          36848.90969847585,
          35605.82192819249,
          35834.4744744042,
          33901.49946654206,
          33175.471093744796,
          37484.664195215475,
          37061.69520391744,
          37253.82436267328,
          35666.14977877309,
          39147.70567879997
         ],
         "type": "candlestick",
         "x": [
          "2021-05-15",
          "2021-05-16",
          "2021-05-17",
          "2021-05-18",
          "2021-05-19",
          "2021-05-20",
          "2021-05-21",
          "2021-05-22",
          "2021-05-23",
          "2021-05-24",
          "2021-05-25",
          "2021-05-26",
          "2021-05-27",
          "2021-05-28",
          "2021-05-29",
          "2021-05-30",
          "2021-05-31",
          "2021-06-01",
          "2021-06-02",
          "2021-06-03",
          "2021-06-04",
          "2021-06-05",
          "2021-06-06",
          "2021-06-07",
          "2021-06-08",
          "2021-06-09",
          "2021-06-10",
          "2021-06-11",
          "2021-06-12",
          "2021-06-13",
          "2021-06-14"
         ]
        }
       ],
       "layout": {
        "template": {
         "data": {
          "bar": [
           {
            "error_x": {
             "color": "#2a3f5f"
            },
            "error_y": {
             "color": "#2a3f5f"
            },
            "marker": {
             "line": {
              "color": "#E5ECF6",
              "width": 0.5
             }
            },
            "type": "bar"
           }
          ],
          "barpolar": [
           {
            "marker": {
             "line": {
              "color": "#E5ECF6",
              "width": 0.5
             }
            },
            "type": "barpolar"
           }
          ],
          "carpet": [
           {
            "aaxis": {
             "endlinecolor": "#2a3f5f",
             "gridcolor": "white",
             "linecolor": "white",
             "minorgridcolor": "white",
             "startlinecolor": "#2a3f5f"
            },
            "baxis": {
             "endlinecolor": "#2a3f5f",
             "gridcolor": "white",
             "linecolor": "white",
             "minorgridcolor": "white",
             "startlinecolor": "#2a3f5f"
            },
            "type": "carpet"
           }
          ],
          "choropleth": [
           {
            "colorbar": {
             "outlinewidth": 0,
             "ticks": ""
            },
            "type": "choropleth"
           }
          ],
          "contour": [
           {
            "colorbar": {
             "outlinewidth": 0,
             "ticks": ""
            },
            "colorscale": [
             [
              0,
              "#0d0887"
             ],
             [
              0.1111111111111111,
              "#46039f"
             ],
             [
              0.2222222222222222,
              "#7201a8"
             ],
             [
              0.3333333333333333,
              "#9c179e"
             ],
             [
              0.4444444444444444,
              "#bd3786"
             ],
             [
              0.5555555555555556,
              "#d8576b"
             ],
             [
              0.6666666666666666,
              "#ed7953"
             ],
             [
              0.7777777777777778,
              "#fb9f3a"
             ],
             [
              0.8888888888888888,
              "#fdca26"
             ],
             [
              1,
              "#f0f921"
             ]
            ],
            "type": "contour"
           }
          ],
          "contourcarpet": [
           {
            "colorbar": {
             "outlinewidth": 0,
             "ticks": ""
            },
            "type": "contourcarpet"
           }
          ],
          "heatmap": [
           {
            "colorbar": {
             "outlinewidth": 0,
             "ticks": ""
            },
            "colorscale": [
             [
              0,
              "#0d0887"
             ],
             [
              0.1111111111111111,
              "#46039f"
             ],
             [
              0.2222222222222222,
              "#7201a8"
             ],
             [
              0.3333333333333333,
              "#9c179e"
             ],
             [
              0.4444444444444444,
              "#bd3786"
             ],
             [
              0.5555555555555556,
              "#d8576b"
             ],
             [
              0.6666666666666666,
              "#ed7953"
             ],
             [
              0.7777777777777778,
              "#fb9f3a"
             ],
             [
              0.8888888888888888,
              "#fdca26"
             ],
             [
              1,
              "#f0f921"
             ]
            ],
            "type": "heatmap"
           }
          ],
          "heatmapgl": [
           {
            "colorbar": {
             "outlinewidth": 0,
             "ticks": ""
            },
            "colorscale": [
             [
              0,
              "#0d0887"
             ],
             [
              0.1111111111111111,
              "#46039f"
             ],
             [
              0.2222222222222222,
              "#7201a8"
             ],
             [
              0.3333333333333333,
              "#9c179e"
             ],
             [
              0.4444444444444444,
              "#bd3786"
             ],
             [
              0.5555555555555556,
              "#d8576b"
             ],
             [
              0.6666666666666666,
              "#ed7953"
             ],
             [
              0.7777777777777778,
              "#fb9f3a"
             ],
             [
              0.8888888888888888,
              "#fdca26"
             ],
             [
              1,
              "#f0f921"
             ]
            ],
            "type": "heatmapgl"
           }
          ],
          "histogram": [
           {
            "marker": {
             "colorbar": {
              "outlinewidth": 0,
              "ticks": ""
             }
            },
            "type": "histogram"
           }
          ],
          "histogram2d": [
           {
            "colorbar": {
             "outlinewidth": 0,
             "ticks": ""
            },
            "colorscale": [
             [
              0,
              "#0d0887"
             ],
             [
              0.1111111111111111,
              "#46039f"
             ],
             [
              0.2222222222222222,
              "#7201a8"
             ],
             [
              0.3333333333333333,
              "#9c179e"
             ],
             [
              0.4444444444444444,
              "#bd3786"
             ],
             [
              0.5555555555555556,
              "#d8576b"
             ],
             [
              0.6666666666666666,
              "#ed7953"
             ],
             [
              0.7777777777777778,
              "#fb9f3a"
             ],
             [
              0.8888888888888888,
              "#fdca26"
             ],
             [
              1,
              "#f0f921"
             ]
            ],
            "type": "histogram2d"
           }
          ],
          "histogram2dcontour": [
           {
            "colorbar": {
             "outlinewidth": 0,
             "ticks": ""
            },
            "colorscale": [
             [
              0,
              "#0d0887"
             ],
             [
              0.1111111111111111,
              "#46039f"
             ],
             [
              0.2222222222222222,
              "#7201a8"
             ],
             [
              0.3333333333333333,
              "#9c179e"
             ],
             [
              0.4444444444444444,
              "#bd3786"
             ],
             [
              0.5555555555555556,
              "#d8576b"
             ],
             [
              0.6666666666666666,
              "#ed7953"
             ],
             [
              0.7777777777777778,
              "#fb9f3a"
             ],
             [
              0.8888888888888888,
              "#fdca26"
             ],
             [
              1,
              "#f0f921"
             ]
            ],
            "type": "histogram2dcontour"
           }
          ],
          "mesh3d": [
           {
            "colorbar": {
             "outlinewidth": 0,
             "ticks": ""
            },
            "type": "mesh3d"
           }
          ],
          "parcoords": [
           {
            "line": {
             "colorbar": {
              "outlinewidth": 0,
              "ticks": ""
             }
            },
            "type": "parcoords"
           }
          ],
          "pie": [
           {
            "automargin": true,
            "type": "pie"
           }
          ],
          "scatter": [
           {
            "marker": {
             "colorbar": {
              "outlinewidth": 0,
              "ticks": ""
             }
            },
            "type": "scatter"
           }
          ],
          "scatter3d": [
           {
            "line": {
             "colorbar": {
              "outlinewidth": 0,
              "ticks": ""
             }
            },
            "marker": {
             "colorbar": {
              "outlinewidth": 0,
              "ticks": ""
             }
            },
            "type": "scatter3d"
           }
          ],
          "scattercarpet": [
           {
            "marker": {
             "colorbar": {
              "outlinewidth": 0,
              "ticks": ""
             }
            },
            "type": "scattercarpet"
           }
          ],
          "scattergeo": [
           {
            "marker": {
             "colorbar": {
              "outlinewidth": 0,
              "ticks": ""
             }
            },
            "type": "scattergeo"
           }
          ],
          "scattergl": [
           {
            "marker": {
             "colorbar": {
              "outlinewidth": 0,
              "ticks": ""
             }
            },
            "type": "scattergl"
           }
          ],
          "scattermapbox": [
           {
            "marker": {
             "colorbar": {
              "outlinewidth": 0,
              "ticks": ""
             }
            },
            "type": "scattermapbox"
           }
          ],
          "scatterpolar": [
           {
            "marker": {
             "colorbar": {
              "outlinewidth": 0,
              "ticks": ""
             }
            },
            "type": "scatterpolar"
           }
          ],
          "scatterpolargl": [
           {
            "marker": {
             "colorbar": {
              "outlinewidth": 0,
              "ticks": ""
             }
            },
            "type": "scatterpolargl"
           }
          ],
          "scatterternary": [
           {
            "marker": {
             "colorbar": {
              "outlinewidth": 0,
              "ticks": ""
             }
            },
            "type": "scatterternary"
           }
          ],
          "surface": [
           {
            "colorbar": {
             "outlinewidth": 0,
             "ticks": ""
            },
            "colorscale": [
             [
              0,
              "#0d0887"
             ],
             [
              0.1111111111111111,
              "#46039f"
             ],
             [
              0.2222222222222222,
              "#7201a8"
             ],
             [
              0.3333333333333333,
              "#9c179e"
             ],
             [
              0.4444444444444444,
              "#bd3786"
             ],
             [
              0.5555555555555556,
              "#d8576b"
             ],
             [
              0.6666666666666666,
              "#ed7953"
             ],
             [
              0.7777777777777778,
              "#fb9f3a"
             ],
             [
              0.8888888888888888,
              "#fdca26"
             ],
             [
              1,
              "#f0f921"
             ]
            ],
            "type": "surface"
           }
          ],
          "table": [
           {
            "cells": {
             "fill": {
              "color": "#EBF0F8"
             },
             "line": {
              "color": "white"
             }
            },
            "header": {
             "fill": {
              "color": "#C8D4E3"
             },
             "line": {
              "color": "white"
             }
            },
            "type": "table"
           }
          ]
         },
         "layout": {
          "annotationdefaults": {
           "arrowcolor": "#2a3f5f",
           "arrowhead": 0,
           "arrowwidth": 1
          },
          "autotypenumbers": "strict",
          "coloraxis": {
           "colorbar": {
            "outlinewidth": 0,
            "ticks": ""
           }
          },
          "colorscale": {
           "diverging": [
            [
             0,
             "#8e0152"
            ],
            [
             0.1,
             "#c51b7d"
            ],
            [
             0.2,
             "#de77ae"
            ],
            [
             0.3,
             "#f1b6da"
            ],
            [
             0.4,
             "#fde0ef"
            ],
            [
             0.5,
             "#f7f7f7"
            ],
            [
             0.6,
             "#e6f5d0"
            ],
            [
             0.7,
             "#b8e186"
            ],
            [
             0.8,
             "#7fbc41"
            ],
            [
             0.9,
             "#4d9221"
            ],
            [
             1,
             "#276419"
            ]
           ],
           "sequential": [
            [
             0,
             "#0d0887"
            ],
            [
             0.1111111111111111,
             "#46039f"
            ],
            [
             0.2222222222222222,
             "#7201a8"
            ],
            [
             0.3333333333333333,
             "#9c179e"
            ],
            [
             0.4444444444444444,
             "#bd3786"
            ],
            [
             0.5555555555555556,
             "#d8576b"
            ],
            [
             0.6666666666666666,
             "#ed7953"
            ],
            [
             0.7777777777777778,
             "#fb9f3a"
            ],
            [
             0.8888888888888888,
             "#fdca26"
            ],
            [
             1,
             "#f0f921"
            ]
           ],
           "sequentialminus": [
            [
             0,
             "#0d0887"
            ],
            [
             0.1111111111111111,
             "#46039f"
            ],
            [
             0.2222222222222222,
             "#7201a8"
            ],
            [
             0.3333333333333333,
             "#9c179e"
            ],
            [
             0.4444444444444444,
             "#bd3786"
            ],
            [
             0.5555555555555556,
             "#d8576b"
            ],
            [
             0.6666666666666666,
             "#ed7953"
            ],
            [
             0.7777777777777778,
             "#fb9f3a"
            ],
            [
             0.8888888888888888,
             "#fdca26"
            ],
            [
             1,
             "#f0f921"
            ]
           ]
          },
          "colorway": [
           "#636efa",
           "#EF553B",
           "#00cc96",
           "#ab63fa",
           "#FFA15A",
           "#19d3f3",
           "#FF6692",
           "#B6E880",
           "#FF97FF",
           "#FECB52"
          ],
          "font": {
           "color": "#2a3f5f"
          },
          "geo": {
           "bgcolor": "white",
           "lakecolor": "white",
           "landcolor": "#E5ECF6",
           "showlakes": true,
           "showland": true,
           "subunitcolor": "white"
          },
          "hoverlabel": {
           "align": "left"
          },
          "hovermode": "closest",
          "mapbox": {
           "style": "light"
          },
          "paper_bgcolor": "white",
          "plot_bgcolor": "#E5ECF6",
          "polar": {
           "angularaxis": {
            "gridcolor": "white",
            "linecolor": "white",
            "ticks": ""
           },
           "bgcolor": "#E5ECF6",
           "radialaxis": {
            "gridcolor": "white",
            "linecolor": "white",
            "ticks": ""
           }
          },
          "scene": {
           "xaxis": {
            "backgroundcolor": "#E5ECF6",
            "gridcolor": "white",
            "gridwidth": 2,
            "linecolor": "white",
            "showbackground": true,
            "ticks": "",
            "zerolinecolor": "white"
           },
           "yaxis": {
            "backgroundcolor": "#E5ECF6",
            "gridcolor": "white",
            "gridwidth": 2,
            "linecolor": "white",
            "showbackground": true,
            "ticks": "",
            "zerolinecolor": "white"
           },
           "zaxis": {
            "backgroundcolor": "#E5ECF6",
            "gridcolor": "white",
            "gridwidth": 2,
            "linecolor": "white",
            "showbackground": true,
            "ticks": "",
            "zerolinecolor": "white"
           }
          },
          "shapedefaults": {
           "line": {
            "color": "#2a3f5f"
           }
          },
          "ternary": {
           "aaxis": {
            "gridcolor": "white",
            "linecolor": "white",
            "ticks": ""
           },
           "baxis": {
            "gridcolor": "white",
            "linecolor": "white",
            "ticks": ""
           },
           "bgcolor": "#E5ECF6",
           "caxis": {
            "gridcolor": "white",
            "linecolor": "white",
            "ticks": ""
           }
          },
          "title": {
           "x": 0.05
          },
          "xaxis": {
           "automargin": true,
           "gridcolor": "white",
           "linecolor": "white",
           "ticks": "",
           "title": {
            "standoff": 15
           },
           "zerolinecolor": "white",
           "zerolinewidth": 2
          },
          "yaxis": {
           "automargin": true,
           "gridcolor": "white",
           "linecolor": "white",
           "ticks": "",
           "title": {
            "standoff": 15
           },
           "zerolinecolor": "white",
           "zerolinewidth": 2
          }
         }
        },
        "title": {
         "text": "Bitcoin gráfico de velas ultimos 30 dias"
        },
        "xaxis": {
         "rangeslider": {
          "visible": false
         },
         "title": {
          "text": "date"
         }
        },
        "yaxis": {
         "title": {
          "text": "Precio (USD$)"
         }
        }
       }
      },
      "text/html": [
       "<div>                            <div id=\"c776d03c-dc6e-4b56-b4bb-d63be5d863c2\" class=\"plotly-graph-div\" style=\"height:525px; width:100%;\"></div>            <script type=\"text/javascript\">                require([\"plotly\"], function(Plotly) {                    window.PLOTLYENV=window.PLOTLYENV || {};                                    if (document.getElementById(\"c776d03c-dc6e-4b56-b4bb-d63be5d863c2\")) {                    Plotly.newPlot(                        \"c776d03c-dc6e-4b56-b4bb-d63be5d863c2\",                        [{\"close\": [48159.550779483354, 45683.458099465715, 42746.0714310115, 43022.377837006185, 39154.208053364164, 41596.34807310815, 37384.01908733165, 37828.54390512896, 33995.040863381786, 38458.08564310467, 38558.94752113456, 38805.03394169276, 38541.07975578052, 35336.08285635303, 34363.0220860328, 35726.0464870288, 36934.45109191966, 36451.90782379425, 37587.03464933786, 39100.67693184604, 37160.49264251094, 35072.140405020444, 35502.10823448369, 34183.15073273006, 33502.495641704016, 37187.32990134096, 36834.5483036146, 37358.577094102395, 35801.51238489293, 38964.719676140725, 40277.88573838013], \"high\": [48522.302621847244, 49676.81873777044, 46585.06413538846, 45549.156681471184, 43091.04144756922, 41947.19671093911, 41757.137344607865, 38546.59909947474, 38360.64102852076, 40417.617244024776, 39546.08762631954, 40556.61755303835, 40109.30184969603, 38371.880069783736, 37050.55615180217, 36251.76133256518, 37230.11485435932, 37715.79881980798, 38174.22541834545, 39501.06567274244, 39151.316183800314, 37966.09130631886, 36356.78099088036, 36750.90365081315, 33901.49946654206, 37187.32990134096, 38407.469192323835, 37623.469169729055, 37253.82436267328, 39247.7296320754, 40852.10413434637], \"low\": [47740.05005733954, 44490.79522240914, 42600.14692405195, 42815.40466270814, 36573.548038076166, 37440.3029973854, 34386.60959211036, 35920.891746795896, 32458.122485384694, 34850.73178718457, 36755.33313654478, 38150.984549476336, 37406.487684034626, 35076.87252155225, 33846.60781998234, 33970.68809932521, 34306.8967583359, 35663.45300256384, 36233.02956995787, 37339.29109851071, 36321.02506181852, 35072.140405020444, 35502.10823448369, 34150.23838263321, 31681.5626680888, 32580.52347930153, 36430.95772445519, 36370.131461191726, 35217.561657024635, 34950.574994032315, 39037.47684795141], \"open\": [48137.83342848168, 46780.902304688214, 46585.06413538846, 43780.82559782485, 43091.04144756922, 38040.94334633126, 41161.937246335125, 37073.00455951342, 37032.67236508104, 34892.633299037465, 38810.164534694355, 38210.80521759389, 39466.642793141684, 38371.880069783736, 35744.4577350088, 34537.419075281905, 35714.75202018067, 37715.79881980798, 36663.448345927696, 37451.66084696522, 39151.316183800314, 36848.90969847585, 35605.82192819249, 35834.4744744042, 33901.49946654206, 33175.471093744796, 37484.664195215475, 37061.69520391744, 37253.82436267328, 35666.14977877309, 39147.70567879997], \"type\": \"candlestick\", \"x\": [\"2021-05-15\", \"2021-05-16\", \"2021-05-17\", \"2021-05-18\", \"2021-05-19\", \"2021-05-20\", \"2021-05-21\", \"2021-05-22\", \"2021-05-23\", \"2021-05-24\", \"2021-05-25\", \"2021-05-26\", \"2021-05-27\", \"2021-05-28\", \"2021-05-29\", \"2021-05-30\", \"2021-05-31\", \"2021-06-01\", \"2021-06-02\", \"2021-06-03\", \"2021-06-04\", \"2021-06-05\", \"2021-06-06\", \"2021-06-07\", \"2021-06-08\", \"2021-06-09\", \"2021-06-10\", \"2021-06-11\", \"2021-06-12\", \"2021-06-13\", \"2021-06-14\"]}],                        {\"template\": {\"data\": {\"bar\": [{\"error_x\": {\"color\": \"#2a3f5f\"}, \"error_y\": {\"color\": \"#2a3f5f\"}, \"marker\": {\"line\": {\"color\": \"#E5ECF6\", \"width\": 0.5}}, \"type\": \"bar\"}], \"barpolar\": [{\"marker\": {\"line\": {\"color\": \"#E5ECF6\", \"width\": 0.5}}, \"type\": \"barpolar\"}], \"carpet\": [{\"aaxis\": {\"endlinecolor\": \"#2a3f5f\", \"gridcolor\": \"white\", \"linecolor\": \"white\", \"minorgridcolor\": \"white\", \"startlinecolor\": \"#2a3f5f\"}, \"baxis\": {\"endlinecolor\": \"#2a3f5f\", \"gridcolor\": \"white\", \"linecolor\": \"white\", \"minorgridcolor\": \"white\", \"startlinecolor\": \"#2a3f5f\"}, \"type\": \"carpet\"}], \"choropleth\": [{\"colorbar\": {\"outlinewidth\": 0, \"ticks\": \"\"}, \"type\": \"choropleth\"}], \"contour\": [{\"colorbar\": {\"outlinewidth\": 0, \"ticks\": \"\"}, \"colorscale\": [[0.0, \"#0d0887\"], [0.1111111111111111, \"#46039f\"], [0.2222222222222222, \"#7201a8\"], [0.3333333333333333, \"#9c179e\"], [0.4444444444444444, \"#bd3786\"], [0.5555555555555556, \"#d8576b\"], [0.6666666666666666, \"#ed7953\"], [0.7777777777777778, \"#fb9f3a\"], [0.8888888888888888, \"#fdca26\"], [1.0, \"#f0f921\"]], \"type\": \"contour\"}], \"contourcarpet\": [{\"colorbar\": {\"outlinewidth\": 0, \"ticks\": \"\"}, \"type\": \"contourcarpet\"}], \"heatmap\": [{\"colorbar\": {\"outlinewidth\": 0, \"ticks\": \"\"}, \"colorscale\": [[0.0, \"#0d0887\"], [0.1111111111111111, \"#46039f\"], [0.2222222222222222, \"#7201a8\"], [0.3333333333333333, \"#9c179e\"], [0.4444444444444444, \"#bd3786\"], [0.5555555555555556, \"#d8576b\"], [0.6666666666666666, \"#ed7953\"], [0.7777777777777778, \"#fb9f3a\"], [0.8888888888888888, \"#fdca26\"], [1.0, \"#f0f921\"]], \"type\": \"heatmap\"}], \"heatmapgl\": [{\"colorbar\": {\"outlinewidth\": 0, \"ticks\": \"\"}, \"colorscale\": [[0.0, \"#0d0887\"], [0.1111111111111111, \"#46039f\"], [0.2222222222222222, \"#7201a8\"], [0.3333333333333333, \"#9c179e\"], [0.4444444444444444, \"#bd3786\"], [0.5555555555555556, \"#d8576b\"], [0.6666666666666666, \"#ed7953\"], [0.7777777777777778, \"#fb9f3a\"], [0.8888888888888888, \"#fdca26\"], [1.0, \"#f0f921\"]], \"type\": \"heatmapgl\"}], \"histogram\": [{\"marker\": {\"colorbar\": {\"outlinewidth\": 0, \"ticks\": \"\"}}, \"type\": \"histogram\"}], \"histogram2d\": [{\"colorbar\": {\"outlinewidth\": 0, \"ticks\": \"\"}, \"colorscale\": [[0.0, \"#0d0887\"], [0.1111111111111111, \"#46039f\"], [0.2222222222222222, \"#7201a8\"], [0.3333333333333333, \"#9c179e\"], [0.4444444444444444, \"#bd3786\"], [0.5555555555555556, \"#d8576b\"], [0.6666666666666666, \"#ed7953\"], [0.7777777777777778, \"#fb9f3a\"], [0.8888888888888888, \"#fdca26\"], [1.0, \"#f0f921\"]], \"type\": \"histogram2d\"}], \"histogram2dcontour\": [{\"colorbar\": {\"outlinewidth\": 0, \"ticks\": \"\"}, \"colorscale\": [[0.0, \"#0d0887\"], [0.1111111111111111, \"#46039f\"], [0.2222222222222222, \"#7201a8\"], [0.3333333333333333, \"#9c179e\"], [0.4444444444444444, \"#bd3786\"], [0.5555555555555556, \"#d8576b\"], [0.6666666666666666, \"#ed7953\"], [0.7777777777777778, \"#fb9f3a\"], [0.8888888888888888, \"#fdca26\"], [1.0, \"#f0f921\"]], \"type\": \"histogram2dcontour\"}], \"mesh3d\": [{\"colorbar\": {\"outlinewidth\": 0, \"ticks\": \"\"}, \"type\": \"mesh3d\"}], \"parcoords\": [{\"line\": {\"colorbar\": {\"outlinewidth\": 0, \"ticks\": \"\"}}, \"type\": \"parcoords\"}], \"pie\": [{\"automargin\": true, \"type\": \"pie\"}], \"scatter\": [{\"marker\": {\"colorbar\": {\"outlinewidth\": 0, \"ticks\": \"\"}}, \"type\": \"scatter\"}], \"scatter3d\": [{\"line\": {\"colorbar\": {\"outlinewidth\": 0, \"ticks\": \"\"}}, \"marker\": {\"colorbar\": {\"outlinewidth\": 0, \"ticks\": \"\"}}, \"type\": \"scatter3d\"}], \"scattercarpet\": [{\"marker\": {\"colorbar\": {\"outlinewidth\": 0, \"ticks\": \"\"}}, \"type\": \"scattercarpet\"}], \"scattergeo\": [{\"marker\": {\"colorbar\": {\"outlinewidth\": 0, \"ticks\": \"\"}}, \"type\": \"scattergeo\"}], \"scattergl\": [{\"marker\": {\"colorbar\": {\"outlinewidth\": 0, \"ticks\": \"\"}}, \"type\": \"scattergl\"}], \"scattermapbox\": [{\"marker\": {\"colorbar\": {\"outlinewidth\": 0, \"ticks\": \"\"}}, \"type\": \"scattermapbox\"}], \"scatterpolar\": [{\"marker\": {\"colorbar\": {\"outlinewidth\": 0, \"ticks\": \"\"}}, \"type\": \"scatterpolar\"}], \"scatterpolargl\": [{\"marker\": {\"colorbar\": {\"outlinewidth\": 0, \"ticks\": \"\"}}, \"type\": \"scatterpolargl\"}], \"scatterternary\": [{\"marker\": {\"colorbar\": {\"outlinewidth\": 0, \"ticks\": \"\"}}, \"type\": \"scatterternary\"}], \"surface\": [{\"colorbar\": {\"outlinewidth\": 0, \"ticks\": \"\"}, \"colorscale\": [[0.0, \"#0d0887\"], [0.1111111111111111, \"#46039f\"], [0.2222222222222222, \"#7201a8\"], [0.3333333333333333, \"#9c179e\"], [0.4444444444444444, \"#bd3786\"], [0.5555555555555556, \"#d8576b\"], [0.6666666666666666, \"#ed7953\"], [0.7777777777777778, \"#fb9f3a\"], [0.8888888888888888, \"#fdca26\"], [1.0, \"#f0f921\"]], \"type\": \"surface\"}], \"table\": [{\"cells\": {\"fill\": {\"color\": \"#EBF0F8\"}, \"line\": {\"color\": \"white\"}}, \"header\": {\"fill\": {\"color\": \"#C8D4E3\"}, \"line\": {\"color\": \"white\"}}, \"type\": \"table\"}]}, \"layout\": {\"annotationdefaults\": {\"arrowcolor\": \"#2a3f5f\", \"arrowhead\": 0, \"arrowwidth\": 1}, \"autotypenumbers\": \"strict\", \"coloraxis\": {\"colorbar\": {\"outlinewidth\": 0, \"ticks\": \"\"}}, \"colorscale\": {\"diverging\": [[0, \"#8e0152\"], [0.1, \"#c51b7d\"], [0.2, \"#de77ae\"], [0.3, \"#f1b6da\"], [0.4, \"#fde0ef\"], [0.5, \"#f7f7f7\"], [0.6, \"#e6f5d0\"], [0.7, \"#b8e186\"], [0.8, \"#7fbc41\"], [0.9, \"#4d9221\"], [1, \"#276419\"]], \"sequential\": [[0.0, \"#0d0887\"], [0.1111111111111111, \"#46039f\"], [0.2222222222222222, \"#7201a8\"], [0.3333333333333333, \"#9c179e\"], [0.4444444444444444, \"#bd3786\"], [0.5555555555555556, \"#d8576b\"], [0.6666666666666666, \"#ed7953\"], [0.7777777777777778, \"#fb9f3a\"], [0.8888888888888888, \"#fdca26\"], [1.0, \"#f0f921\"]], \"sequentialminus\": [[0.0, \"#0d0887\"], [0.1111111111111111, \"#46039f\"], [0.2222222222222222, \"#7201a8\"], [0.3333333333333333, \"#9c179e\"], [0.4444444444444444, \"#bd3786\"], [0.5555555555555556, \"#d8576b\"], [0.6666666666666666, \"#ed7953\"], [0.7777777777777778, \"#fb9f3a\"], [0.8888888888888888, \"#fdca26\"], [1.0, \"#f0f921\"]]}, \"colorway\": [\"#636efa\", \"#EF553B\", \"#00cc96\", \"#ab63fa\", \"#FFA15A\", \"#19d3f3\", \"#FF6692\", \"#B6E880\", \"#FF97FF\", \"#FECB52\"], \"font\": {\"color\": \"#2a3f5f\"}, \"geo\": {\"bgcolor\": \"white\", \"lakecolor\": \"white\", \"landcolor\": \"#E5ECF6\", \"showlakes\": true, \"showland\": true, \"subunitcolor\": \"white\"}, \"hoverlabel\": {\"align\": \"left\"}, \"hovermode\": \"closest\", \"mapbox\": {\"style\": \"light\"}, \"paper_bgcolor\": \"white\", \"plot_bgcolor\": \"#E5ECF6\", \"polar\": {\"angularaxis\": {\"gridcolor\": \"white\", \"linecolor\": \"white\", \"ticks\": \"\"}, \"bgcolor\": \"#E5ECF6\", \"radialaxis\": {\"gridcolor\": \"white\", \"linecolor\": \"white\", \"ticks\": \"\"}}, \"scene\": {\"xaxis\": {\"backgroundcolor\": \"#E5ECF6\", \"gridcolor\": \"white\", \"gridwidth\": 2, \"linecolor\": \"white\", \"showbackground\": true, \"ticks\": \"\", \"zerolinecolor\": \"white\"}, \"yaxis\": {\"backgroundcolor\": \"#E5ECF6\", \"gridcolor\": \"white\", \"gridwidth\": 2, \"linecolor\": \"white\", \"showbackground\": true, \"ticks\": \"\", \"zerolinecolor\": \"white\"}, \"zaxis\": {\"backgroundcolor\": \"#E5ECF6\", \"gridcolor\": \"white\", \"gridwidth\": 2, \"linecolor\": \"white\", \"showbackground\": true, \"ticks\": \"\", \"zerolinecolor\": \"white\"}}, \"shapedefaults\": {\"line\": {\"color\": \"#2a3f5f\"}}, \"ternary\": {\"aaxis\": {\"gridcolor\": \"white\", \"linecolor\": \"white\", \"ticks\": \"\"}, \"baxis\": {\"gridcolor\": \"white\", \"linecolor\": \"white\", \"ticks\": \"\"}, \"bgcolor\": \"#E5ECF6\", \"caxis\": {\"gridcolor\": \"white\", \"linecolor\": \"white\", \"ticks\": \"\"}}, \"title\": {\"x\": 0.05}, \"xaxis\": {\"automargin\": true, \"gridcolor\": \"white\", \"linecolor\": \"white\", \"ticks\": \"\", \"title\": {\"standoff\": 15}, \"zerolinecolor\": \"white\", \"zerolinewidth\": 2}, \"yaxis\": {\"automargin\": true, \"gridcolor\": \"white\", \"linecolor\": \"white\", \"ticks\": \"\", \"title\": {\"standoff\": 15}, \"zerolinecolor\": \"white\", \"zerolinewidth\": 2}}}, \"title\": {\"text\": \"Bitcoin gr\\u00e1fico de velas ultimos 30 dias\"}, \"xaxis\": {\"rangeslider\": {\"visible\": false}, \"title\": {\"text\": \"date\"}}, \"yaxis\": {\"title\": {\"text\": \"Precio (USD$)\"}}},                        {\"responsive\": true}                    ).then(function(){\n",
       "                            \n",
       "var gd = document.getElementById('c776d03c-dc6e-4b56-b4bb-d63be5d863c2');\n",
       "var x = new MutationObserver(function (mutations, observer) {{\n",
       "        var display = window.getComputedStyle(gd).display;\n",
       "        if (!display || display === 'none') {{\n",
       "            console.log([gd, 'removed!']);\n",
       "            Plotly.purge(gd);\n",
       "            observer.disconnect();\n",
       "        }}\n",
       "}});\n",
       "\n",
       "// Listen for the removal of the full notebook cells\n",
       "var notebookContainer = gd.closest('#notebook-container');\n",
       "if (notebookContainer) {{\n",
       "    x.observe(notebookContainer, {childList: true});\n",
       "}}\n",
       "\n",
       "// Listen for the clearing of the current output cell\n",
       "var outputEl = gd.closest('.output');\n",
       "if (outputEl) {{\n",
       "    x.observe(outputEl, {childList: true});\n",
       "}}\n",
       "\n",
       "                        })                };                });            </script>        </div>"
      ]
     },
     "metadata": {},
     "output_type": "display_data"
    }
   ],
   "source": [
    "fig = go.Figure(data = [go.Candlestick(x=data.index , \n",
    "                        open = data['prices']['first'],\n",
    "                        high = data['prices']['max'] , \n",
    "                        low= data['prices']['min'] , \n",
    "                        close = data['prices']['last']\n",
    "                                      )])\n",
    "\n",
    "fig.update_layout(xaxis_rangeslider_visible = False , xaxis_title = 'date',\n",
    "yaxis_title = 'Precio (USD$)' , title = 'Bitcoin gráfico de velas ultimos 30 dias')\n"
   ]
  },
  {
   "cell_type": "markdown",
   "id": "5baf4340",
   "metadata": {},
   "source": [
    "![title](graphs/velas.png)"
   ]
  },
  {
   "cell_type": "markdown",
   "id": "efbc82de",
   "metadata": {},
   "source": [
    "### 3. HTML webscraping\n"
   ]
  },
  {
   "cell_type": "markdown",
   "id": "3906b67d",
   "metadata": {},
   "source": [
    "Vamos a obtener alguna información de la siguiente pag web: https://webscraper.io/test-sites/tables"
   ]
  },
  {
   "cell_type": "code",
   "execution_count": 2,
   "id": "4935f313",
   "metadata": {},
   "outputs": [],
   "source": [
    "from urllib.request import urlopen"
   ]
  },
  {
   "cell_type": "markdown",
   "id": "31794ffc",
   "metadata": {},
   "source": [
    "Debemos encontrar en donde esta guardada la información:"
   ]
  },
  {
   "cell_type": "markdown",
   "id": "6f82adf6",
   "metadata": {},
   "source": [
    "![title](graphs/websc1.png)"
   ]
  },
  {
   "cell_type": "markdown",
   "id": "90c0fc78",
   "metadata": {},
   "source": [
    "Vamos a extraer el titulo \"Table playground\""
   ]
  },
  {
   "cell_type": "code",
   "execution_count": 3,
   "id": "7c49c9ab",
   "metadata": {},
   "outputs": [],
   "source": [
    "url = \"https://webscraper.io/test-sites/tables\""
   ]
  },
  {
   "cell_type": "code",
   "execution_count": 5,
   "id": "9c85ba40",
   "metadata": {},
   "outputs": [],
   "source": [
    "website = urlopen(url).read().decode(\"utf-8\")"
   ]
  },
  {
   "cell_type": "code",
   "execution_count": 7,
   "id": "c09985b3",
   "metadata": {},
   "outputs": [],
   "source": [
    "start = website.find(\"<h1>\") + len(\"<h1>\")"
   ]
  },
  {
   "cell_type": "code",
   "execution_count": 8,
   "id": "a5c6304c",
   "metadata": {},
   "outputs": [],
   "source": [
    "end = website.find(\"</h1>\")"
   ]
  },
  {
   "cell_type": "code",
   "execution_count": 9,
   "id": "2a8a93f0",
   "metadata": {},
   "outputs": [
    {
     "name": "stdout",
     "output_type": "stream",
     "text": [
      "Table playground\n"
     ]
    }
   ],
   "source": [
    "print(website[start:end])"
   ]
  },
  {
   "cell_type": "markdown",
   "id": "17a74ea5",
   "metadata": {},
   "source": [
    "La libreria para webscraping es BeautifulSoups"
   ]
  },
  {
   "cell_type": "code",
   "execution_count": 14,
   "id": "98987756",
   "metadata": {},
   "outputs": [],
   "source": [
    "#pip install beautifulsoup4"
   ]
  },
  {
   "cell_type": "code",
   "execution_count": 13,
   "id": "15f253d3",
   "metadata": {},
   "outputs": [],
   "source": [
    "from bs4 import BeautifulSoup"
   ]
  },
  {
   "cell_type": "markdown",
   "id": "216a7927",
   "metadata": {},
   "source": [
    "Vamos ahora a obtener los titulos de las tablas que estan ubicados en las etiquetas h2"
   ]
  },
  {
   "cell_type": "code",
   "execution_count": 17,
   "id": "4f1d2cff",
   "metadata": {},
   "outputs": [],
   "source": [
    "soup = BeautifulSoup(website , 'lxml')"
   ]
  },
  {
   "cell_type": "code",
   "execution_count": 19,
   "id": "fc27f573",
   "metadata": {},
   "outputs": [],
   "source": [
    "headings_h2 = soup.find_all(\"h2\")"
   ]
  },
  {
   "cell_type": "code",
   "execution_count": 20,
   "id": "d6d47927",
   "metadata": {},
   "outputs": [
    {
     "name": "stdout",
     "output_type": "stream",
     "text": [
      "[<h2>Semantically correct table with thead and tbody</h2>, <h2>Table without thead tag</h2>, <h2>Table with multiple header rows and an empty data row</h2>]\n"
     ]
    }
   ],
   "source": [
    "print(headings_h2)"
   ]
  },
  {
   "cell_type": "markdown",
   "id": "2ff4eca0",
   "metadata": {},
   "source": [
    "Acá podemos ver los titulos de las 3 tablas."
   ]
  },
  {
   "cell_type": "markdown",
   "id": "c3bf9c43",
   "metadata": {},
   "source": [
    "Ahora vamos a obtener la informacion de la primera tabla"
   ]
  },
  {
   "cell_type": "code",
   "execution_count": 24,
   "id": "aca30a9d",
   "metadata": {},
   "outputs": [
    {
     "name": "stdout",
     "output_type": "stream",
     "text": [
      "['Otto', 'Thornton', 'the Bird']\n"
     ]
    }
   ],
   "source": [
    "tabla1 = soup.find('table')\n",
    "filas = tabla1.findAll('tr')[1:]\n",
    "last_names = []\n",
    "\n",
    "for row in filas:\n",
    "    last_names.append(row.findAll('td')[2].get_text())\n",
    "print(last_names)"
   ]
  },
  {
   "cell_type": "markdown",
   "id": "64c4f1e1",
   "metadata": {},
   "source": [
    "### Precio del Dolar\n",
    "\n",
    "De la pagina https://www.x-rates.com/calculator/?from=USD&to=COP&amount=1 vamos a obtener el precio del dolar en pesos Colombianos hoy."
   ]
  },
  {
   "cell_type": "code",
   "execution_count": 133,
   "id": "fa5c3cb3",
   "metadata": {},
   "outputs": [],
   "source": [
    "import requests\n",
    "from bs4 import BeautifulSoup"
   ]
  },
  {
   "cell_type": "code",
   "execution_count": 134,
   "id": "c6a15543",
   "metadata": {},
   "outputs": [],
   "source": [
    "urldolar = requests.get('https://www.x-rates.com/calculator/?from=USD&to=COP&amount=1')\n",
    "soupdolar = BeautifulSoup(urldolar.text, 'html.parser')\n",
    "\n",
    "preciodolar = soupdolar.find(class_=\"ccOutputTrail\").previous_sibling"
   ]
  },
  {
   "cell_type": "code",
   "execution_count": 135,
   "id": "9b604f6a",
   "metadata": {},
   "outputs": [
    {
     "name": "stdout",
     "output_type": "stream",
     "text": [
      "3,651.06\n"
     ]
    }
   ],
   "source": [
    "print(preciodolar)"
   ]
  },
  {
   "cell_type": "markdown",
   "id": "4618fc9a",
   "metadata": {},
   "source": [
    "### Casos Covid Colombia Hoy\n",
    "De la pagina https://www.worldometers.info/coronavirus/country/colombia/ vamos a obtener los casos diarios de coronavirus en Colombia. Este dato se encuentra al final de la pag."
   ]
  },
  {
   "cell_type": "code",
   "execution_count": 137,
   "id": "5b1f3aaa",
   "metadata": {},
   "outputs": [],
   "source": [
    "urlcovid = requests.get('https://www.worldometers.info/coronavirus/country/colombia/')"
   ]
  },
  {
   "cell_type": "code",
   "execution_count": 144,
   "id": "ed095cd5",
   "metadata": {},
   "outputs": [
    {
     "name": "stdout",
     "output_type": "stream",
     "text": [
      "28,519 new cases and 586 new deaths in Colombia [source]\n"
     ]
    }
   ],
   "source": [
    "soupcovid = BeautifulSoup(urlcovid.text ,'html.parser')\n",
    "casoshoy = soupcovid.find(class_=\"news_li\").get_text()\n",
    "print(casoshoy)\n",
    "#Actualizado 14 de Junio 2021"
   ]
  },
  {
   "cell_type": "markdown",
   "id": "6800d06d",
   "metadata": {},
   "source": [
    "### Casos Covid en todo el mundo\n",
    "\n",
    "Codigo hecho por Kiprono Elijah Koech disponible en:\n",
    "\n",
    "https://github.com/kipronokoech/covid-19-data-scraper"
   ]
  },
  {
   "cell_type": "code",
   "execution_count": 168,
   "id": "3cde2572",
   "metadata": {},
   "outputs": [],
   "source": [
    "urlcovid2 = requests.get('https://www.worldometers.info/coronavirus/').text"
   ]
  },
  {
   "cell_type": "code",
   "execution_count": 170,
   "id": "bafee753",
   "metadata": {},
   "outputs": [],
   "source": [
    "soupcovid2 = BeautifulSoup(urlcovid2 ,'lxml')\n",
    "casosmundo = soupcovid2.find(\"table\",attrs = {\"id\": \"main_table_countries_today\"} )"
   ]
  },
  {
   "cell_type": "code",
   "execution_count": 171,
   "id": "cc8536b7",
   "metadata": {},
   "outputs": [],
   "source": [
    "head = casosmundo.thead.find_all(\"tr\")"
   ]
  },
  {
   "cell_type": "code",
   "execution_count": 200,
   "id": "289f961c",
   "metadata": {},
   "outputs": [
    {
     "name": "stdout",
     "output_type": "stream",
     "text": [
      "#\n",
      "Country,Other\n",
      "TotalCases\n",
      "NewCases\n",
      "TotalDeaths\n",
      "NewDeaths\n",
      "TotalRecovered\n",
      "NewRecovered\n",
      "ActiveCases\n",
      "Serious,Critical\n",
      "Tot Cases/1M pop\n",
      "Deaths/1M pop\n",
      "TotalTests\n",
      "Tests/\n",
      "1M pop\n",
      "\n",
      "Population\n",
      "Continent\n",
      "1 Caseevery X ppl\n",
      "1 Deathevery X ppl\n",
      "1 Testevery X ppl\n",
      "New Cases/1M pop\n",
      "New Deaths/1M pop\n",
      "Active Cases/1M pop\n"
     ]
    }
   ],
   "source": [
    "headings = []\n",
    "\n",
    "for th in head[0].find_all(\"th\"):\n",
    "\n",
    "    print(th.text)\n",
    "\n",
    "    headings.append(th.text.replace(\"\\n\", \"\").strip())\n"
   ]
  },
  {
   "cell_type": "code",
   "execution_count": 201,
   "id": "1aa39d5c",
   "metadata": {},
   "outputs": [],
   "source": [
    "body = casosmundo.tbody.find_all(\"tr\")"
   ]
  },
  {
   "cell_type": "code",
   "execution_count": 202,
   "id": "8f82be8a",
   "metadata": {},
   "outputs": [],
   "source": [
    "dfcovid = []\n",
    "for r in range(1,len(body)):\n",
    "    row = []\n",
    "    for tr in body[r].find_all(\"td\"):\n",
    "        row.append(tr.text.replace(\"\\n\" , \"\").strip())\n",
    "    dfcovid.append(row)"
   ]
  },
  {
   "cell_type": "code",
   "execution_count": 205,
   "id": "f4d93342",
   "metadata": {},
   "outputs": [
    {
     "data": {
      "text/html": [
       "<div>\n",
       "<style scoped>\n",
       "    .dataframe tbody tr th:only-of-type {\n",
       "        vertical-align: middle;\n",
       "    }\n",
       "\n",
       "    .dataframe tbody tr th {\n",
       "        vertical-align: top;\n",
       "    }\n",
       "\n",
       "    .dataframe thead th {\n",
       "        text-align: right;\n",
       "    }\n",
       "</style>\n",
       "<table border=\"1\" class=\"dataframe\">\n",
       "  <thead>\n",
       "    <tr style=\"text-align: right;\">\n",
       "      <th></th>\n",
       "      <th>#</th>\n",
       "      <th>Country,Other</th>\n",
       "      <th>TotalCases</th>\n",
       "      <th>NewCases</th>\n",
       "      <th>TotalDeaths</th>\n",
       "      <th>NewDeaths</th>\n",
       "      <th>TotalRecovered</th>\n",
       "      <th>NewRecovered</th>\n",
       "      <th>ActiveCases</th>\n",
       "      <th>Serious,Critical</th>\n",
       "      <th>...</th>\n",
       "      <th>TotalTests</th>\n",
       "      <th>Tests/1M pop</th>\n",
       "      <th>Population</th>\n",
       "      <th>Continent</th>\n",
       "      <th>1 Caseevery X ppl</th>\n",
       "      <th>1 Deathevery X ppl</th>\n",
       "      <th>1 Testevery X ppl</th>\n",
       "      <th>New Cases/1M pop</th>\n",
       "      <th>New Deaths/1M pop</th>\n",
       "      <th>Active Cases/1M pop</th>\n",
       "    </tr>\n",
       "  </thead>\n",
       "  <tbody>\n",
       "    <tr>\n",
       "      <th>0</th>\n",
       "      <td></td>\n",
       "      <td>Asia</td>\n",
       "      <td>53,643,143</td>\n",
       "      <td>+108,137</td>\n",
       "      <td>746,955</td>\n",
       "      <td>+1,946</td>\n",
       "      <td>50,759,515</td>\n",
       "      <td>+151,634</td>\n",
       "      <td>2,136,673</td>\n",
       "      <td>27,340</td>\n",
       "      <td>...</td>\n",
       "      <td></td>\n",
       "      <td></td>\n",
       "      <td></td>\n",
       "      <td>Asia</td>\n",
       "      <td></td>\n",
       "      <td></td>\n",
       "      <td></td>\n",
       "      <td></td>\n",
       "      <td></td>\n",
       "      <td></td>\n",
       "    </tr>\n",
       "    <tr>\n",
       "      <th>1</th>\n",
       "      <td></td>\n",
       "      <td>South America</td>\n",
       "      <td>30,661,358</td>\n",
       "      <td>+1,607</td>\n",
       "      <td>944,223</td>\n",
       "      <td>+57</td>\n",
       "      <td>27,730,619</td>\n",
       "      <td>+1,999</td>\n",
       "      <td>1,986,516</td>\n",
       "      <td>32,311</td>\n",
       "      <td>...</td>\n",
       "      <td></td>\n",
       "      <td></td>\n",
       "      <td></td>\n",
       "      <td>South America</td>\n",
       "      <td></td>\n",
       "      <td></td>\n",
       "      <td></td>\n",
       "      <td></td>\n",
       "      <td></td>\n",
       "      <td></td>\n",
       "    </tr>\n",
       "    <tr>\n",
       "      <th>2</th>\n",
       "      <td></td>\n",
       "      <td>Europe</td>\n",
       "      <td>47,212,030</td>\n",
       "      <td>+28,516</td>\n",
       "      <td>1,086,858</td>\n",
       "      <td>+526</td>\n",
       "      <td>44,548,274</td>\n",
       "      <td>+45,989</td>\n",
       "      <td>1,576,898</td>\n",
       "      <td>10,464</td>\n",
       "      <td>...</td>\n",
       "      <td></td>\n",
       "      <td></td>\n",
       "      <td></td>\n",
       "      <td>Europe</td>\n",
       "      <td></td>\n",
       "      <td></td>\n",
       "      <td></td>\n",
       "      <td></td>\n",
       "      <td></td>\n",
       "      <td></td>\n",
       "    </tr>\n",
       "    <tr>\n",
       "      <th>3</th>\n",
       "      <td></td>\n",
       "      <td>Africa</td>\n",
       "      <td>5,092,608</td>\n",
       "      <td>+3,643</td>\n",
       "      <td>135,114</td>\n",
       "      <td>+64</td>\n",
       "      <td>4,548,346</td>\n",
       "      <td>+2,382</td>\n",
       "      <td>409,148</td>\n",
       "      <td>2,785</td>\n",
       "      <td>...</td>\n",
       "      <td></td>\n",
       "      <td></td>\n",
       "      <td></td>\n",
       "      <td>Africa</td>\n",
       "      <td></td>\n",
       "      <td></td>\n",
       "      <td></td>\n",
       "      <td></td>\n",
       "      <td></td>\n",
       "      <td></td>\n",
       "    </tr>\n",
       "    <tr>\n",
       "      <th>4</th>\n",
       "      <td></td>\n",
       "      <td>Oceania</td>\n",
       "      <td>70,306</td>\n",
       "      <td>+15</td>\n",
       "      <td>1,255</td>\n",
       "      <td></td>\n",
       "      <td>67,450</td>\n",
       "      <td>+1</td>\n",
       "      <td>1,601</td>\n",
       "      <td>11</td>\n",
       "      <td>...</td>\n",
       "      <td></td>\n",
       "      <td></td>\n",
       "      <td></td>\n",
       "      <td>Australia/Oceania</td>\n",
       "      <td></td>\n",
       "      <td></td>\n",
       "      <td></td>\n",
       "      <td></td>\n",
       "      <td></td>\n",
       "      <td></td>\n",
       "    </tr>\n",
       "    <tr>\n",
       "      <th>5</th>\n",
       "      <td></td>\n",
       "      <td></td>\n",
       "      <td>721</td>\n",
       "      <td></td>\n",
       "      <td>15</td>\n",
       "      <td></td>\n",
       "      <td>706</td>\n",
       "      <td></td>\n",
       "      <td>0</td>\n",
       "      <td>0</td>\n",
       "      <td>...</td>\n",
       "      <td></td>\n",
       "      <td></td>\n",
       "      <td></td>\n",
       "      <td></td>\n",
       "      <td></td>\n",
       "      <td></td>\n",
       "      <td></td>\n",
       "      <td></td>\n",
       "      <td></td>\n",
       "      <td></td>\n",
       "    </tr>\n",
       "    <tr>\n",
       "      <th>6</th>\n",
       "      <td></td>\n",
       "      <td>World</td>\n",
       "      <td>176,855,363</td>\n",
       "      <td>+147,708</td>\n",
       "      <td>3,822,178</td>\n",
       "      <td>+2,737</td>\n",
       "      <td>160,948,084</td>\n",
       "      <td>+207,764</td>\n",
       "      <td>12,085,101</td>\n",
       "      <td>84,872</td>\n",
       "      <td>...</td>\n",
       "      <td></td>\n",
       "      <td></td>\n",
       "      <td></td>\n",
       "      <td>All</td>\n",
       "      <td></td>\n",
       "      <td></td>\n",
       "      <td></td>\n",
       "      <td></td>\n",
       "      <td></td>\n",
       "      <td></td>\n",
       "    </tr>\n",
       "    <tr>\n",
       "      <th>7</th>\n",
       "      <td>1</td>\n",
       "      <td>USA</td>\n",
       "      <td>34,322,045</td>\n",
       "      <td>+887</td>\n",
       "      <td>615,079</td>\n",
       "      <td>+26</td>\n",
       "      <td>28,400,913</td>\n",
       "      <td>+781</td>\n",
       "      <td>5,306,053</td>\n",
       "      <td>4,526</td>\n",
       "      <td>...</td>\n",
       "      <td>494,381,160</td>\n",
       "      <td>1,485,322</td>\n",
       "      <td>332,844,357</td>\n",
       "      <td>North America</td>\n",
       "      <td>10</td>\n",
       "      <td>541</td>\n",
       "      <td>1</td>\n",
       "      <td>3</td>\n",
       "      <td>0.08</td>\n",
       "      <td>15,942</td>\n",
       "    </tr>\n",
       "    <tr>\n",
       "      <th>8</th>\n",
       "      <td>2</td>\n",
       "      <td>India</td>\n",
       "      <td>29,548,012</td>\n",
       "      <td>+40,574</td>\n",
       "      <td>375,185</td>\n",
       "      <td>+898</td>\n",
       "      <td>28,231,022</td>\n",
       "      <td>+82,045</td>\n",
       "      <td>941,805</td>\n",
       "      <td>8,944</td>\n",
       "      <td>...</td>\n",
       "      <td>379,624,626</td>\n",
       "      <td>272,550</td>\n",
       "      <td>1,392,864,531</td>\n",
       "      <td>Asia</td>\n",
       "      <td>47</td>\n",
       "      <td>3,712</td>\n",
       "      <td>4</td>\n",
       "      <td>29</td>\n",
       "      <td>0.6</td>\n",
       "      <td>676</td>\n",
       "    </tr>\n",
       "    <tr>\n",
       "      <th>9</th>\n",
       "      <td>3</td>\n",
       "      <td>Brazil</td>\n",
       "      <td>17,413,996</td>\n",
       "      <td></td>\n",
       "      <td>487,476</td>\n",
       "      <td></td>\n",
       "      <td>15,794,548</td>\n",
       "      <td></td>\n",
       "      <td>1,131,972</td>\n",
       "      <td>8,318</td>\n",
       "      <td>...</td>\n",
       "      <td>50,801,042</td>\n",
       "      <td>237,396</td>\n",
       "      <td>213,992,634</td>\n",
       "      <td>South America</td>\n",
       "      <td>12</td>\n",
       "      <td>439</td>\n",
       "      <td>4</td>\n",
       "      <td></td>\n",
       "      <td></td>\n",
       "      <td>5,290</td>\n",
       "    </tr>\n",
       "  </tbody>\n",
       "</table>\n",
       "<p>10 rows × 22 columns</p>\n",
       "</div>"
      ],
      "text/plain": [
       "   #  Country,Other   TotalCases  NewCases TotalDeaths NewDeaths  \\\n",
       "0              Asia   53,643,143  +108,137     746,955    +1,946   \n",
       "1     South America   30,661,358    +1,607     944,223       +57   \n",
       "2            Europe   47,212,030   +28,516   1,086,858      +526   \n",
       "3            Africa    5,092,608    +3,643     135,114       +64   \n",
       "4           Oceania       70,306       +15       1,255             \n",
       "5                            721                    15             \n",
       "6             World  176,855,363  +147,708   3,822,178    +2,737   \n",
       "7  1            USA   34,322,045      +887     615,079       +26   \n",
       "8  2          India   29,548,012   +40,574     375,185      +898   \n",
       "9  3         Brazil   17,413,996               487,476             \n",
       "\n",
       "  TotalRecovered NewRecovered ActiveCases Serious,Critical  ...   TotalTests  \\\n",
       "0     50,759,515     +151,634   2,136,673           27,340  ...                \n",
       "1     27,730,619       +1,999   1,986,516           32,311  ...                \n",
       "2     44,548,274      +45,989   1,576,898           10,464  ...                \n",
       "3      4,548,346       +2,382     409,148            2,785  ...                \n",
       "4         67,450           +1       1,601               11  ...                \n",
       "5            706                        0                0  ...                \n",
       "6    160,948,084     +207,764  12,085,101           84,872  ...                \n",
       "7     28,400,913         +781   5,306,053            4,526  ...  494,381,160   \n",
       "8     28,231,022      +82,045     941,805            8,944  ...  379,624,626   \n",
       "9     15,794,548                1,131,972            8,318  ...   50,801,042   \n",
       "\n",
       "  Tests/1M pop     Population          Continent 1 Caseevery X ppl  \\\n",
       "0                                           Asia                     \n",
       "1                                  South America                     \n",
       "2                                         Europe                     \n",
       "3                                         Africa                     \n",
       "4                              Australia/Oceania                     \n",
       "5                                                                    \n",
       "6                                            All                     \n",
       "7    1,485,322    332,844,357      North America                10   \n",
       "8      272,550  1,392,864,531               Asia                47   \n",
       "9      237,396    213,992,634      South America                12   \n",
       "\n",
       "  1 Deathevery X ppl 1 Testevery X ppl New Cases/1M pop New Deaths/1M pop  \\\n",
       "0                                                                           \n",
       "1                                                                           \n",
       "2                                                                           \n",
       "3                                                                           \n",
       "4                                                                           \n",
       "5                                                                           \n",
       "6                                                                           \n",
       "7                541                 1                3              0.08   \n",
       "8              3,712                 4               29               0.6   \n",
       "9                439                 4                                      \n",
       "\n",
       "  Active Cases/1M pop  \n",
       "0                      \n",
       "1                      \n",
       "2                      \n",
       "3                      \n",
       "4                      \n",
       "5                      \n",
       "6                      \n",
       "7              15,942  \n",
       "8                 676  \n",
       "9               5,290  \n",
       "\n",
       "[10 rows x 22 columns]"
      ]
     },
     "execution_count": 205,
     "metadata": {},
     "output_type": "execute_result"
    }
   ],
   "source": [
    "dfcovid = pd.DataFrame(dfcovid,columns =headings)\n",
    "dfcovid.head(10)"
   ]
  },
  {
   "cell_type": "markdown",
   "id": "17e26f75",
   "metadata": {},
   "source": [
    "### Tablas de Wikipedia"
   ]
  },
  {
   "cell_type": "markdown",
   "id": "6ca54542",
   "metadata": {},
   "source": [
    "Ahora intentemos obtener algunas datos de la siguiente pagina:\n",
    "    \n",
    "https://es.wikipedia.org/wiki/Anexo:Presidentes_de_Colombia\n",
    "\n",
    "En esta pag tenemosvarias tablas para diferentes periodos de tiempo. Para encontrar una tabla especifica lo hacemos con el mismo comando pero variando el valor entre corchetes en el codigo de pandas de la siguiente forma:"
   ]
  },
  {
   "cell_type": "code",
   "execution_count": 96,
   "id": "01c0254c",
   "metadata": {},
   "outputs": [],
   "source": [
    "url3 = \"https://es.wikipedia.org/wiki/Anexo:Presidentes_de_Colombia\""
   ]
  },
  {
   "cell_type": "markdown",
   "id": "f24cd6d4",
   "metadata": {},
   "source": [
    "Primera tabla, de la lista de presidentes de las Provincias Unidas de la Nueva Granada:"
   ]
  },
  {
   "cell_type": "code",
   "execution_count": 109,
   "id": "6329de3e",
   "metadata": {},
   "outputs": [],
   "source": [
    "presidentes=pd.read_html(url3, header=0)[0]"
   ]
  },
  {
   "cell_type": "code",
   "execution_count": 116,
   "id": "87e38651",
   "metadata": {},
   "outputs": [
    {
     "data": {
      "text/html": [
       "<div>\n",
       "<style scoped>\n",
       "    .dataframe tbody tr th:only-of-type {\n",
       "        vertical-align: middle;\n",
       "    }\n",
       "\n",
       "    .dataframe tbody tr th {\n",
       "        vertical-align: top;\n",
       "    }\n",
       "\n",
       "    .dataframe thead th {\n",
       "        text-align: right;\n",
       "    }\n",
       "</style>\n",
       "<table border=\"1\" class=\"dataframe\">\n",
       "  <thead>\n",
       "    <tr style=\"text-align: right;\">\n",
       "      <th></th>\n",
       "      <th>Período</th>\n",
       "      <th>Período.1</th>\n",
       "      <th>Efigie</th>\n",
       "      <th>Presidente</th>\n",
       "      <th>Ciudades</th>\n",
       "      <th>Doctrina Política</th>\n",
       "      <th>Comentarios</th>\n",
       "    </tr>\n",
       "  </thead>\n",
       "  <tbody>\n",
       "    <tr>\n",
       "      <th>0</th>\n",
       "      <td>NaN</td>\n",
       "      <td>25 de julio de 1810-1 de abril de 1811</td>\n",
       "      <td>NaN</td>\n",
       "      <td>José Miguel Pey y Andrade (1er. periodo)</td>\n",
       "      <td>Santafé</td>\n",
       "      <td>Centralista</td>\n",
       "      <td>Origen del mando: Encargo.Presidente de la Jun...</td>\n",
       "    </tr>\n",
       "    <tr>\n",
       "      <th>1</th>\n",
       "      <td>NaN</td>\n",
       "      <td>1 de abril de 1811-19 de septiembre de 1811</td>\n",
       "      <td>NaN</td>\n",
       "      <td>Jorge Tadeo Lozano</td>\n",
       "      <td>Santafé</td>\n",
       "      <td>Federalista</td>\n",
       "      <td>Origen del mando: Elegido.Vicepresidente: José...</td>\n",
       "    </tr>\n",
       "    <tr>\n",
       "      <th>2</th>\n",
       "      <td>NaN</td>\n",
       "      <td>19 de septiembre de 1811-29 de agosto de 1813</td>\n",
       "      <td>NaN</td>\n",
       "      <td>Antonio José de Nariño y Álvarez</td>\n",
       "      <td>Santafé</td>\n",
       "      <td>Centralista</td>\n",
       "      <td>Origen del mando: Elegido tras renuncia de Jor...</td>\n",
       "    </tr>\n",
       "    <tr>\n",
       "      <th>3</th>\n",
       "      <td>NaN</td>\n",
       "      <td>23 de diciembre de 1811 -24 de diciembre de 1811</td>\n",
       "      <td>NaN</td>\n",
       "      <td>Pedro Groot y Alea</td>\n",
       "      <td>Santafé</td>\n",
       "      <td>Centralista</td>\n",
       "      <td>Presidente provisional de las Provincias Unida...</td>\n",
       "    </tr>\n",
       "    <tr>\n",
       "      <th>4</th>\n",
       "      <td>NaN</td>\n",
       "      <td>25 de junio de 1812-5 de agosto de 1812</td>\n",
       "      <td>NaN</td>\n",
       "      <td>Manuel Benito de Castro Arcaya</td>\n",
       "      <td>Santafé</td>\n",
       "      <td>Centralista</td>\n",
       "      <td>Origen del mando: Encargado al asumir Nariño l...</td>\n",
       "    </tr>\n",
       "  </tbody>\n",
       "</table>\n",
       "</div>"
      ],
      "text/plain": [
       "   Período                                         Período.1  Efigie  \\\n",
       "0      NaN            25 de julio de 1810-1 de abril de 1811     NaN   \n",
       "1      NaN       1 de abril de 1811-19 de septiembre de 1811     NaN   \n",
       "2      NaN     19 de septiembre de 1811-29 de agosto de 1813     NaN   \n",
       "3      NaN  23 de diciembre de 1811 -24 de diciembre de 1811     NaN   \n",
       "4      NaN           25 de junio de 1812-5 de agosto de 1812     NaN   \n",
       "\n",
       "                                 Presidente Ciudades Doctrina Política  \\\n",
       "0  José Miguel Pey y Andrade (1er. periodo)  Santafé       Centralista   \n",
       "1                        Jorge Tadeo Lozano  Santafé       Federalista   \n",
       "2          Antonio José de Nariño y Álvarez  Santafé       Centralista   \n",
       "3                        Pedro Groot y Alea  Santafé       Centralista   \n",
       "4            Manuel Benito de Castro Arcaya  Santafé       Centralista   \n",
       "\n",
       "                                         Comentarios  \n",
       "0  Origen del mando: Encargo.Presidente de la Jun...  \n",
       "1  Origen del mando: Elegido.Vicepresidente: José...  \n",
       "2  Origen del mando: Elegido tras renuncia de Jor...  \n",
       "3  Presidente provisional de las Provincias Unida...  \n",
       "4  Origen del mando: Encargado al asumir Nariño l...  "
      ]
     },
     "execution_count": 116,
     "metadata": {},
     "output_type": "execute_result"
    }
   ],
   "source": [
    "presidentes.head()"
   ]
  },
  {
   "cell_type": "markdown",
   "id": "551ceeb2",
   "metadata": {},
   "source": [
    "Tabla numero 5 de Presidentes de los Estados Unidos de Colombia. Notese que las tablas van de 0 en adelante."
   ]
  },
  {
   "cell_type": "code",
   "execution_count": 113,
   "id": "4caa5b20",
   "metadata": {},
   "outputs": [],
   "source": [
    "presidentes2=pd.read_html(url3, header=0)[4]"
   ]
  },
  {
   "cell_type": "code",
   "execution_count": 117,
   "id": "19d208da",
   "metadata": {},
   "outputs": [
    {
     "data": {
      "text/html": [
       "<div>\n",
       "<style scoped>\n",
       "    .dataframe tbody tr th:only-of-type {\n",
       "        vertical-align: middle;\n",
       "    }\n",
       "\n",
       "    .dataframe tbody tr th {\n",
       "        vertical-align: top;\n",
       "    }\n",
       "\n",
       "    .dataframe thead th {\n",
       "        text-align: right;\n",
       "    }\n",
       "</style>\n",
       "<table border=\"1\" class=\"dataframe\">\n",
       "  <thead>\n",
       "    <tr style=\"text-align: right;\">\n",
       "      <th></th>\n",
       "      <th>Período</th>\n",
       "      <th>Período.1</th>\n",
       "      <th>Efigie</th>\n",
       "      <th>Presidente</th>\n",
       "      <th>Partido</th>\n",
       "      <th>Comentarios</th>\n",
       "    </tr>\n",
       "  </thead>\n",
       "  <tbody>\n",
       "    <tr>\n",
       "      <th>0</th>\n",
       "      <td>NaN</td>\n",
       "      <td>18 de julio de 1861-10 de febrero de 1863</td>\n",
       "      <td>NaN</td>\n",
       "      <td>Tomás Cipriano de Mosquera y Arboleda (2.º per...</td>\n",
       "      <td>Liberal</td>\n",
       "      <td>Tomó el poder por golpe de estado, luego de tr...</td>\n",
       "    </tr>\n",
       "    <tr>\n",
       "      <th>1</th>\n",
       "      <td>NaN</td>\n",
       "      <td>10 de febrero de 1863-14 de mayo de 1863</td>\n",
       "      <td>NaN</td>\n",
       "      <td>Ejecutivo Plural:- Froilán Largacha Hurtado (P...</td>\n",
       "      <td>Liberales</td>\n",
       "      <td>NaN</td>\n",
       "    </tr>\n",
       "    <tr>\n",
       "      <th>2</th>\n",
       "      <td>NaN</td>\n",
       "      <td>14 de mayo de 1863-29 de enero de 1864</td>\n",
       "      <td>NaN</td>\n",
       "      <td>Tomás Cipriano de Mosquera y Arboleda (3.er pe...</td>\n",
       "      <td>Liberal</td>\n",
       "      <td>NaN</td>\n",
       "    </tr>\n",
       "    <tr>\n",
       "      <th>3</th>\n",
       "      <td>NaN</td>\n",
       "      <td>29 de enero de 1864-29 de febrero de 1864</td>\n",
       "      <td>NaN</td>\n",
       "      <td>Juán Uricoechea Navarro (Ejecutivo Plural)</td>\n",
       "      <td>Liberal</td>\n",
       "      <td>Provisorio. Tomó el poder mientras Mosquera es...</td>\n",
       "    </tr>\n",
       "    <tr>\n",
       "      <th>4</th>\n",
       "      <td>NaN</td>\n",
       "      <td>29 de febrero de 1864-1 de abril de 1864</td>\n",
       "      <td>NaN</td>\n",
       "      <td>Tomás Cipriano de Mosquera</td>\n",
       "      <td>Liberal</td>\n",
       "      <td>NaN</td>\n",
       "    </tr>\n",
       "  </tbody>\n",
       "</table>\n",
       "</div>"
      ],
      "text/plain": [
       "   Período                                  Período.1  Efigie  \\\n",
       "0      NaN  18 de julio de 1861-10 de febrero de 1863     NaN   \n",
       "1      NaN   10 de febrero de 1863-14 de mayo de 1863     NaN   \n",
       "2      NaN     14 de mayo de 1863-29 de enero de 1864     NaN   \n",
       "3      NaN  29 de enero de 1864-29 de febrero de 1864     NaN   \n",
       "4      NaN   29 de febrero de 1864-1 de abril de 1864     NaN   \n",
       "\n",
       "                                          Presidente    Partido  \\\n",
       "0  Tomás Cipriano de Mosquera y Arboleda (2.º per...    Liberal   \n",
       "1  Ejecutivo Plural:- Froilán Largacha Hurtado (P...  Liberales   \n",
       "2  Tomás Cipriano de Mosquera y Arboleda (3.er pe...    Liberal   \n",
       "3         Juán Uricoechea Navarro (Ejecutivo Plural)    Liberal   \n",
       "4                         Tomás Cipriano de Mosquera    Liberal   \n",
       "\n",
       "                                         Comentarios  \n",
       "0  Tomó el poder por golpe de estado, luego de tr...  \n",
       "1                                                NaN  \n",
       "2                                                NaN  \n",
       "3  Provisorio. Tomó el poder mientras Mosquera es...  \n",
       "4                                                NaN  "
      ]
     },
     "execution_count": 117,
     "metadata": {},
     "output_type": "execute_result"
    }
   ],
   "source": [
    "presidentes2.head()"
   ]
  }
 ],
 "metadata": {
  "kernelspec": {
   "display_name": "Python 3",
   "language": "python",
   "name": "python3"
  },
  "language_info": {
   "codemirror_mode": {
    "name": "ipython",
    "version": 3
   },
   "file_extension": ".py",
   "mimetype": "text/x-python",
   "name": "python",
   "nbconvert_exporter": "python",
   "pygments_lexer": "ipython3",
   "version": "3.8.8"
  },
  "nbTranslate": {
   "displayLangs": [
    "*"
   ],
   "hotkey": "alt-t",
   "langInMainMenu": true,
   "sourceLang": "en",
   "targetLang": "fr",
   "useGoogleTranslate": true
  }
 },
 "nbformat": 4,
 "nbformat_minor": 5
}
