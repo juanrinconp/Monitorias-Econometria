{
 "cells": [
  {
   "cell_type": "markdown",
   "id": "b49eb518",
   "metadata": {},
   "source": [
    "## Monitoria 5 - Econometría\n",
    "### Pontificia Universidad Javeriana\n",
    "#### Variables instrumentales y MCO en dos etapas - En proceso"
   ]
  },
  {
   "cell_type": "markdown",
   "id": "34d8b2bf",
   "metadata": {},
   "source": [
    "El punto del método de variables instrumentales es encontrar una variable que afecte a $X$ (nuestra variable con problemas de endogeneidad), pero que no afecte a $y$. El método mas usado en la practica es MCO en dos etapas (es importante resaltar que MCO en dos etapas también utiliza un instrumento para estimar el parámetro que se desea), ya que con este se puede estimar los modelos perfectamente identificados y los modelos sobre identificados. El método de variables instrumentales solo funciona en modelos perfectamente identificados."
   ]
  },
  {
   "cell_type": "markdown",
   "id": "d95f64a4",
   "metadata": {},
   "source": [
    "Una buena variable instrumental debe cumplir con dos condiciones:\n",
    "\n",
    "- Relevancia, es decir, que el instrumento este correlacionado con nuestra variable: $Cov(X,z) \\not= 0$. Si esto se cumple, veremos que también se va a cumplir que $E[X|z] \\not= 0$.\n",
    "    \n",
    "    \n",
    "    \n",
    "- Validez, es decir, que el instrumento  no este correlacionado con el error: $Cov(z,\\epsilon) = 0$. Si se cumple lo anterior, también se va a cumplir que $E[\\epsilon|z] = 0$.\n",
    "    \n"
   ]
  },
  {
   "cell_type": "code",
   "execution_count": 2,
   "id": "019977e0",
   "metadata": {},
   "outputs": [],
   "source": [
    "import pandas as pd \n",
    "import numpy as np \n",
    "import os \n",
    "\n",
    "pathout = './data/'\n",
    "if not os.path.exists(pathout):\n",
    "    os.mkdir(pathout) \n",
    "pathgraphs = './graphs/'\n",
    "if not os.path.exists(pathgraphs): \n",
    "        os.mkdir(pathgraphs) "
   ]
  },
  {
   "cell_type": "code",
   "execution_count": 3,
   "id": "26f1963d",
   "metadata": {},
   "outputs": [],
   "source": [
    "from linearmodels.iv import IV2SLS\n"
   ]
  }
 ],
 "metadata": {
  "kernelspec": {
   "display_name": "Python 3",
   "language": "python",
   "name": "python3"
  },
  "language_info": {
   "codemirror_mode": {
    "name": "ipython",
    "version": 3
   },
   "file_extension": ".py",
   "mimetype": "text/x-python",
   "name": "python",
   "nbconvert_exporter": "python",
   "pygments_lexer": "ipython3",
   "version": "3.8.8"
  },
  "nbTranslate": {
   "displayLangs": [
    "*"
   ],
   "hotkey": "alt-t",
   "langInMainMenu": true,
   "sourceLang": "en",
   "targetLang": "fr",
   "useGoogleTranslate": true
  }
 },
 "nbformat": 4,
 "nbformat_minor": 5
}
