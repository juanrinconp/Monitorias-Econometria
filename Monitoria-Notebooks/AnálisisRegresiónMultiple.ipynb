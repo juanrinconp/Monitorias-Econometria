{
 "cells": [
  {
   "cell_type": "markdown",
   "id": "0dbc3d8b",
   "metadata": {},
   "source": [
    "## Monitoria 2 - Econometría\n",
    "### Pontificia Universidad Javeriana\n",
    "#### Análisis de Regresión Multiple "
   ]
  },
  {
   "cell_type": "markdown",
   "id": "c3f5ef8e",
   "metadata": {},
   "source": [
    "El objetivo de este documento es dar ejemplos de los tipos de regresiones que podemos realizar, como se hacen en Python y sus interpretaciones. Tanto de sus formas funcionales como de los tipos de regresores (variables continuas, binarias, interacciones, etc.) Además se hará una breve explicación de algunas de las principales salidas de la tabla de regresión en Python.\n",
    "\n",
    "Usaremos 2 bases de datos para todos los ejercicios, WAGE1.dta y econmath.dta"
   ]
  },
  {
   "cell_type": "markdown",
   "id": "9e9b5cd0",
   "metadata": {},
   "source": [
    "Este documento sigue el siguiente orden:\n",
    "\n",
    "- Regresión Nivel - Nivel\n",
    "- Regresión Nivel - Log\n",
    "- Regresión Log - Nivel\n",
    "- Regresión Log - Log\n",
    "- Variables Binarias\n",
    "- Interacciones entre variables Binarias\n",
    "- R cuadrado\n",
    "- Estadistico t\n",
    "- Estadistico F"
   ]
  },
  {
   "cell_type": "markdown",
   "id": "cba6c6a8",
   "metadata": {},
   "source": [
    "Inicialmente se mostrará un ejemplo de cada una de las siguientes formas funcionales para las regresiones, junto con su interpretación:"
   ]
  },
  {
   "cell_type": "markdown",
   "id": "1785243c",
   "metadata": {},
   "source": [
    "![title](graphs/loglog.png)"
   ]
  },
  {
   "cell_type": "markdown",
   "id": "331d9f77",
   "metadata": {},
   "source": [
    "Luego pasaremos a una breve descripción de los estadísticos t, F y el R cuadrado"
   ]
  },
  {
   "cell_type": "code",
   "execution_count": 92,
   "id": "c064e55c",
   "metadata": {},
   "outputs": [],
   "source": [
    "import pandas as pd \n",
    "import numpy as np \n",
    "import os \n",
    "\n",
    "pathout = './data/'\n",
    "if not os.path.exists(pathout):\n",
    "    os.mkdir(pathout) \n",
    "    pathgraphs = './graphs/'\n",
    "    if not os.path.exists(pathgraphs): \n",
    "        os.mkdir(pathgraphs) "
   ]
  },
  {
   "cell_type": "code",
   "execution_count": 93,
   "id": "9d281960",
   "metadata": {},
   "outputs": [],
   "source": [
    "import statsmodels.api as sm\n",
    "import statsmodels.formula.api as smf"
   ]
  },
  {
   "cell_type": "markdown",
   "id": "1b18965e",
   "metadata": {},
   "source": [
    "## 1. Regresión Nivel - nivel\n",
    "Para esta regresión usaremos datos de la base econmath que contiene datos sobre los resultados en la prueba ACT de estudiantes en estados unidos, junto con algunas características de estos.\n",
    "\n",
    "Estamos interesados en determinar si el promedio en high School afecta los resultados en matemáticas de esta prueba, por lo que usaremos las siguientes variables:\n",
    "\n",
    "####  Nuestra variable dependiente de interés\n",
    "- actmth: Variable con información de la calificación de los estudiantes en la prueba de matemáticas\n",
    "\n",
    "####  Nuestra variable independiente de interés:\n",
    "\n",
    "- hsgpa: Variable con información el promedio en high school del estudiante\n",
    "\n",
    "#### Nuestros controles:\n",
    "\n",
    "- male: Variable binaria que indica si el estudiante es hombre o mujer\n",
    "- colgpa: Variable con información sobre el promedio en el college\n",
    "- study: Variable con información de las horas estudiadas cada semana\n",
    "\n"
   ]
  },
  {
   "cell_type": "code",
   "execution_count": 94,
   "id": "81df1831",
   "metadata": {},
   "outputs": [
    {
     "data": {
      "text/html": [
       "<div>\n",
       "<style scoped>\n",
       "    .dataframe tbody tr th:only-of-type {\n",
       "        vertical-align: middle;\n",
       "    }\n",
       "\n",
       "    .dataframe tbody tr th {\n",
       "        vertical-align: top;\n",
       "    }\n",
       "\n",
       "    .dataframe thead th {\n",
       "        text-align: right;\n",
       "    }\n",
       "</style>\n",
       "<table border=\"1\" class=\"dataframe\">\n",
       "  <thead>\n",
       "    <tr style=\"text-align: right;\">\n",
       "      <th></th>\n",
       "      <th>age</th>\n",
       "      <th>work</th>\n",
       "      <th>study</th>\n",
       "      <th>econhs</th>\n",
       "      <th>colgpa</th>\n",
       "      <th>hsgpa</th>\n",
       "      <th>acteng</th>\n",
       "      <th>actmth</th>\n",
       "      <th>act</th>\n",
       "      <th>mathscr</th>\n",
       "      <th>male</th>\n",
       "      <th>calculus</th>\n",
       "      <th>attexc</th>\n",
       "      <th>attgood</th>\n",
       "      <th>fathcoll</th>\n",
       "      <th>mothcoll</th>\n",
       "      <th>score</th>\n",
       "    </tr>\n",
       "  </thead>\n",
       "  <tbody>\n",
       "    <tr>\n",
       "      <th>0</th>\n",
       "      <td>23</td>\n",
       "      <td>15.0</td>\n",
       "      <td>10.0</td>\n",
       "      <td>0</td>\n",
       "      <td>3.4909</td>\n",
       "      <td>3.355</td>\n",
       "      <td>24.0</td>\n",
       "      <td>26.0</td>\n",
       "      <td>27.0</td>\n",
       "      <td>10</td>\n",
       "      <td>1</td>\n",
       "      <td>1</td>\n",
       "      <td>0</td>\n",
       "      <td>0</td>\n",
       "      <td>1</td>\n",
       "      <td>1</td>\n",
       "      <td>84.43</td>\n",
       "    </tr>\n",
       "  </tbody>\n",
       "</table>\n",
       "</div>"
      ],
      "text/plain": [
       "   age  work  study  econhs  colgpa  hsgpa  acteng  actmth   act  mathscr  \\\n",
       "0   23  15.0   10.0       0  3.4909  3.355    24.0    26.0  27.0       10   \n",
       "\n",
       "   male  calculus  attexc  attgood  fathcoll  mothcoll  score  \n",
       "0     1         1       0        0         1         1  84.43  "
      ]
     },
     "execution_count": 94,
     "metadata": {},
     "output_type": "execute_result"
    }
   ],
   "source": [
    "d0 = pd.read_stata(pathout + 'econmath.dta')\n",
    "d0.head(1)"
   ]
  },
  {
   "cell_type": "code",
   "execution_count": 95,
   "id": "6f3042a2",
   "metadata": {},
   "outputs": [],
   "source": [
    "X0 = d0[['hsgpa' ,'study','male' , 'colgpa']] \n",
    "X0 = sm.add_constant(X0)\n",
    "Y0 = d0.actmth"
   ]
  },
  {
   "cell_type": "code",
   "execution_count": 96,
   "id": "68e9070e",
   "metadata": {},
   "outputs": [
    {
     "name": "stdout",
     "output_type": "stream",
     "text": [
      "                            OLS Regression Results                            \n",
      "==============================================================================\n",
      "Dep. Variable:                 actmth   R-squared:                       0.229\n",
      "Model:                            OLS   Adj. R-squared:                  0.225\n",
      "Method:                 Least Squares   F-statistic:                     60.00\n",
      "Date:                Wed, 12 May 2021   Prob (F-statistic):           2.15e-44\n",
      "Time:                        12:59:27   Log-Likelihood:                -2129.7\n",
      "No. Observations:                 814   AIC:                             4269.\n",
      "Df Residuals:                     809   BIC:                             4293.\n",
      "Df Model:                           4                                         \n",
      "Covariance Type:            nonrobust                                         \n",
      "==============================================================================\n",
      "                 coef    std err          t      P>|t|      [0.025      0.975]\n",
      "------------------------------------------------------------------------------\n",
      "const          6.9690      1.188      5.867      0.000       4.637       9.301\n",
      "hsgpa          3.9937      0.391     10.204      0.000       3.225       4.762\n",
      "study         -0.0515      0.015     -3.406      0.001      -0.081      -0.022\n",
      "male           1.4803      0.238      6.222      0.000       1.013       1.947\n",
      "colgpa         1.0163      0.247      4.107      0.000       0.531       1.502\n",
      "==============================================================================\n",
      "Omnibus:                        5.739   Durbin-Watson:                   2.050\n",
      "Prob(Omnibus):                  0.057   Jarque-Bera (JB):                5.743\n",
      "Skew:                           0.184   Prob(JB):                       0.0566\n",
      "Kurtosis:                       2.817   Cond. No.                         174.\n",
      "==============================================================================\n",
      "\n",
      "Notes:\n",
      "[1] Standard Errors assume that the covariance matrix of the errors is correctly specified.\n"
     ]
    }
   ],
   "source": [
    "# En esta regresión tenemos problemas de missing values por lo que debemos especificarle python\n",
    "# que no los tenga en cuenta\n",
    "reg0 = sm.OLS(endog=Y0, exog=X0, missing = 'drop',)\n",
    "reg0 = reg0.fit()\n",
    "print(reg0.summary())"
   ]
  },
  {
   "cell_type": "markdown",
   "id": "6e0b6f91",
   "metadata": {},
   "source": [
    "Dado que estamos interesados en la interpretación de hsgpa, y tanto nuestra variable independiente como dependiente están en niveles, la interpretación será la siguiente:\n",
    "\n",
    "#### Al aumentar en una unidad el promedio en High School, los resultados de la prueba de matemáticas del ACT aumentaran en promedio y manteniendo todo lo demás constante en 3.99 puntos. Esta es una estimación altamente significativa.\n",
    "\n",
    "Aquí hay que tener presente que el promedio en High School va de 0 a 4, por lo que un aumento de una unidad es bastante. Además, el puntaje máximo en el ACT matemáticas es de 36.\n",
    "Dado lo anterior tendría sentido aplicar logaritmo a la variable hsgpa para ver el efecto de un aumento porcentual sobre el ACT matemáticas."
   ]
  },
  {
   "cell_type": "markdown",
   "id": "c43e42e7",
   "metadata": {},
   "source": [
    "## 2. Regresión Nivel - Log\n",
    "\n",
    "En las regresiones Nivel - Log tendremos nuestra variable dependiente en niveles y nuesta independiente en log.\n",
    "Para este ejemplo usaremos la base de datos econmath del ejemplo anterior, pero esta vez estaremos interesados en determinar como un aumento porcentual en el promedio de High school afecta los resultados de la prueba de matemáticas ACT."
   ]
  },
  {
   "cell_type": "code",
   "execution_count": 97,
   "id": "09384ca9",
   "metadata": {},
   "outputs": [],
   "source": [
    "# Vamos a pasar esta variable a logaritmo\n",
    "lhsgpa = np.log(d0.hsgpa)"
   ]
  },
  {
   "cell_type": "code",
   "execution_count": 98,
   "id": "8b750080",
   "metadata": {},
   "outputs": [],
   "source": [
    "X01 = d0[['study','male' , 'colgpa',]].copy() \n",
    "X01['lhsgpa'] = lhsgpa \n",
    "X01 = sm.add_constant(X01)\n",
    "Y01 = d0.actmth"
   ]
  },
  {
   "cell_type": "code",
   "execution_count": 99,
   "id": "06d1fd9c",
   "metadata": {},
   "outputs": [
    {
     "name": "stdout",
     "output_type": "stream",
     "text": [
      "                            OLS Regression Results                            \n",
      "==============================================================================\n",
      "Dep. Variable:                 actmth   R-squared:                       0.226\n",
      "Model:                            OLS   Adj. R-squared:                  0.222\n",
      "Method:                 Least Squares   F-statistic:                     58.95\n",
      "Date:                Wed, 12 May 2021   Prob (F-statistic):           1.08e-43\n",
      "Time:                        12:59:28   Log-Likelihood:                -2131.4\n",
      "No. Observations:                 814   AIC:                             4273.\n",
      "Df Residuals:                     809   BIC:                             4296.\n",
      "Df Model:                           4                                         \n",
      "Covariance Type:            nonrobust                                         \n",
      "==============================================================================\n",
      "                 coef    std err          t      P>|t|      [0.025      0.975]\n",
      "------------------------------------------------------------------------------\n",
      "const          4.7701      1.391      3.430      0.001       2.040       7.500\n",
      "study         -0.0515      0.015     -3.402      0.001      -0.081      -0.022\n",
      "male           1.4687      0.238      6.163      0.000       1.001       1.936\n",
      "colgpa         1.0699      0.246      4.343      0.000       0.586       1.553\n",
      "lhsgpa        12.8224      1.279     10.022      0.000      10.311      15.334\n",
      "==============================================================================\n",
      "Omnibus:                        5.775   Durbin-Watson:                   2.050\n",
      "Prob(Omnibus):                  0.056   Jarque-Bera (JB):                5.808\n",
      "Skew:                           0.188   Prob(JB):                       0.0548\n",
      "Kurtosis:                       2.828   Cond. No.                         254.\n",
      "==============================================================================\n",
      "\n",
      "Notes:\n",
      "[1] Standard Errors assume that the covariance matrix of the errors is correctly specified.\n"
     ]
    }
   ],
   "source": [
    "reg1 = sm.OLS(endog=Y01, exog=X01, missing = 'drop')\n",
    "reg1 = reg1.fit()\n",
    "print(reg1.summary())"
   ]
  },
  {
   "cell_type": "markdown",
   "id": "53c1cd5b",
   "metadata": {},
   "source": [
    "Ahora, dado que esta es una regresión Nivel - Log, la interpretación para nuestra variable de interés \"lhsgpa\" será la siguiente:\n",
    "\n",
    "#### Ante un aumento de un 1% en el promedio de High School, los resultados en el ACT matemáticas aumentaran en promedio y manteniendo todo lo demás constante, en 0.128 puntos.\n",
    "\n",
    "Como se pudo observar, el coeficiente de lhsgpa se debe dividir por 100 para interpretar correctamente."
   ]
  },
  {
   "cell_type": "markdown",
   "id": "7cf5f0e9",
   "metadata": {},
   "source": [
    "## 3. Regresión Log - Nivel"
   ]
  },
  {
   "cell_type": "markdown",
   "id": "6e9cf410",
   "metadata": {},
   "source": [
    "Para este tipo de regresión importaremos una base de datos que contiene información sobre 526 trabajadores para el año 1976. Supongamos que estamos interesados en determinar el efecto de la educación sobre el salario por hora de los trabajadores. Este salario, lo tendremos en logaritmo, por lo que tendremos una interpretación Log - Nivel"
   ]
  },
  {
   "cell_type": "code",
   "execution_count": 100,
   "id": "6746346c",
   "metadata": {},
   "outputs": [
    {
     "data": {
      "text/html": [
       "<div>\n",
       "<style scoped>\n",
       "    .dataframe tbody tr th:only-of-type {\n",
       "        vertical-align: middle;\n",
       "    }\n",
       "\n",
       "    .dataframe tbody tr th {\n",
       "        vertical-align: top;\n",
       "    }\n",
       "\n",
       "    .dataframe thead th {\n",
       "        text-align: right;\n",
       "    }\n",
       "</style>\n",
       "<table border=\"1\" class=\"dataframe\">\n",
       "  <thead>\n",
       "    <tr style=\"text-align: right;\">\n",
       "      <th></th>\n",
       "      <th>wage</th>\n",
       "      <th>educ</th>\n",
       "      <th>exper</th>\n",
       "      <th>tenure</th>\n",
       "      <th>nonwhite</th>\n",
       "      <th>female</th>\n",
       "      <th>married</th>\n",
       "      <th>numdep</th>\n",
       "      <th>smsa</th>\n",
       "      <th>northcen</th>\n",
       "      <th>...</th>\n",
       "      <th>trcommpu</th>\n",
       "      <th>trade</th>\n",
       "      <th>services</th>\n",
       "      <th>profserv</th>\n",
       "      <th>profocc</th>\n",
       "      <th>clerocc</th>\n",
       "      <th>servocc</th>\n",
       "      <th>lwage</th>\n",
       "      <th>expersq</th>\n",
       "      <th>tenursq</th>\n",
       "    </tr>\n",
       "  </thead>\n",
       "  <tbody>\n",
       "    <tr>\n",
       "      <th>0</th>\n",
       "      <td>3.1</td>\n",
       "      <td>11</td>\n",
       "      <td>2</td>\n",
       "      <td>0</td>\n",
       "      <td>0</td>\n",
       "      <td>1</td>\n",
       "      <td>0</td>\n",
       "      <td>2</td>\n",
       "      <td>1</td>\n",
       "      <td>0</td>\n",
       "      <td>...</td>\n",
       "      <td>0</td>\n",
       "      <td>0</td>\n",
       "      <td>0</td>\n",
       "      <td>0</td>\n",
       "      <td>0</td>\n",
       "      <td>0</td>\n",
       "      <td>0</td>\n",
       "      <td>1.131402</td>\n",
       "      <td>4</td>\n",
       "      <td>0</td>\n",
       "    </tr>\n",
       "  </tbody>\n",
       "</table>\n",
       "<p>1 rows × 24 columns</p>\n",
       "</div>"
      ],
      "text/plain": [
       "   wage  educ  exper  tenure  nonwhite  female  married  numdep  smsa  \\\n",
       "0   3.1    11      2       0         0       1        0       2     1   \n",
       "\n",
       "   northcen  ...  trcommpu  trade  services  profserv  profocc  clerocc  \\\n",
       "0         0  ...         0      0         0         0        0        0   \n",
       "\n",
       "   servocc     lwage  expersq  tenursq  \n",
       "0        0  1.131402        4        0  \n",
       "\n",
       "[1 rows x 24 columns]"
      ]
     },
     "execution_count": 100,
     "metadata": {},
     "output_type": "execute_result"
    }
   ],
   "source": [
    "d1 = pd.read_stata(pathout + 'WAGE1.dta')\n",
    "d1.head(1)"
   ]
  },
  {
   "cell_type": "markdown",
   "id": "a550866d",
   "metadata": {},
   "source": [
    "####  Nuestra variable dependiente de interés\n",
    "- lwage:Variable con información del salario por hora de los trabajadores en logaritmo\n",
    "\n",
    "####  Nuestra variable independiente de interés:\n",
    "\n",
    "- educ: Variable con información de los años de educacion de los trabajadores \n",
    "\n",
    "#### Nuestros controles:\n",
    "\n",
    "- exper Variable con información de los años de experiencia del trabajador\n",
    "- expersq: Variable \"exper\" al cuadrado\n",
    "- female: Variable binaria que indica si el trabajador es hombre o mujer\n"
   ]
  },
  {
   "cell_type": "code",
   "execution_count": 101,
   "id": "c29a1f89",
   "metadata": {},
   "outputs": [],
   "source": [
    "X1 = d1[['educ','exper' , 'expersq' , 'female']] \n",
    "X1 = sm.add_constant(X1)\n",
    "Y = d1.lwage"
   ]
  },
  {
   "cell_type": "code",
   "execution_count": 102,
   "id": "e91fbad1",
   "metadata": {},
   "outputs": [
    {
     "name": "stdout",
     "output_type": "stream",
     "text": [
      "                            OLS Regression Results                            \n",
      "==============================================================================\n",
      "Dep. Variable:                  lwage   R-squared:                       0.400\n",
      "Model:                            OLS   Adj. R-squared:                  0.395\n",
      "Method:                 Least Squares   F-statistic:                     86.69\n",
      "Date:                Wed, 12 May 2021   Prob (F-statistic):           2.03e-56\n",
      "Time:                        12:59:29   Log-Likelihood:                -279.27\n",
      "No. Observations:                 526   AIC:                             568.5\n",
      "Df Residuals:                     521   BIC:                             589.9\n",
      "Df Model:                           4                                         \n",
      "Covariance Type:            nonrobust                                         \n",
      "==============================================================================\n",
      "                 coef    std err          t      P>|t|      [0.025      0.975]\n",
      "------------------------------------------------------------------------------\n",
      "const          0.3905      0.102      3.820      0.000       0.190       0.591\n",
      "educ           0.0841      0.007     12.094      0.000       0.070       0.098\n",
      "exper          0.0389      0.005      8.067      0.000       0.029       0.048\n",
      "expersq       -0.0007      0.000     -6.389      0.000      -0.001      -0.000\n",
      "female        -0.3372      0.036     -9.283      0.000      -0.409      -0.266\n",
      "==============================================================================\n",
      "Omnibus:                        7.110   Durbin-Watson:                   1.776\n",
      "Prob(Omnibus):                  0.029   Jarque-Bera (JB):               10.533\n",
      "Skew:                           0.007   Prob(JB):                      0.00516\n",
      "Kurtosis:                       3.693   Cond. No.                     4.44e+03\n",
      "==============================================================================\n",
      "\n",
      "Notes:\n",
      "[1] Standard Errors assume that the covariance matrix of the errors is correctly specified.\n",
      "[2] The condition number is large, 4.44e+03. This might indicate that there are\n",
      "strong multicollinearity or other numerical problems.\n"
     ]
    }
   ],
   "source": [
    "reg1 = sm.OLS(endog=Y, exog=X1,)\n",
    "reg1 = reg1.fit()\n",
    "print(reg1.summary())"
   ]
  },
  {
   "cell_type": "markdown",
   "id": "ce0eb0b7",
   "metadata": {},
   "source": [
    "Ahora teniendo en cuenta que wage esta en logaritmos y educ esta en niveles diremos que:\n",
    "\n",
    "#### Al aumentar en un año la educación de las personas, su salario por hora aumentaría en promedio en 8.41%, manteniendo lo demás constante. Esta estimación resulta ser altamente significativa. \n",
    "\n",
    "La estimación obtenida para el regresor educ se multiplica por 100."
   ]
  },
  {
   "cell_type": "markdown",
   "id": "8cc74db0",
   "metadata": {},
   "source": [
    "## 4. Regresión Log - Log"
   ]
  },
  {
   "cell_type": "markdown",
   "id": "c84e428b",
   "metadata": {},
   "source": [
    "Por ultimo, para realizar una regresión Log - Log, tanto nuestra variable dependiente como nuestra variable independiente deben estar en logaritmo.\n",
    "\n",
    "Para este caso estamos interesados en el efecto de un aumento porcentual en la experiencia sobre el salario por hora. Seguiremos usando la base de datos WAGE1 pero ahora, exper estará en logaritmo."
   ]
  },
  {
   "cell_type": "code",
   "execution_count": 103,
   "id": "bd2d7f2d",
   "metadata": {},
   "outputs": [],
   "source": [
    "#Pasamos esta variable a logaritmos\n",
    "lexper = np.log(d1.exper)"
   ]
  },
  {
   "cell_type": "code",
   "execution_count": 104,
   "id": "02768ab6",
   "metadata": {},
   "outputs": [],
   "source": [
    "X4 = d1[['educ' , 'expersq' , 'female']].copy() \n",
    "X4['lexper'] = lexper \n",
    "X4 = sm.add_constant(X4)\n",
    "Y4 = d1.lwage"
   ]
  },
  {
   "cell_type": "code",
   "execution_count": 105,
   "id": "b605577a",
   "metadata": {},
   "outputs": [
    {
     "name": "stdout",
     "output_type": "stream",
     "text": [
      "                            OLS Regression Results                            \n",
      "==============================================================================\n",
      "Dep. Variable:                  lwage   R-squared:                       0.408\n",
      "Model:                            OLS   Adj. R-squared:                  0.403\n",
      "Method:                 Least Squares   F-statistic:                     89.67\n",
      "Date:                Wed, 12 May 2021   Prob (F-statistic):           5.91e-58\n",
      "Time:                        12:59:30   Log-Likelihood:                -275.68\n",
      "No. Observations:                 526   AIC:                             561.4\n",
      "Df Residuals:                     521   BIC:                             582.7\n",
      "Df Model:                           4                                         \n",
      "Covariance Type:            nonrobust                                         \n",
      "==============================================================================\n",
      "                 coef    std err          t      P>|t|      [0.025      0.975]\n",
      "------------------------------------------------------------------------------\n",
      "const          0.2745      0.106      2.601      0.010       0.067       0.482\n",
      "educ           0.0837      0.007     12.103      0.000       0.070       0.097\n",
      "expersq       -0.0002   4.68e-05     -3.376      0.001      -0.000   -6.61e-05\n",
      "female        -0.3391      0.036     -9.404      0.000      -0.410      -0.268\n",
      "lexper         0.2235      0.026      8.551      0.000       0.172       0.275\n",
      "==============================================================================\n",
      "Omnibus:                        8.541   Durbin-Watson:                   1.759\n",
      "Prob(Omnibus):                  0.014   Jarque-Bera (JB):               13.283\n",
      "Skew:                           0.054   Prob(JB):                      0.00130\n",
      "Kurtosis:                       3.771   Cond. No.                     4.63e+03\n",
      "==============================================================================\n",
      "\n",
      "Notes:\n",
      "[1] Standard Errors assume that the covariance matrix of the errors is correctly specified.\n",
      "[2] The condition number is large, 4.63e+03. This might indicate that there are\n",
      "strong multicollinearity or other numerical problems.\n"
     ]
    }
   ],
   "source": [
    "reg4 = sm.OLS(endog=Y4, exog=X4, missing = 'drop',)\n",
    "reg4 = reg4.fit()\n",
    "print(reg4.summary())"
   ]
  },
  {
   "cell_type": "markdown",
   "id": "eafe5eaf",
   "metadata": {},
   "source": [
    "Teniendo en cuenta que tanto wage como exper esta en logaritmos, tendremos una interpretación log - log, y diremos que:\n",
    "\n",
    "#### Un aumento en un 1% en la experiencia de las personas aumenta en promedio y manteniendo lo demás constante, el salario por hora en 0.223 puntos porcentuales, siendo una estimación altamente significativa."
   ]
  },
  {
   "cell_type": "markdown",
   "id": "1b855de0",
   "metadata": {},
   "source": [
    "## 5. Variables Binarias\n",
    "Las variables binarias, también conocidas como variables Dummy o dicotomas, nos ayudan clasificar cuando se cumple o no una condición. Por ejemplo, en casos anteriores agregamos una variable de genero que nos indicaba cuando una persona era hombre o mujer. Por ejemplo en la base de datos WAGE1 tenemos una variable llamada \"female\" que le da valores de 1 a las mujeres y valores de 0 a los hombres.\n",
    "Estas variables nos ayudan a ver si existe una diferencia estadística entre dos grupos. Para el ejemplo anterior nos indica si existe una diferencia estadística entre los salarios por hora de los hombres y las mujeres."
   ]
  },
  {
   "cell_type": "markdown",
   "id": "eb49a7ee",
   "metadata": {},
   "source": [
    "Para dar un ejemplo de como se realiza la interpretacion, usaremos la base de datos econmath para ver si hay una diferencia estadistica entre las mujeres y los hombres en los resultados de la prueba de matematicas del ACT.\n",
    "Traeremos entonces lso resultados de la primera regresion pero ahora nos fijaremos en el coeficiente de la variable male."
   ]
  },
  {
   "cell_type": "code",
   "execution_count": 106,
   "id": "d6d9ae49",
   "metadata": {},
   "outputs": [
    {
     "name": "stdout",
     "output_type": "stream",
     "text": [
      "                            OLS Regression Results                            \n",
      "==============================================================================\n",
      "Dep. Variable:                 actmth   R-squared:                       0.229\n",
      "Model:                            OLS   Adj. R-squared:                  0.225\n",
      "Method:                 Least Squares   F-statistic:                     60.00\n",
      "Date:                Wed, 12 May 2021   Prob (F-statistic):           2.15e-44\n",
      "Time:                        12:59:31   Log-Likelihood:                -2129.7\n",
      "No. Observations:                 814   AIC:                             4269.\n",
      "Df Residuals:                     809   BIC:                             4293.\n",
      "Df Model:                           4                                         \n",
      "Covariance Type:            nonrobust                                         \n",
      "==============================================================================\n",
      "                 coef    std err          t      P>|t|      [0.025      0.975]\n",
      "------------------------------------------------------------------------------\n",
      "const          6.9690      1.188      5.867      0.000       4.637       9.301\n",
      "hsgpa          3.9937      0.391     10.204      0.000       3.225       4.762\n",
      "study         -0.0515      0.015     -3.406      0.001      -0.081      -0.022\n",
      "male           1.4803      0.238      6.222      0.000       1.013       1.947\n",
      "colgpa         1.0163      0.247      4.107      0.000       0.531       1.502\n",
      "==============================================================================\n",
      "Omnibus:                        5.739   Durbin-Watson:                   2.050\n",
      "Prob(Omnibus):                  0.057   Jarque-Bera (JB):                5.743\n",
      "Skew:                           0.184   Prob(JB):                       0.0566\n",
      "Kurtosis:                       2.817   Cond. No.                         174.\n",
      "==============================================================================\n",
      "\n",
      "Notes:\n",
      "[1] Standard Errors assume that the covariance matrix of the errors is correctly specified.\n"
     ]
    }
   ],
   "source": [
    "print(reg0.summary())"
   ]
  },
  {
   "cell_type": "markdown",
   "id": "a53ad45f",
   "metadata": {},
   "source": [
    "Este coeficiente se interpreta de la siguiente manera:\n",
    "\n",
    "#### Los hombres obtienen en promedio y manteniendo todo lo demás constante, 1.48 puntos de mas que las mujeres en la prueba de matemáticas del ACT.\n"
   ]
  },
  {
   "cell_type": "markdown",
   "id": "4f70a0f0",
   "metadata": {},
   "source": [
    "## 6. Interacciones entre variables Binarias\n",
    "\n",
    "Algo que también podemos hacer es realizar interacciones entre variables binarias. Suponiendo que tenemos dos variables binarias, una de genero y otra de color de piel que nos indica cuando una persona es blanca o de color. Podríamos interactuar estas variables para para diferenciar por ejemplo, el efecto de hombres blancos con hombres de color, mujeres de color y mujeres blancas. Dependiendo de nuestro objetivo, esto podría tener sentido.\n",
    "\n",
    "Para dar un ejemplo continuaremos con la base de datos econmath, y vamos a interactuar la variable binaria \"male\" y la variable binaria \"econhs\" que indica si la persona tuvo un curso de economía en High School. Esto se realiza de la siguiente forma:"
   ]
  },
  {
   "cell_type": "code",
   "execution_count": 107,
   "id": "b7f6196e",
   "metadata": {},
   "outputs": [
    {
     "data": {
      "text/plain": [
       "0      0\n",
       "1      1\n",
       "2      0\n",
       "3      0\n",
       "4      1\n",
       "      ..\n",
       "851    0\n",
       "852    1\n",
       "853    0\n",
       "854    0\n",
       "855    1\n",
       "Length: 856, dtype: int8"
      ]
     },
     "execution_count": 107,
     "metadata": {},
     "output_type": "execute_result"
    }
   ],
   "source": [
    "econmale = d0.male*d0.econhs\n",
    "econmale"
   ]
  },
  {
   "cell_type": "markdown",
   "id": "3a2e582c",
   "metadata": {},
   "source": [
    "Para tener una interpretación mas completa, en nuestra regresión añadiremos la variable \"male\" individualmente, la variable \"econhs\" y la interacción \"econmale\". En este caso, tendremos un grupo base, que serán las mujeres que no vieron un curso de economía en High School. Estas estarán representados con un 0 en la variable \"econmale\"."
   ]
  },
  {
   "cell_type": "code",
   "execution_count": 108,
   "id": "b69c3799",
   "metadata": {},
   "outputs": [],
   "source": [
    "# El paso a seguir es agregar estas variables como regresores:\n"
   ]
  },
  {
   "cell_type": "code",
   "execution_count": 109,
   "id": "9a433e7e",
   "metadata": {},
   "outputs": [],
   "source": [
    "X5 = d0[['hsgpa' ,'study','male' , 'econhs', 'colgpa']].copy()\n",
    "X5['econmale'] = econmale\n",
    "X5 = sm.add_constant(X5)\n",
    "Y5 = d0.actmth"
   ]
  },
  {
   "cell_type": "code",
   "execution_count": 110,
   "id": "156945ee",
   "metadata": {},
   "outputs": [
    {
     "name": "stdout",
     "output_type": "stream",
     "text": [
      "                            OLS Regression Results                            \n",
      "==============================================================================\n",
      "Dep. Variable:                 actmth   R-squared:                       0.236\n",
      "Model:                            OLS   Adj. R-squared:                  0.230\n",
      "Method:                 Least Squares   F-statistic:                     41.48\n",
      "Date:                Wed, 12 May 2021   Prob (F-statistic):           3.63e-44\n",
      "Time:                        12:59:33   Log-Likelihood:                -2126.1\n",
      "No. Observations:                 814   AIC:                             4266.\n",
      "Df Residuals:                     807   BIC:                             4299.\n",
      "Df Model:                           6                                         \n",
      "Covariance Type:            nonrobust                                         \n",
      "==============================================================================\n",
      "                 coef    std err          t      P>|t|      [0.025      0.975]\n",
      "------------------------------------------------------------------------------\n",
      "const          6.9577      1.188      5.855      0.000       4.625       9.290\n",
      "hsgpa          4.0884      0.392     10.431      0.000       3.319       4.858\n",
      "study         -0.0517      0.015     -3.432      0.001      -0.081      -0.022\n",
      "male           1.5998      0.295      5.415      0.000       1.020       2.180\n",
      "econhs        -0.5102      0.346     -1.475      0.141      -1.189       0.169\n",
      "colgpa         0.9711      0.248      3.918      0.000       0.485       1.458\n",
      "econmale      -0.2603      0.484     -0.538      0.590      -1.210       0.689\n",
      "==============================================================================\n",
      "Omnibus:                        5.188   Durbin-Watson:                   2.058\n",
      "Prob(Omnibus):                  0.075   Jarque-Bera (JB):                5.252\n",
      "Skew:                           0.182   Prob(JB):                       0.0724\n",
      "Kurtosis:                       2.848   Cond. No.                         175.\n",
      "==============================================================================\n",
      "\n",
      "Notes:\n",
      "[1] Standard Errors assume that the covariance matrix of the errors is correctly specified.\n"
     ]
    }
   ],
   "source": [
    "reg5 = sm.OLS(endog=Y5, exog=X5, missing = 'drop')\n",
    "reg5 = reg5.fit()\n",
    "print(reg5.summary())"
   ]
  },
  {
   "cell_type": "markdown",
   "id": "a799491d",
   "metadata": {},
   "source": [
    "La interpretación se complica un poco en estos casos, pero veamoso de la siguiente forma. Nuestra ecuación estimada es la siguiente:\n",
    "\n",
    "\n",
    "$ actmth = \\beta_{0} + \\beta_{1}male + \\beta_{2}econ + \\beta_{3}econmale + ...$\n",
    "\n",
    "\n",
    "Si queremos encontrar el efecto de cualquier grupo respecto de las mujeres que no vieron un curso de economía (grupo base), lo haremos de la siguiente forma:\n",
    "\n",
    "- Hombres y curso de economía: $\\beta_{1} + \\beta_{2} + \\beta_{3}$\n",
    "\n",
    "- Hombres sin curso de economía: $\\beta_{1}$\n",
    "\n",
    "- Mujeres y curso de economía: $ \\beta_{2}$\n",
    "\n",
    "Siguiendo la idea anterior, podemos decir que:\n",
    "\n",
    "#### Los hombres que si vieron un curso de economía en High School obtienen en promedio y con todo lo demás constante, $(1.59  - 0.51 - 0.26)$ puntos de mas que las mujeres que no vieron un curso de economía.\n",
    "\n",
    " Nota: Por ahora ignoremos la significancia estadística\n"
   ]
  },
  {
   "cell_type": "markdown",
   "id": "1fad40c3",
   "metadata": {},
   "source": [
    "## 7. R cuadrado\n",
    "\n",
    "El $R^{2}$ nos dice que tanto mis regresores explican la variación en y.\n",
    "Matemáticamente tendremos que $R^{2}$ se escribe como:\n",
    "\n",
    "\n",
    "$ R^{2} = \\frac{\\sum_{i=1}^{n}{(\\hat{y} - \\bar{y})^{2}}}{\\sum_{i=1}^{n}{(y_{i} - \\bar{y})^{2}}} = \\frac{SSE}{SST} $\n",
    "\n",
    "\n",
    "\n",
    "Donde SSE es la suma explicada de cuadrados y SST es la suma total de cuadrados. Es importante notar que con el $R^{2}$ aumenta a medida que añadimos regresores. Es por esto que aparece el $R^{2} Ajustado$, en el cual el coeficiente puede disminuir si se añade un regresor que no aporta nada a nuestra regresión.\n",
    "\n",
    "Este R cuadrado lo podemos encontrar también en cada regresión que realizamos."
   ]
  },
  {
   "cell_type": "code",
   "execution_count": 111,
   "id": "27b52697",
   "metadata": {},
   "outputs": [
    {
     "name": "stdout",
     "output_type": "stream",
     "text": [
      "                            OLS Regression Results                            \n",
      "==============================================================================\n",
      "Dep. Variable:                 actmth   R-squared:                       0.236\n",
      "Model:                            OLS   Adj. R-squared:                  0.230\n",
      "Method:                 Least Squares   F-statistic:                     41.48\n",
      "Date:                Wed, 12 May 2021   Prob (F-statistic):           3.63e-44\n",
      "Time:                        12:59:33   Log-Likelihood:                -2126.1\n",
      "No. Observations:                 814   AIC:                             4266.\n",
      "Df Residuals:                     807   BIC:                             4299.\n",
      "Df Model:                           6                                         \n",
      "Covariance Type:            nonrobust                                         \n",
      "==============================================================================\n",
      "                 coef    std err          t      P>|t|      [0.025      0.975]\n",
      "------------------------------------------------------------------------------\n",
      "const          6.9577      1.188      5.855      0.000       4.625       9.290\n",
      "hsgpa          4.0884      0.392     10.431      0.000       3.319       4.858\n",
      "study         -0.0517      0.015     -3.432      0.001      -0.081      -0.022\n",
      "male           1.5998      0.295      5.415      0.000       1.020       2.180\n",
      "econhs        -0.5102      0.346     -1.475      0.141      -1.189       0.169\n",
      "colgpa         0.9711      0.248      3.918      0.000       0.485       1.458\n",
      "econmale      -0.2603      0.484     -0.538      0.590      -1.210       0.689\n",
      "==============================================================================\n",
      "Omnibus:                        5.188   Durbin-Watson:                   2.058\n",
      "Prob(Omnibus):                  0.075   Jarque-Bera (JB):                5.252\n",
      "Skew:                           0.182   Prob(JB):                       0.0724\n",
      "Kurtosis:                       2.848   Cond. No.                         175.\n",
      "==============================================================================\n",
      "\n",
      "Notes:\n",
      "[1] Standard Errors assume that the covariance matrix of the errors is correctly specified.\n"
     ]
    }
   ],
   "source": [
    "# Para el ejercicio anterior:\n",
    "print(reg5.summary())"
   ]
  },
  {
   "cell_type": "markdown",
   "id": "8302784f",
   "metadata": {},
   "source": [
    "#### En este caso podemos decir que nuestros regresores explican un 23.6% de nuestra variable dependiente \"actmth\". \n",
    "Esto lo podemos ver en la esquina superior derecha de la tabla de regresión, en la parte que dice R-squared."
   ]
  },
  {
   "cell_type": "markdown",
   "id": "f09ee7a4",
   "metadata": {},
   "source": [
    "## 8. Estadístico t\n",
    "\n",
    "La distribución t con m grados de libertad se obtiene dividiendo una normal estándar $z$ por la raíz de una Chi cuadrado $\\sqrt{X^{2}}$. El resultado se distribuye t con m grados de libertad. Despues de algo de matematicas llegamos a: \n",
    "\n",
    "$\\frac{\\hat\\beta_{i} - q}{\\sqrt{{\\hat\\sigma_{\\epsilon}}^{2}(X'X)^{-1}}} \\sim t_{n - k - 1}$\n",
    "\n",
    "Para lo que nos interesa, al realizar una regresión utilizamos el estadístico t para ver si una estimación es estadísticamente significativa o no. Usualmente se usa que q = 0, para probar la significancia estadistica pero no tiene que ser necesariamente así.\n",
    "\n",
    "Específicamente podemos ver la significancia de una estimación a través del valor de la t o de su p-value (son equivalentes):\n",
    "\n",
    "Cuando ocurre que:\n",
    "\n",
    " - $p-value < $  nivel de significancia \n",
    " o  \n",
    " - $t > $valor critico\n",
    " \n",
    "\n",
    "\n",
    "entonces, rechazamos $H_{0}$ en favor de $H_{1}$.\n",
    "\n",
    "\n",
    "$H_{0}$: La estimación no es significativa\n",
    "\n",
    "$H_{1}$: La estimación es significativa.\n"
   ]
  },
  {
   "cell_type": "markdown",
   "id": "b3223deb",
   "metadata": {},
   "source": [
    "Suponiendo que tenemos la siguiente tabla de regresión:"
   ]
  },
  {
   "cell_type": "code",
   "execution_count": 112,
   "id": "dc6bc470",
   "metadata": {},
   "outputs": [
    {
     "name": "stdout",
     "output_type": "stream",
     "text": [
      "                            OLS Regression Results                            \n",
      "==============================================================================\n",
      "Dep. Variable:                 actmth   R-squared:                       0.236\n",
      "Model:                            OLS   Adj. R-squared:                  0.230\n",
      "Method:                 Least Squares   F-statistic:                     41.48\n",
      "Date:                Wed, 12 May 2021   Prob (F-statistic):           3.63e-44\n",
      "Time:                        12:59:34   Log-Likelihood:                -2126.1\n",
      "No. Observations:                 814   AIC:                             4266.\n",
      "Df Residuals:                     807   BIC:                             4299.\n",
      "Df Model:                           6                                         \n",
      "Covariance Type:            nonrobust                                         \n",
      "==============================================================================\n",
      "                 coef    std err          t      P>|t|      [0.025      0.975]\n",
      "------------------------------------------------------------------------------\n",
      "const          6.9577      1.188      5.855      0.000       4.625       9.290\n",
      "hsgpa          4.0884      0.392     10.431      0.000       3.319       4.858\n",
      "study         -0.0517      0.015     -3.432      0.001      -0.081      -0.022\n",
      "male           1.5998      0.295      5.415      0.000       1.020       2.180\n",
      "econhs        -0.5102      0.346     -1.475      0.141      -1.189       0.169\n",
      "colgpa         0.9711      0.248      3.918      0.000       0.485       1.458\n",
      "econmale      -0.2603      0.484     -0.538      0.590      -1.210       0.689\n",
      "==============================================================================\n",
      "Omnibus:                        5.188   Durbin-Watson:                   2.058\n",
      "Prob(Omnibus):                  0.075   Jarque-Bera (JB):                5.252\n",
      "Skew:                           0.182   Prob(JB):                       0.0724\n",
      "Kurtosis:                       2.848   Cond. No.                         175.\n",
      "==============================================================================\n",
      "\n",
      "Notes:\n",
      "[1] Standard Errors assume that the covariance matrix of the errors is correctly specified.\n"
     ]
    }
   ],
   "source": [
    "print(reg5.summary())"
   ]
  },
  {
   "cell_type": "markdown",
   "id": "c7014f7f",
   "metadata": {},
   "source": [
    "#### Diremos que nuestro regresor econmale no es significativo ya que tiene un p-value de 0.59, pero colgpa es altamente significativo ya que su p-value es de 0.000. Esto lo podemos ver en la parte principal de la tabla.\n",
    "\n",
    "Si vemos los estadísticos t llegaríamos a la misma conclusión."
   ]
  },
  {
   "cell_type": "markdown",
   "id": "f7dc8f5f",
   "metadata": {},
   "source": [
    "## 9. Estadístico F\n",
    "\n",
    "La idea del estadístico F es imponer varias restricciones al mismo tiempo. El caso mas comun es ver si  $\\beta_{1} =\\beta_{2} = \\beta_{3} = 0$, es decir, si estas 3 variables son conjuntamente no significativas. El estadístico F compara dos regresiones, una restringida y otra sin ninguna restricción. El punto es que si la suma de residuos al cuadrado de las dos regresiones es estadísticamente igual, es porque mi $H_{0}$ es verdad, y no la rechazaríamos.\n",
    "\n",
    "\n",
    "El estadístico F puede ser visto en terminos del R cuadrado como:\n",
    "\n",
    "  $F = \\frac{R^{2}/(n - k - 1)}{(1-R^{2}/(k))} \\sim F_{r, n - k - 1} $\n",
    "\n",
    "En otras palabras, el estadístico F nos indica cuando nuestros regresores son conjuntamente significativos. Este estadístico resulta útil cuando hay alta correlación entre nuestros regresores, lo cual hace que el estadístico t no sea tan confiable para rechazar significancia. Un ejemplo claro es el siguiente:\n",
    "\n",
    "En el punto anterior rechazamos significancia estadística de la variable econmale, lo cual nos haría pensar que debemos eliminar este regresor, pero..."
   ]
  },
  {
   "cell_type": "code",
   "execution_count": 113,
   "id": "37db257a",
   "metadata": {},
   "outputs": [
    {
     "name": "stdout",
     "output_type": "stream",
     "text": [
      "                            OLS Regression Results                            \n",
      "==============================================================================\n",
      "Dep. Variable:                 actmth   R-squared:                       0.236\n",
      "Model:                            OLS   Adj. R-squared:                  0.230\n",
      "Method:                 Least Squares   F-statistic:                     41.48\n",
      "Date:                Wed, 12 May 2021   Prob (F-statistic):           3.63e-44\n",
      "Time:                        12:59:35   Log-Likelihood:                -2126.1\n",
      "No. Observations:                 814   AIC:                             4266.\n",
      "Df Residuals:                     807   BIC:                             4299.\n",
      "Df Model:                           6                                         \n",
      "Covariance Type:            nonrobust                                         \n",
      "==============================================================================\n",
      "                 coef    std err          t      P>|t|      [0.025      0.975]\n",
      "------------------------------------------------------------------------------\n",
      "const          6.9577      1.188      5.855      0.000       4.625       9.290\n",
      "hsgpa          4.0884      0.392     10.431      0.000       3.319       4.858\n",
      "study         -0.0517      0.015     -3.432      0.001      -0.081      -0.022\n",
      "male           1.5998      0.295      5.415      0.000       1.020       2.180\n",
      "econhs        -0.5102      0.346     -1.475      0.141      -1.189       0.169\n",
      "colgpa         0.9711      0.248      3.918      0.000       0.485       1.458\n",
      "econmale      -0.2603      0.484     -0.538      0.590      -1.210       0.689\n",
      "==============================================================================\n",
      "Omnibus:                        5.188   Durbin-Watson:                   2.058\n",
      "Prob(Omnibus):                  0.075   Jarque-Bera (JB):                5.252\n",
      "Skew:                           0.182   Prob(JB):                       0.0724\n",
      "Kurtosis:                       2.848   Cond. No.                         175.\n",
      "==============================================================================\n",
      "\n",
      "Notes:\n",
      "[1] Standard Errors assume that the covariance matrix of the errors is correctly specified.\n"
     ]
    }
   ],
   "source": [
    "print(reg5.summary())"
   ]
  },
  {
   "cell_type": "markdown",
   "id": "4ca84057",
   "metadata": {},
   "source": [
    "#### Como podemos ver en la tabla, en la esquina superior derecha, la probabilidad del estadístico F es un numero muy cercano a 0, por lo que rechazamos que nuestros estimadores sean no significativos conjuntamente. En otras palabras, todos nuestros regresores son significativos conjuntamente!."
   ]
  },
  {
   "cell_type": "markdown",
   "id": "aa6ad71c",
   "metadata": {},
   "source": [
    "Este es el final del segundo documento de Introducción a Python para el análisis de datos. Si necesitan cualquier cosa pueden ponerse en contacto conmigo al correo Juan.rinconp@javeriana.edu.co"
   ]
  }
 ],
 "metadata": {
  "kernelspec": {
   "display_name": "Python 3",
   "language": "python",
   "name": "python3"
  },
  "language_info": {
   "codemirror_mode": {
    "name": "ipython",
    "version": 3
   },
   "file_extension": ".py",
   "mimetype": "text/x-python",
   "name": "python",
   "nbconvert_exporter": "python",
   "pygments_lexer": "ipython3",
   "version": "3.8.8"
  },
  "nbTranslate": {
   "displayLangs": [
    "*"
   ],
   "hotkey": "alt-t",
   "langInMainMenu": true,
   "sourceLang": "en",
   "targetLang": "fr",
   "useGoogleTranslate": true
  }
 },
 "nbformat": 4,
 "nbformat_minor": 5
}
