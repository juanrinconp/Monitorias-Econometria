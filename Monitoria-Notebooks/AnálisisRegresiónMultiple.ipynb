{
 "cells": [
  {
   "cell_type": "markdown",
   "id": "0dbc3d8b",
   "metadata": {},
   "source": [
    "## Monitoria 2 - Econometría\n",
    "### Pontificia Universidad Javeriana\n",
    "#### Análisis de Regresión Multiple - En proceso de creación"
   ]
  },
  {
   "cell_type": "markdown",
   "id": "c3f5ef8e",
   "metadata": {},
   "source": [
    "El objetivo de este documento es dar ejemplos de los tipos de regresiones que podemos realizar y de como se hacen en Python. Tanto de sus formas funcionales como de los tipos de regresores (variables continuas, binarias, interacciones, etc.)"
   ]
  },
  {
   "cell_type": "code",
   "execution_count": 1,
   "id": "c064e55c",
   "metadata": {},
   "outputs": [],
   "source": [
    "import pandas as pd \n",
    "import numpy as np \n",
    "import os \n",
    "\n",
    "pathout = './data/'\n",
    "if not os.path.exists(pathout):\n",
    "    os.mkdir(pathout) \n",
    "    pathgraphs = './graphs/'\n",
    "    if not os.path.exists(pathgraphs): \n",
    "        os.mkdir(pathgraphs) "
   ]
  },
  {
   "cell_type": "markdown",
   "id": "cbfd99c2",
   "metadata": {},
   "source": [
    "Con las variables anteriores vamos a realizar algunas regresiones y comentaremos nuestros resultados."
   ]
  },
  {
   "cell_type": "code",
   "execution_count": 7,
   "id": "9d281960",
   "metadata": {},
   "outputs": [],
   "source": [
    "import statsmodels.api as sm\n",
    "import statsmodels.formula.api as smf"
   ]
  },
  {
   "cell_type": "markdown",
   "id": "1b18965e",
   "metadata": {},
   "source": [
    "## Regresión Nivel - nivel"
   ]
  },
  {
   "cell_type": "markdown",
   "id": "c43e42e7",
   "metadata": {},
   "source": [
    "## Regresión Nivel - Log"
   ]
  },
  {
   "cell_type": "markdown",
   "id": "7cf5f0e9",
   "metadata": {},
   "source": [
    "## Regresión Log - Nivel"
   ]
  },
  {
   "cell_type": "markdown",
   "id": "6e9cf410",
   "metadata": {},
   "source": [
    "Para este tipo de regresión importaremos una base de datos que contiene información sobre 526 trabajadores para el año 1976. Supongamos que estamos interesados en determinar el efecto de la educación sobre el salario por hora de los trabajadores. Este salario, lo tendremos en logaritmo, por lo que tendremos una interpretación Log - Nivel"
   ]
  },
  {
   "cell_type": "code",
   "execution_count": 15,
   "id": "6746346c",
   "metadata": {},
   "outputs": [
    {
     "data": {
      "text/html": [
       "<div>\n",
       "<style scoped>\n",
       "    .dataframe tbody tr th:only-of-type {\n",
       "        vertical-align: middle;\n",
       "    }\n",
       "\n",
       "    .dataframe tbody tr th {\n",
       "        vertical-align: top;\n",
       "    }\n",
       "\n",
       "    .dataframe thead th {\n",
       "        text-align: right;\n",
       "    }\n",
       "</style>\n",
       "<table border=\"1\" class=\"dataframe\">\n",
       "  <thead>\n",
       "    <tr style=\"text-align: right;\">\n",
       "      <th></th>\n",
       "      <th>wage</th>\n",
       "      <th>educ</th>\n",
       "      <th>exper</th>\n",
       "      <th>tenure</th>\n",
       "      <th>nonwhite</th>\n",
       "      <th>female</th>\n",
       "      <th>married</th>\n",
       "      <th>numdep</th>\n",
       "      <th>smsa</th>\n",
       "      <th>northcen</th>\n",
       "      <th>...</th>\n",
       "      <th>trcommpu</th>\n",
       "      <th>trade</th>\n",
       "      <th>services</th>\n",
       "      <th>profserv</th>\n",
       "      <th>profocc</th>\n",
       "      <th>clerocc</th>\n",
       "      <th>servocc</th>\n",
       "      <th>lwage</th>\n",
       "      <th>expersq</th>\n",
       "      <th>tenursq</th>\n",
       "    </tr>\n",
       "  </thead>\n",
       "  <tbody>\n",
       "    <tr>\n",
       "      <th>0</th>\n",
       "      <td>3.10</td>\n",
       "      <td>11</td>\n",
       "      <td>2</td>\n",
       "      <td>0</td>\n",
       "      <td>0</td>\n",
       "      <td>1</td>\n",
       "      <td>0</td>\n",
       "      <td>2</td>\n",
       "      <td>1</td>\n",
       "      <td>0</td>\n",
       "      <td>...</td>\n",
       "      <td>0</td>\n",
       "      <td>0</td>\n",
       "      <td>0</td>\n",
       "      <td>0</td>\n",
       "      <td>0</td>\n",
       "      <td>0</td>\n",
       "      <td>0</td>\n",
       "      <td>1.131402</td>\n",
       "      <td>4</td>\n",
       "      <td>0</td>\n",
       "    </tr>\n",
       "    <tr>\n",
       "      <th>1</th>\n",
       "      <td>3.24</td>\n",
       "      <td>12</td>\n",
       "      <td>22</td>\n",
       "      <td>2</td>\n",
       "      <td>0</td>\n",
       "      <td>1</td>\n",
       "      <td>1</td>\n",
       "      <td>3</td>\n",
       "      <td>1</td>\n",
       "      <td>0</td>\n",
       "      <td>...</td>\n",
       "      <td>0</td>\n",
       "      <td>0</td>\n",
       "      <td>1</td>\n",
       "      <td>0</td>\n",
       "      <td>0</td>\n",
       "      <td>0</td>\n",
       "      <td>1</td>\n",
       "      <td>1.175573</td>\n",
       "      <td>484</td>\n",
       "      <td>4</td>\n",
       "    </tr>\n",
       "    <tr>\n",
       "      <th>2</th>\n",
       "      <td>3.00</td>\n",
       "      <td>11</td>\n",
       "      <td>2</td>\n",
       "      <td>0</td>\n",
       "      <td>0</td>\n",
       "      <td>0</td>\n",
       "      <td>0</td>\n",
       "      <td>2</td>\n",
       "      <td>0</td>\n",
       "      <td>0</td>\n",
       "      <td>...</td>\n",
       "      <td>0</td>\n",
       "      <td>1</td>\n",
       "      <td>0</td>\n",
       "      <td>0</td>\n",
       "      <td>0</td>\n",
       "      <td>0</td>\n",
       "      <td>0</td>\n",
       "      <td>1.098612</td>\n",
       "      <td>4</td>\n",
       "      <td>0</td>\n",
       "    </tr>\n",
       "    <tr>\n",
       "      <th>3</th>\n",
       "      <td>6.00</td>\n",
       "      <td>8</td>\n",
       "      <td>44</td>\n",
       "      <td>28</td>\n",
       "      <td>0</td>\n",
       "      <td>0</td>\n",
       "      <td>1</td>\n",
       "      <td>0</td>\n",
       "      <td>1</td>\n",
       "      <td>0</td>\n",
       "      <td>...</td>\n",
       "      <td>0</td>\n",
       "      <td>0</td>\n",
       "      <td>0</td>\n",
       "      <td>0</td>\n",
       "      <td>0</td>\n",
       "      <td>1</td>\n",
       "      <td>0</td>\n",
       "      <td>1.791759</td>\n",
       "      <td>1936</td>\n",
       "      <td>784</td>\n",
       "    </tr>\n",
       "    <tr>\n",
       "      <th>4</th>\n",
       "      <td>5.30</td>\n",
       "      <td>12</td>\n",
       "      <td>7</td>\n",
       "      <td>2</td>\n",
       "      <td>0</td>\n",
       "      <td>0</td>\n",
       "      <td>1</td>\n",
       "      <td>1</td>\n",
       "      <td>0</td>\n",
       "      <td>0</td>\n",
       "      <td>...</td>\n",
       "      <td>0</td>\n",
       "      <td>0</td>\n",
       "      <td>0</td>\n",
       "      <td>0</td>\n",
       "      <td>0</td>\n",
       "      <td>0</td>\n",
       "      <td>0</td>\n",
       "      <td>1.667707</td>\n",
       "      <td>49</td>\n",
       "      <td>4</td>\n",
       "    </tr>\n",
       "  </tbody>\n",
       "</table>\n",
       "<p>5 rows × 24 columns</p>\n",
       "</div>"
      ],
      "text/plain": [
       "   wage  educ  exper  tenure  nonwhite  female  married  numdep  smsa  \\\n",
       "0  3.10    11      2       0         0       1        0       2     1   \n",
       "1  3.24    12     22       2         0       1        1       3     1   \n",
       "2  3.00    11      2       0         0       0        0       2     0   \n",
       "3  6.00     8     44      28         0       0        1       0     1   \n",
       "4  5.30    12      7       2         0       0        1       1     0   \n",
       "\n",
       "   northcen  ...  trcommpu  trade  services  profserv  profocc  clerocc  \\\n",
       "0         0  ...         0      0         0         0        0        0   \n",
       "1         0  ...         0      0         1         0        0        0   \n",
       "2         0  ...         0      1         0         0        0        0   \n",
       "3         0  ...         0      0         0         0        0        1   \n",
       "4         0  ...         0      0         0         0        0        0   \n",
       "\n",
       "   servocc     lwage  expersq  tenursq  \n",
       "0        0  1.131402        4        0  \n",
       "1        1  1.175573      484        4  \n",
       "2        0  1.098612        4        0  \n",
       "3        0  1.791759     1936      784  \n",
       "4        0  1.667707       49        4  \n",
       "\n",
       "[5 rows x 24 columns]"
      ]
     },
     "execution_count": 15,
     "metadata": {},
     "output_type": "execute_result"
    }
   ],
   "source": [
    "d1 = pd.read_stata(pathout + 'WAGE1.dta')\n",
    "d1.head(5)"
   ]
  },
  {
   "cell_type": "markdown",
   "id": "a550866d",
   "metadata": {},
   "source": [
    "####  Nuestra variable dependiente de interés\n",
    "- lwage:Variable con información del salario por hora de los trabajadores en logaritmo\n",
    "\n",
    "####  Nuestra variable independiente de interés:\n",
    "\n",
    "- educ: Variable con información de los años de educacion de los trabajadores \n",
    "\n",
    "#### Nuestros controles:\n",
    "\n",
    "- exper Variable con información de los años de experiencia del trabajador\n",
    "- expersq: Variable \"exper\" al cuadrado\n",
    "- female: Variable binaria que indica si el trabajador es hombre o mujer\n"
   ]
  },
  {
   "cell_type": "code",
   "execution_count": 23,
   "id": "c29a1f89",
   "metadata": {},
   "outputs": [],
   "source": [
    "X1 = d1[['educ','exper' , 'expersq' , 'female']] \n",
    "X1 = sm.add_constant(X1)\n",
    "Y = d1.lwage"
   ]
  },
  {
   "cell_type": "code",
   "execution_count": 24,
   "id": "e91fbad1",
   "metadata": {},
   "outputs": [
    {
     "name": "stdout",
     "output_type": "stream",
     "text": [
      "                            OLS Regression Results                            \n",
      "==============================================================================\n",
      "Dep. Variable:                  lwage   R-squared:                       0.400\n",
      "Model:                            OLS   Adj. R-squared:                  0.395\n",
      "Method:                 Least Squares   F-statistic:                     86.69\n",
      "Date:                Tue, 11 May 2021   Prob (F-statistic):           2.03e-56\n",
      "Time:                        20:06:05   Log-Likelihood:                -279.27\n",
      "No. Observations:                 526   AIC:                             568.5\n",
      "Df Residuals:                     521   BIC:                             589.9\n",
      "Df Model:                           4                                         \n",
      "Covariance Type:            nonrobust                                         \n",
      "==============================================================================\n",
      "                 coef    std err          t      P>|t|      [0.025      0.975]\n",
      "------------------------------------------------------------------------------\n",
      "const          0.3905      0.102      3.820      0.000       0.190       0.591\n",
      "educ           0.0841      0.007     12.094      0.000       0.070       0.098\n",
      "exper          0.0389      0.005      8.067      0.000       0.029       0.048\n",
      "expersq       -0.0007      0.000     -6.389      0.000      -0.001      -0.000\n",
      "female        -0.3372      0.036     -9.283      0.000      -0.409      -0.266\n",
      "==============================================================================\n",
      "Omnibus:                        7.110   Durbin-Watson:                   1.776\n",
      "Prob(Omnibus):                  0.029   Jarque-Bera (JB):               10.533\n",
      "Skew:                           0.007   Prob(JB):                      0.00516\n",
      "Kurtosis:                       3.693   Cond. No.                     4.44e+03\n",
      "==============================================================================\n",
      "\n",
      "Notes:\n",
      "[1] Standard Errors assume that the covariance matrix of the errors is correctly specified.\n",
      "[2] The condition number is large, 4.44e+03. This might indicate that there are\n",
      "strong multicollinearity or other numerical problems.\n"
     ]
    }
   ],
   "source": [
    "reg1 = sm.OLS(endog=Y, exog=X1,)\n",
    "reg1 = reg1.fit()\n",
    "print(reg1.summary())"
   ]
  },
  {
   "cell_type": "markdown",
   "id": "ce0eb0b7",
   "metadata": {},
   "source": [
    "Ahora teniendo en cuenta que wage esta en logaritmos y educ esta en niveles diremos que:\n",
    "\n",
    "##### Al aumentar en un año la educación de las personas, su salario por hora aumentaría en promedio en 8.41%, manteniendo lo demás constante. Esta estimación resulta ser altamente significativa. \n",
    "\n",
    "La estimación obtenida para el regresor educ se multiplica por 100."
   ]
  },
  {
   "cell_type": "markdown",
   "id": "8cc74db0",
   "metadata": {},
   "source": [
    "## Regresión Log - Log"
   ]
  },
  {
   "cell_type": "code",
   "execution_count": null,
   "id": "48b5d628",
   "metadata": {},
   "outputs": [],
   "source": []
  }
 ],
 "metadata": {
  "kernelspec": {
   "display_name": "Python 3",
   "language": "python",
   "name": "python3"
  },
  "language_info": {
   "codemirror_mode": {
    "name": "ipython",
    "version": 3
   },
   "file_extension": ".py",
   "mimetype": "text/x-python",
   "name": "python",
   "nbconvert_exporter": "python",
   "pygments_lexer": "ipython3",
   "version": "3.8.8"
  },
  "nbTranslate": {
   "displayLangs": [
    "*"
   ],
   "hotkey": "alt-t",
   "langInMainMenu": true,
   "sourceLang": "en",
   "targetLang": "fr",
   "useGoogleTranslate": true
  }
 },
 "nbformat": 4,
 "nbformat_minor": 5
}
